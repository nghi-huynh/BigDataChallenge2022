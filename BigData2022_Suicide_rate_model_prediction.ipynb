{
 "cells": [
  {
   "cell_type": "code",
   "execution_count": null,
   "metadata": {
    "id": "SIgFyqMB7QFf"
   },
   "outputs": [],
   "source": [
    "import os\n",
    "import pandas as pd\n",
    "import numpy as np\n",
    "import seaborn as sns\n",
    "import random\n",
    "import matplotlib.pyplot as plt\n",
    "%matplotlib inline\n",
    "import plotly.graph_objs as go\n",
    "import plotly.offline as pyo\n",
    "import plotly.figure_factory as ff\n",
    "import plotly.express as px\n",
    "from plotly import tools\n",
    "from plotly.subplots import make_subplots\n",
    "from plotly.offline import iplot\n",
    "from IPython import display \n",
    "\n",
    "from sklearn.model_selection import train_test_split\n",
    "from matplotlib.pyplot import figure\n",
    "\n",
    "from sklearn.preprocessing import StandardScaler, MinMaxScaler\n",
    "\n",
    "# models\n",
    "from sklearn.linear_model import LogisticRegression\n",
    "from sklearn.tree import DecisionTreeClassifier\n",
    "from sklearn.ensemble import RandomForestRegressor, ExtraTreesClassifier"
   ]
  },
  {
   "cell_type": "code",
   "execution_count": null,
   "metadata": {
    "colab": {
     "base_uri": "https://localhost:8080/"
    },
    "id": "4SzE_rVJW2Dr",
    "outputId": "2fd631ec-5f6a-4e29-e693-db934198f375"
   },
   "outputs": [
    {
     "name": "stdout",
     "output_type": "stream",
     "text": [
      "Looking in indexes: https://pypi.org/simple, https://us-python.pkg.dev/colab-wheels/public/simple/\n",
      "Collecting tslearn\n",
      "  Downloading tslearn-0.5.2-cp37-cp37m-manylinux_2_5_x86_64.manylinux1_x86_64.manylinux_2_12_x86_64.manylinux2010_x86_64.whl (793 kB)\n",
      "\u001b[K     |████████████████████████████████| 793 kB 4.2 MB/s \n",
      "\u001b[?25hRequirement already satisfied: numpy in /usr/local/lib/python3.7/dist-packages (from tslearn) (1.21.6)\n",
      "Requirement already satisfied: joblib in /usr/local/lib/python3.7/dist-packages (from tslearn) (1.1.0)\n",
      "Requirement already satisfied: Cython in /usr/local/lib/python3.7/dist-packages (from tslearn) (0.29.30)\n",
      "Requirement already satisfied: scikit-learn in /usr/local/lib/python3.7/dist-packages (from tslearn) (1.0.2)\n",
      "Requirement already satisfied: numba in /usr/local/lib/python3.7/dist-packages (from tslearn) (0.51.2)\n",
      "Requirement already satisfied: scipy in /usr/local/lib/python3.7/dist-packages (from tslearn) (1.4.1)\n",
      "Requirement already satisfied: llvmlite<0.35,>=0.34.0.dev0 in /usr/local/lib/python3.7/dist-packages (from numba->tslearn) (0.34.0)\n",
      "Requirement already satisfied: setuptools in /usr/local/lib/python3.7/dist-packages (from numba->tslearn) (57.4.0)\n",
      "Requirement already satisfied: threadpoolctl>=2.0.0 in /usr/local/lib/python3.7/dist-packages (from scikit-learn->tslearn) (3.1.0)\n",
      "Installing collected packages: tslearn\n",
      "Successfully installed tslearn-0.5.2\n"
     ]
    }
   ],
   "source": [
    "!pip install tslearn"
   ]
  },
  {
   "cell_type": "code",
   "execution_count": null,
   "metadata": {
    "id": "lHu-pJbAW6AG"
   },
   "outputs": [],
   "source": [
    "import numpy\n",
    "import matplotlib.pyplot as plt\n",
    "\n",
    "from tslearn.clustering import TimeSeriesKMeans\n",
    "from tslearn.datasets import CachedDatasets\n",
    "from tslearn.preprocessing import TimeSeriesScalerMeanVariance, \\\n",
    "    TimeSeriesResampler\n"
   ]
  },
  {
   "cell_type": "code",
   "execution_count": null,
   "metadata": {
    "colab": {
     "base_uri": "https://localhost:8080/"
    },
    "id": "pyKse7pd7TnS",
    "outputId": "1fe914be-d34a-4345-a64b-cb96d4d4d756"
   },
   "outputs": [
    {
     "name": "stdout",
     "output_type": "stream",
     "text": [
      "Cloning into 'BigDataChallenge2022'...\n",
      "remote: Enumerating objects: 131, done.\u001b[K\n",
      "remote: Counting objects: 100% (131/131), done.\u001b[K\n",
      "remote: Compressing objects: 100% (109/109), done.\u001b[K\n",
      "remote: Total 131 (delta 42), reused 105 (delta 19), pack-reused 0\u001b[K\n",
      "Receiving objects: 100% (131/131), 9.86 MiB | 13.84 MiB/s, done.\n",
      "Resolving deltas: 100% (42/42), done.\n"
     ]
    }
   ],
   "source": [
    "!git clone https://github.com/nghi-huynh/BigDataChallenge2022.git"
   ]
  },
  {
   "cell_type": "code",
   "execution_count": null,
   "metadata": {
    "id": "-Gr4HziE7VvB"
   },
   "outputs": [],
   "source": [
    "!mv /content/BigDataChallenge2022/processed_data .\n",
    "!rm -r /content/BigDataChallenge2022"
   ]
  },
  {
   "cell_type": "markdown",
   "metadata": {
    "id": "Cf5v72EJpNqj"
   },
   "source": [
    "# EDA"
   ]
  },
  {
   "cell_type": "code",
   "execution_count": null,
   "metadata": {
    "id": "2V37nmCm7WMF"
   },
   "outputs": [],
   "source": [
    "df = pd.read_csv('/content/processed_data/final_processed_data.csv')"
   ]
  },
  {
   "cell_type": "markdown",
   "metadata": {
    "id": "sTdVFR5B7yBA"
   },
   "source": [
    "We will analyze our dataset based on **yearly predictions**."
   ]
  },
  {
   "cell_type": "code",
   "execution_count": null,
   "metadata": {
    "colab": {
     "base_uri": "https://localhost:8080/",
     "height": 904
    },
    "id": "1wncEecT7YlO",
    "outputId": "60116bb6-e08d-4140-9e45-4c88cf7d94c8"
   },
   "outputs": [
    {
     "data": {
      "text/html": [
       "\n",
       "  <div id=\"df-171dd87e-852b-420f-9af2-419ffe330cef\">\n",
       "    <div class=\"colab-df-container\">\n",
       "      <div>\n",
       "<style scoped>\n",
       "    .dataframe tbody tr th:only-of-type {\n",
       "        vertical-align: middle;\n",
       "    }\n",
       "\n",
       "    .dataframe tbody tr th {\n",
       "        vertical-align: top;\n",
       "    }\n",
       "\n",
       "    .dataframe thead th {\n",
       "        text-align: right;\n",
       "    }\n",
       "</style>\n",
       "<table border=\"1\" class=\"dataframe\">\n",
       "  <thead>\n",
       "    <tr style=\"text-align: right;\">\n",
       "      <th></th>\n",
       "      <th>Entity</th>\n",
       "      <th>Year</th>\n",
       "      <th>Prevalence - Mental disorders - Sex: Both - Age: Age-standardized (Percent)</th>\n",
       "      <th>Deaths - Self-harm - Sex: Both - Age: All Ages (Percent)</th>\n",
       "      <th>Deaths - Mental and substance use disorders - Sex: Both - Age: Age-standardized (Rate)</th>\n",
       "      <th>gdp_current</th>\n",
       "      <th>gdp_per_capita</th>\n",
       "      <th>health expenditure (per capita)</th>\n",
       "      <th>health expenditure (% GDP)</th>\n",
       "      <th>unemployment rate</th>\n",
       "      <th>Income group</th>\n",
       "      <th>Income</th>\n",
       "      <th>DALYs (Disability-Adjusted Life Years) - Mental disorders - Sex: Both - Age: All Ages (Percent)</th>\n",
       "      <th>Suicide rate</th>\n",
       "    </tr>\n",
       "  </thead>\n",
       "  <tbody>\n",
       "    <tr>\n",
       "      <th>0</th>\n",
       "      <td>Afghanistan</td>\n",
       "      <td>2000</td>\n",
       "      <td>17.939269</td>\n",
       "      <td>0.442532</td>\n",
       "      <td>0.090314</td>\n",
       "      <td>1.683090e+10</td>\n",
       "      <td>489.923884</td>\n",
       "      <td>47.922003</td>\n",
       "      <td>9.861581</td>\n",
       "      <td>10.806</td>\n",
       "      <td>Low income</td>\n",
       "      <td>530.0</td>\n",
       "      <td>1.893882</td>\n",
       "      <td>7.7</td>\n",
       "    </tr>\n",
       "    <tr>\n",
       "      <th>1</th>\n",
       "      <td>Afghanistan</td>\n",
       "      <td>2001</td>\n",
       "      <td>17.933525</td>\n",
       "      <td>0.457531</td>\n",
       "      <td>0.084862</td>\n",
       "      <td>1.683090e+10</td>\n",
       "      <td>489.923884</td>\n",
       "      <td>47.922003</td>\n",
       "      <td>9.861581</td>\n",
       "      <td>10.809</td>\n",
       "      <td>Low income</td>\n",
       "      <td>530.0</td>\n",
       "      <td>1.963984</td>\n",
       "      <td>7.9</td>\n",
       "    </tr>\n",
       "    <tr>\n",
       "      <th>2</th>\n",
       "      <td>Afghanistan</td>\n",
       "      <td>2002</td>\n",
       "      <td>17.916547</td>\n",
       "      <td>0.461904</td>\n",
       "      <td>0.081991</td>\n",
       "      <td>4.055180e+09</td>\n",
       "      <td>179.426579</td>\n",
       "      <td>15.803164</td>\n",
       "      <td>9.443390</td>\n",
       "      <td>11.257</td>\n",
       "      <td>Low income</td>\n",
       "      <td>530.0</td>\n",
       "      <td>2.090646</td>\n",
       "      <td>7.9</td>\n",
       "    </tr>\n",
       "    <tr>\n",
       "      <th>3</th>\n",
       "      <td>Afghanistan</td>\n",
       "      <td>2003</td>\n",
       "      <td>17.889702</td>\n",
       "      <td>0.490590</td>\n",
       "      <td>0.081942</td>\n",
       "      <td>4.515559e+09</td>\n",
       "      <td>190.683814</td>\n",
       "      <td>17.035744</td>\n",
       "      <td>8.941258</td>\n",
       "      <td>11.141</td>\n",
       "      <td>Low income</td>\n",
       "      <td>530.0</td>\n",
       "      <td>2.240707</td>\n",
       "      <td>7.7</td>\n",
       "    </tr>\n",
       "    <tr>\n",
       "      <th>4</th>\n",
       "      <td>Afghanistan</td>\n",
       "      <td>2004</td>\n",
       "      <td>17.859903</td>\n",
       "      <td>0.514944</td>\n",
       "      <td>0.082468</td>\n",
       "      <td>5.226779e+09</td>\n",
       "      <td>211.382074</td>\n",
       "      <td>20.412764</td>\n",
       "      <td>9.808474</td>\n",
       "      <td>10.988</td>\n",
       "      <td>Low income</td>\n",
       "      <td>530.0</td>\n",
       "      <td>2.360176</td>\n",
       "      <td>7.8</td>\n",
       "    </tr>\n",
       "    <tr>\n",
       "      <th>...</th>\n",
       "      <td>...</td>\n",
       "      <td>...</td>\n",
       "      <td>...</td>\n",
       "      <td>...</td>\n",
       "      <td>...</td>\n",
       "      <td>...</td>\n",
       "      <td>...</td>\n",
       "      <td>...</td>\n",
       "      <td>...</td>\n",
       "      <td>...</td>\n",
       "      <td>...</td>\n",
       "      <td>...</td>\n",
       "      <td>...</td>\n",
       "      <td>...</td>\n",
       "    </tr>\n",
       "    <tr>\n",
       "      <th>3255</th>\n",
       "      <td>Zimbabwe</td>\n",
       "      <td>2015</td>\n",
       "      <td>11.156429</td>\n",
       "      <td>1.676438</td>\n",
       "      <td>1.413464</td>\n",
       "      <td>1.996312e+10</td>\n",
       "      <td>1445.069702</td>\n",
       "      <td>107.686999</td>\n",
       "      <td>7.452066</td>\n",
       "      <td>4.778</td>\n",
       "      <td>Lower middle income</td>\n",
       "      <td>1280.0</td>\n",
       "      <td>2.193166</td>\n",
       "      <td>30.7</td>\n",
       "    </tr>\n",
       "    <tr>\n",
       "      <th>3256</th>\n",
       "      <td>Zimbabwe</td>\n",
       "      <td>2016</td>\n",
       "      <td>11.164133</td>\n",
       "      <td>1.747906</td>\n",
       "      <td>1.445058</td>\n",
       "      <td>2.054868e+10</td>\n",
       "      <td>1464.588957</td>\n",
       "      <td>112.411404</td>\n",
       "      <td>7.675163</td>\n",
       "      <td>4.788</td>\n",
       "      <td>Lower middle income</td>\n",
       "      <td>1290.0</td>\n",
       "      <td>2.279813</td>\n",
       "      <td>28.7</td>\n",
       "    </tr>\n",
       "    <tr>\n",
       "      <th>3257</th>\n",
       "      <td>Zimbabwe</td>\n",
       "      <td>2017</td>\n",
       "      <td>11.170427</td>\n",
       "      <td>1.804474</td>\n",
       "      <td>1.470020</td>\n",
       "      <td>1.758489e+10</td>\n",
       "      <td>1235.189032</td>\n",
       "      <td>115.646201</td>\n",
       "      <td>7.469752</td>\n",
       "      <td>4.785</td>\n",
       "      <td>Lower middle income</td>\n",
       "      <td>1390.0</td>\n",
       "      <td>2.364265</td>\n",
       "      <td>25.9</td>\n",
       "    </tr>\n",
       "    <tr>\n",
       "      <th>3258</th>\n",
       "      <td>Zimbabwe</td>\n",
       "      <td>2018</td>\n",
       "      <td>11.158765</td>\n",
       "      <td>1.870430</td>\n",
       "      <td>1.378207</td>\n",
       "      <td>1.811554e+10</td>\n",
       "      <td>1254.642265</td>\n",
       "      <td>141.369308</td>\n",
       "      <td>8.680062</td>\n",
       "      <td>4.796</td>\n",
       "      <td>Lower middle income</td>\n",
       "      <td>1410.0</td>\n",
       "      <td>2.472949</td>\n",
       "      <td>23.9</td>\n",
       "    </tr>\n",
       "    <tr>\n",
       "      <th>3259</th>\n",
       "      <td>Zimbabwe</td>\n",
       "      <td>2019</td>\n",
       "      <td>11.119021</td>\n",
       "      <td>1.893108</td>\n",
       "      <td>1.378207</td>\n",
       "      <td>1.928429e+10</td>\n",
       "      <td>1316.740657</td>\n",
       "      <td>103.028272</td>\n",
       "      <td>7.703565</td>\n",
       "      <td>4.833</td>\n",
       "      <td>Lower middle income</td>\n",
       "      <td>1200.0</td>\n",
       "      <td>2.525892</td>\n",
       "      <td>23.6</td>\n",
       "    </tr>\n",
       "  </tbody>\n",
       "</table>\n",
       "<p>3260 rows × 14 columns</p>\n",
       "</div>\n",
       "      <button class=\"colab-df-convert\" onclick=\"convertToInteractive('df-171dd87e-852b-420f-9af2-419ffe330cef')\"\n",
       "              title=\"Convert this dataframe to an interactive table.\"\n",
       "              style=\"display:none;\">\n",
       "        \n",
       "  <svg xmlns=\"http://www.w3.org/2000/svg\" height=\"24px\"viewBox=\"0 0 24 24\"\n",
       "       width=\"24px\">\n",
       "    <path d=\"M0 0h24v24H0V0z\" fill=\"none\"/>\n",
       "    <path d=\"M18.56 5.44l.94 2.06.94-2.06 2.06-.94-2.06-.94-.94-2.06-.94 2.06-2.06.94zm-11 1L8.5 8.5l.94-2.06 2.06-.94-2.06-.94L8.5 2.5l-.94 2.06-2.06.94zm10 10l.94 2.06.94-2.06 2.06-.94-2.06-.94-.94-2.06-.94 2.06-2.06.94z\"/><path d=\"M17.41 7.96l-1.37-1.37c-.4-.4-.92-.59-1.43-.59-.52 0-1.04.2-1.43.59L10.3 9.45l-7.72 7.72c-.78.78-.78 2.05 0 2.83L4 21.41c.39.39.9.59 1.41.59.51 0 1.02-.2 1.41-.59l7.78-7.78 2.81-2.81c.8-.78.8-2.07 0-2.86zM5.41 20L4 18.59l7.72-7.72 1.47 1.35L5.41 20z\"/>\n",
       "  </svg>\n",
       "      </button>\n",
       "      \n",
       "  <style>\n",
       "    .colab-df-container {\n",
       "      display:flex;\n",
       "      flex-wrap:wrap;\n",
       "      gap: 12px;\n",
       "    }\n",
       "\n",
       "    .colab-df-convert {\n",
       "      background-color: #E8F0FE;\n",
       "      border: none;\n",
       "      border-radius: 50%;\n",
       "      cursor: pointer;\n",
       "      display: none;\n",
       "      fill: #1967D2;\n",
       "      height: 32px;\n",
       "      padding: 0 0 0 0;\n",
       "      width: 32px;\n",
       "    }\n",
       "\n",
       "    .colab-df-convert:hover {\n",
       "      background-color: #E2EBFA;\n",
       "      box-shadow: 0px 1px 2px rgba(60, 64, 67, 0.3), 0px 1px 3px 1px rgba(60, 64, 67, 0.15);\n",
       "      fill: #174EA6;\n",
       "    }\n",
       "\n",
       "    [theme=dark] .colab-df-convert {\n",
       "      background-color: #3B4455;\n",
       "      fill: #D2E3FC;\n",
       "    }\n",
       "\n",
       "    [theme=dark] .colab-df-convert:hover {\n",
       "      background-color: #434B5C;\n",
       "      box-shadow: 0px 1px 3px 1px rgba(0, 0, 0, 0.15);\n",
       "      filter: drop-shadow(0px 1px 2px rgba(0, 0, 0, 0.3));\n",
       "      fill: #FFFFFF;\n",
       "    }\n",
       "  </style>\n",
       "\n",
       "      <script>\n",
       "        const buttonEl =\n",
       "          document.querySelector('#df-171dd87e-852b-420f-9af2-419ffe330cef button.colab-df-convert');\n",
       "        buttonEl.style.display =\n",
       "          google.colab.kernel.accessAllowed ? 'block' : 'none';\n",
       "\n",
       "        async function convertToInteractive(key) {\n",
       "          const element = document.querySelector('#df-171dd87e-852b-420f-9af2-419ffe330cef');\n",
       "          const dataTable =\n",
       "            await google.colab.kernel.invokeFunction('convertToInteractive',\n",
       "                                                     [key], {});\n",
       "          if (!dataTable) return;\n",
       "\n",
       "          const docLinkHtml = 'Like what you see? Visit the ' +\n",
       "            '<a target=\"_blank\" href=https://colab.research.google.com/notebooks/data_table.ipynb>data table notebook</a>'\n",
       "            + ' to learn more about interactive tables.';\n",
       "          element.innerHTML = '';\n",
       "          dataTable['output_type'] = 'display_data';\n",
       "          await google.colab.output.renderOutput(dataTable, element);\n",
       "          const docLink = document.createElement('div');\n",
       "          docLink.innerHTML = docLinkHtml;\n",
       "          element.appendChild(docLink);\n",
       "        }\n",
       "      </script>\n",
       "    </div>\n",
       "  </div>\n",
       "  "
      ],
      "text/plain": [
       "           Entity  Year  \\\n",
       "0     Afghanistan  2000   \n",
       "1     Afghanistan  2001   \n",
       "2     Afghanistan  2002   \n",
       "3     Afghanistan  2003   \n",
       "4     Afghanistan  2004   \n",
       "...           ...   ...   \n",
       "3255     Zimbabwe  2015   \n",
       "3256     Zimbabwe  2016   \n",
       "3257     Zimbabwe  2017   \n",
       "3258     Zimbabwe  2018   \n",
       "3259     Zimbabwe  2019   \n",
       "\n",
       "      Prevalence - Mental disorders - Sex: Both - Age: Age-standardized (Percent)  \\\n",
       "0                                             17.939269                             \n",
       "1                                             17.933525                             \n",
       "2                                             17.916547                             \n",
       "3                                             17.889702                             \n",
       "4                                             17.859903                             \n",
       "...                                                 ...                             \n",
       "3255                                          11.156429                             \n",
       "3256                                          11.164133                             \n",
       "3257                                          11.170427                             \n",
       "3258                                          11.158765                             \n",
       "3259                                          11.119021                             \n",
       "\n",
       "      Deaths - Self-harm - Sex: Both - Age: All Ages (Percent)  \\\n",
       "0                                              0.442532          \n",
       "1                                              0.457531          \n",
       "2                                              0.461904          \n",
       "3                                              0.490590          \n",
       "4                                              0.514944          \n",
       "...                                                 ...          \n",
       "3255                                           1.676438          \n",
       "3256                                           1.747906          \n",
       "3257                                           1.804474          \n",
       "3258                                           1.870430          \n",
       "3259                                           1.893108          \n",
       "\n",
       "      Deaths - Mental and substance use disorders - Sex: Both - Age: Age-standardized (Rate)  \\\n",
       "0                                              0.090314                                        \n",
       "1                                              0.084862                                        \n",
       "2                                              0.081991                                        \n",
       "3                                              0.081942                                        \n",
       "4                                              0.082468                                        \n",
       "...                                                 ...                                        \n",
       "3255                                           1.413464                                        \n",
       "3256                                           1.445058                                        \n",
       "3257                                           1.470020                                        \n",
       "3258                                           1.378207                                        \n",
       "3259                                           1.378207                                        \n",
       "\n",
       "       gdp_current  gdp_per_capita  health expenditure (per capita)  \\\n",
       "0     1.683090e+10      489.923884                        47.922003   \n",
       "1     1.683090e+10      489.923884                        47.922003   \n",
       "2     4.055180e+09      179.426579                        15.803164   \n",
       "3     4.515559e+09      190.683814                        17.035744   \n",
       "4     5.226779e+09      211.382074                        20.412764   \n",
       "...            ...             ...                              ...   \n",
       "3255  1.996312e+10     1445.069702                       107.686999   \n",
       "3256  2.054868e+10     1464.588957                       112.411404   \n",
       "3257  1.758489e+10     1235.189032                       115.646201   \n",
       "3258  1.811554e+10     1254.642265                       141.369308   \n",
       "3259  1.928429e+10     1316.740657                       103.028272   \n",
       "\n",
       "      health expenditure (% GDP)  unemployment rate         Income group  \\\n",
       "0                       9.861581             10.806           Low income   \n",
       "1                       9.861581             10.809           Low income   \n",
       "2                       9.443390             11.257           Low income   \n",
       "3                       8.941258             11.141           Low income   \n",
       "4                       9.808474             10.988           Low income   \n",
       "...                          ...                ...                  ...   \n",
       "3255                    7.452066              4.778  Lower middle income   \n",
       "3256                    7.675163              4.788  Lower middle income   \n",
       "3257                    7.469752              4.785  Lower middle income   \n",
       "3258                    8.680062              4.796  Lower middle income   \n",
       "3259                    7.703565              4.833  Lower middle income   \n",
       "\n",
       "      Income  \\\n",
       "0      530.0   \n",
       "1      530.0   \n",
       "2      530.0   \n",
       "3      530.0   \n",
       "4      530.0   \n",
       "...      ...   \n",
       "3255  1280.0   \n",
       "3256  1290.0   \n",
       "3257  1390.0   \n",
       "3258  1410.0   \n",
       "3259  1200.0   \n",
       "\n",
       "      DALYs (Disability-Adjusted Life Years) - Mental disorders - Sex: Both - Age: All Ages (Percent)  \\\n",
       "0                                              1.893882                                                 \n",
       "1                                              1.963984                                                 \n",
       "2                                              2.090646                                                 \n",
       "3                                              2.240707                                                 \n",
       "4                                              2.360176                                                 \n",
       "...                                                 ...                                                 \n",
       "3255                                           2.193166                                                 \n",
       "3256                                           2.279813                                                 \n",
       "3257                                           2.364265                                                 \n",
       "3258                                           2.472949                                                 \n",
       "3259                                           2.525892                                                 \n",
       "\n",
       "      Suicide rate  \n",
       "0              7.7  \n",
       "1              7.9  \n",
       "2              7.9  \n",
       "3              7.7  \n",
       "4              7.8  \n",
       "...            ...  \n",
       "3255          30.7  \n",
       "3256          28.7  \n",
       "3257          25.9  \n",
       "3258          23.9  \n",
       "3259          23.6  \n",
       "\n",
       "[3260 rows x 14 columns]"
      ]
     },
     "execution_count": 7,
     "metadata": {},
     "output_type": "execute_result"
    }
   ],
   "source": [
    "df"
   ]
  },
  {
   "cell_type": "markdown",
   "metadata": {
    "id": "f7Vjs7jzCHB5"
   },
   "source": [
    "Here is the evolution of a few features over time:"
   ]
  },
  {
   "cell_type": "code",
   "execution_count": null,
   "metadata": {
    "colab": {
     "base_uri": "https://localhost:8080/"
    },
    "id": "7yYIfsJ5CRYE",
    "outputId": "836e5d04-ed82-4cf4-8e12-529420b70735"
   },
   "outputs": [
    {
     "data": {
      "text/plain": [
       "Index(['Entity', 'Year',\n",
       "       'Prevalence - Mental disorders - Sex: Both - Age: Age-standardized (Percent)',\n",
       "       'Deaths - Self-harm - Sex: Both - Age: All Ages (Percent)',\n",
       "       'Deaths - Mental and substance use disorders - Sex: Both - Age: Age-standardized (Rate)',\n",
       "       'gdp_current', 'gdp_per_capita', 'health expenditure (per capita)',\n",
       "       'health expenditure (% GDP)', 'unemployment rate', 'Income group',\n",
       "       'Income',\n",
       "       'DALYs (Disability-Adjusted Life Years) - Mental disorders - Sex: Both - Age: All Ages (Percent)',\n",
       "       'Suicide rate'],\n",
       "      dtype='object')"
      ]
     },
     "execution_count": 8,
     "metadata": {},
     "output_type": "execute_result"
    }
   ],
   "source": [
    "df.columns"
   ]
  },
  {
   "cell_type": "code",
   "execution_count": null,
   "metadata": {
    "id": "N75H9I4PCsxt"
   },
   "outputs": [],
   "source": [
    "year = pd.DataFrame(df['Year'])[0:20]"
   ]
  },
  {
   "cell_type": "code",
   "execution_count": null,
   "metadata": {
    "id": "MxCiWbVKDGHD"
   },
   "outputs": [],
   "source": [
    "plot_cols = ['Deaths - Self-harm - Sex: Both - Age: All Ages (Percent)', 'health expenditure (per capita)','unemployment rate']\n",
    "\n",
    "df_sub = df[plot_cols].loc[df['Entity']=='Canada']"
   ]
  },
  {
   "cell_type": "code",
   "execution_count": null,
   "metadata": {
    "colab": {
     "base_uri": "https://localhost:8080/",
     "height": 738
    },
    "id": "GYVRRWsJF8B0",
    "outputId": "2f8ddf80-5d6c-4508-fd2d-10035852873c"
   },
   "outputs": [
    {
     "data": {
      "text/html": [
       "\n",
       "  <div id=\"df-c95e32ac-c7ce-45f5-9f21-ea50ce2323d5\">\n",
       "    <div class=\"colab-df-container\">\n",
       "      <div>\n",
       "<style scoped>\n",
       "    .dataframe tbody tr th:only-of-type {\n",
       "        vertical-align: middle;\n",
       "    }\n",
       "\n",
       "    .dataframe tbody tr th {\n",
       "        vertical-align: top;\n",
       "    }\n",
       "\n",
       "    .dataframe thead th {\n",
       "        text-align: right;\n",
       "    }\n",
       "</style>\n",
       "<table border=\"1\" class=\"dataframe\">\n",
       "  <thead>\n",
       "    <tr style=\"text-align: right;\">\n",
       "      <th></th>\n",
       "      <th>Deaths - Self-harm - Sex: Both - Age: All Ages (Percent)</th>\n",
       "      <th>health expenditure (per capita)</th>\n",
       "      <th>unemployment rate</th>\n",
       "    </tr>\n",
       "  </thead>\n",
       "  <tbody>\n",
       "    <tr>\n",
       "      <th>540</th>\n",
       "      <td>2.030059</td>\n",
       "      <td>2007.880859</td>\n",
       "      <td>6.83</td>\n",
       "    </tr>\n",
       "    <tr>\n",
       "      <th>541</th>\n",
       "      <td>2.014213</td>\n",
       "      <td>2063.927490</td>\n",
       "      <td>7.22</td>\n",
       "    </tr>\n",
       "    <tr>\n",
       "      <th>542</th>\n",
       "      <td>1.981742</td>\n",
       "      <td>2159.315918</td>\n",
       "      <td>7.66</td>\n",
       "    </tr>\n",
       "    <tr>\n",
       "      <th>543</th>\n",
       "      <td>1.964556</td>\n",
       "      <td>2562.914551</td>\n",
       "      <td>7.57</td>\n",
       "    </tr>\n",
       "    <tr>\n",
       "      <th>544</th>\n",
       "      <td>1.926634</td>\n",
       "      <td>2925.067139</td>\n",
       "      <td>7.19</td>\n",
       "    </tr>\n",
       "    <tr>\n",
       "      <th>545</th>\n",
       "      <td>1.917180</td>\n",
       "      <td>3296.501465</td>\n",
       "      <td>6.76</td>\n",
       "    </tr>\n",
       "    <tr>\n",
       "      <th>546</th>\n",
       "      <td>1.896588</td>\n",
       "      <td>3788.090088</td>\n",
       "      <td>6.32</td>\n",
       "    </tr>\n",
       "    <tr>\n",
       "      <th>547</th>\n",
       "      <td>1.888389</td>\n",
       "      <td>4212.990723</td>\n",
       "      <td>6.04</td>\n",
       "    </tr>\n",
       "    <tr>\n",
       "      <th>548</th>\n",
       "      <td>1.885977</td>\n",
       "      <td>4474.974609</td>\n",
       "      <td>6.14</td>\n",
       "    </tr>\n",
       "    <tr>\n",
       "      <th>549</th>\n",
       "      <td>1.904711</td>\n",
       "      <td>4371.552734</td>\n",
       "      <td>8.34</td>\n",
       "    </tr>\n",
       "    <tr>\n",
       "      <th>550</th>\n",
       "      <td>1.900171</td>\n",
       "      <td>5065.915039</td>\n",
       "      <td>8.06</td>\n",
       "    </tr>\n",
       "    <tr>\n",
       "      <th>551</th>\n",
       "      <td>1.878038</td>\n",
       "      <td>5400.113770</td>\n",
       "      <td>7.51</td>\n",
       "    </tr>\n",
       "    <tr>\n",
       "      <th>552</th>\n",
       "      <td>1.893579</td>\n",
       "      <td>5500.684082</td>\n",
       "      <td>7.29</td>\n",
       "    </tr>\n",
       "    <tr>\n",
       "      <th>553</th>\n",
       "      <td>1.892069</td>\n",
       "      <td>5443.625000</td>\n",
       "      <td>7.07</td>\n",
       "    </tr>\n",
       "    <tr>\n",
       "      <th>554</th>\n",
       "      <td>1.896665</td>\n",
       "      <td>5189.014648</td>\n",
       "      <td>6.91</td>\n",
       "    </tr>\n",
       "    <tr>\n",
       "      <th>555</th>\n",
       "      <td>1.894023</td>\n",
       "      <td>4637.211426</td>\n",
       "      <td>6.91</td>\n",
       "    </tr>\n",
       "    <tr>\n",
       "      <th>556</th>\n",
       "      <td>1.866486</td>\n",
       "      <td>4629.375000</td>\n",
       "      <td>7.00</td>\n",
       "    </tr>\n",
       "    <tr>\n",
       "      <th>557</th>\n",
       "      <td>1.808621</td>\n",
       "      <td>4865.070801</td>\n",
       "      <td>6.34</td>\n",
       "    </tr>\n",
       "    <tr>\n",
       "      <th>558</th>\n",
       "      <td>1.700922</td>\n",
       "      <td>5018.711426</td>\n",
       "      <td>5.83</td>\n",
       "    </tr>\n",
       "    <tr>\n",
       "      <th>559</th>\n",
       "      <td>1.630345</td>\n",
       "      <td>5048.372559</td>\n",
       "      <td>5.66</td>\n",
       "    </tr>\n",
       "  </tbody>\n",
       "</table>\n",
       "</div>\n",
       "      <button class=\"colab-df-convert\" onclick=\"convertToInteractive('df-c95e32ac-c7ce-45f5-9f21-ea50ce2323d5')\"\n",
       "              title=\"Convert this dataframe to an interactive table.\"\n",
       "              style=\"display:none;\">\n",
       "        \n",
       "  <svg xmlns=\"http://www.w3.org/2000/svg\" height=\"24px\"viewBox=\"0 0 24 24\"\n",
       "       width=\"24px\">\n",
       "    <path d=\"M0 0h24v24H0V0z\" fill=\"none\"/>\n",
       "    <path d=\"M18.56 5.44l.94 2.06.94-2.06 2.06-.94-2.06-.94-.94-2.06-.94 2.06-2.06.94zm-11 1L8.5 8.5l.94-2.06 2.06-.94-2.06-.94L8.5 2.5l-.94 2.06-2.06.94zm10 10l.94 2.06.94-2.06 2.06-.94-2.06-.94-.94-2.06-.94 2.06-2.06.94z\"/><path d=\"M17.41 7.96l-1.37-1.37c-.4-.4-.92-.59-1.43-.59-.52 0-1.04.2-1.43.59L10.3 9.45l-7.72 7.72c-.78.78-.78 2.05 0 2.83L4 21.41c.39.39.9.59 1.41.59.51 0 1.02-.2 1.41-.59l7.78-7.78 2.81-2.81c.8-.78.8-2.07 0-2.86zM5.41 20L4 18.59l7.72-7.72 1.47 1.35L5.41 20z\"/>\n",
       "  </svg>\n",
       "      </button>\n",
       "      \n",
       "  <style>\n",
       "    .colab-df-container {\n",
       "      display:flex;\n",
       "      flex-wrap:wrap;\n",
       "      gap: 12px;\n",
       "    }\n",
       "\n",
       "    .colab-df-convert {\n",
       "      background-color: #E8F0FE;\n",
       "      border: none;\n",
       "      border-radius: 50%;\n",
       "      cursor: pointer;\n",
       "      display: none;\n",
       "      fill: #1967D2;\n",
       "      height: 32px;\n",
       "      padding: 0 0 0 0;\n",
       "      width: 32px;\n",
       "    }\n",
       "\n",
       "    .colab-df-convert:hover {\n",
       "      background-color: #E2EBFA;\n",
       "      box-shadow: 0px 1px 2px rgba(60, 64, 67, 0.3), 0px 1px 3px 1px rgba(60, 64, 67, 0.15);\n",
       "      fill: #174EA6;\n",
       "    }\n",
       "\n",
       "    [theme=dark] .colab-df-convert {\n",
       "      background-color: #3B4455;\n",
       "      fill: #D2E3FC;\n",
       "    }\n",
       "\n",
       "    [theme=dark] .colab-df-convert:hover {\n",
       "      background-color: #434B5C;\n",
       "      box-shadow: 0px 1px 3px 1px rgba(0, 0, 0, 0.15);\n",
       "      filter: drop-shadow(0px 1px 2px rgba(0, 0, 0, 0.3));\n",
       "      fill: #FFFFFF;\n",
       "    }\n",
       "  </style>\n",
       "\n",
       "      <script>\n",
       "        const buttonEl =\n",
       "          document.querySelector('#df-c95e32ac-c7ce-45f5-9f21-ea50ce2323d5 button.colab-df-convert');\n",
       "        buttonEl.style.display =\n",
       "          google.colab.kernel.accessAllowed ? 'block' : 'none';\n",
       "\n",
       "        async function convertToInteractive(key) {\n",
       "          const element = document.querySelector('#df-c95e32ac-c7ce-45f5-9f21-ea50ce2323d5');\n",
       "          const dataTable =\n",
       "            await google.colab.kernel.invokeFunction('convertToInteractive',\n",
       "                                                     [key], {});\n",
       "          if (!dataTable) return;\n",
       "\n",
       "          const docLinkHtml = 'Like what you see? Visit the ' +\n",
       "            '<a target=\"_blank\" href=https://colab.research.google.com/notebooks/data_table.ipynb>data table notebook</a>'\n",
       "            + ' to learn more about interactive tables.';\n",
       "          element.innerHTML = '';\n",
       "          dataTable['output_type'] = 'display_data';\n",
       "          await google.colab.output.renderOutput(dataTable, element);\n",
       "          const docLink = document.createElement('div');\n",
       "          docLink.innerHTML = docLinkHtml;\n",
       "          element.appendChild(docLink);\n",
       "        }\n",
       "      </script>\n",
       "    </div>\n",
       "  </div>\n",
       "  "
      ],
      "text/plain": [
       "     Deaths - Self-harm - Sex: Both - Age: All Ages (Percent)  \\\n",
       "540                                           2.030059          \n",
       "541                                           2.014213          \n",
       "542                                           1.981742          \n",
       "543                                           1.964556          \n",
       "544                                           1.926634          \n",
       "545                                           1.917180          \n",
       "546                                           1.896588          \n",
       "547                                           1.888389          \n",
       "548                                           1.885977          \n",
       "549                                           1.904711          \n",
       "550                                           1.900171          \n",
       "551                                           1.878038          \n",
       "552                                           1.893579          \n",
       "553                                           1.892069          \n",
       "554                                           1.896665          \n",
       "555                                           1.894023          \n",
       "556                                           1.866486          \n",
       "557                                           1.808621          \n",
       "558                                           1.700922          \n",
       "559                                           1.630345          \n",
       "\n",
       "     health expenditure (per capita)  unemployment rate  \n",
       "540                      2007.880859               6.83  \n",
       "541                      2063.927490               7.22  \n",
       "542                      2159.315918               7.66  \n",
       "543                      2562.914551               7.57  \n",
       "544                      2925.067139               7.19  \n",
       "545                      3296.501465               6.76  \n",
       "546                      3788.090088               6.32  \n",
       "547                      4212.990723               6.04  \n",
       "548                      4474.974609               6.14  \n",
       "549                      4371.552734               8.34  \n",
       "550                      5065.915039               8.06  \n",
       "551                      5400.113770               7.51  \n",
       "552                      5500.684082               7.29  \n",
       "553                      5443.625000               7.07  \n",
       "554                      5189.014648               6.91  \n",
       "555                      4637.211426               6.91  \n",
       "556                      4629.375000               7.00  \n",
       "557                      4865.070801               6.34  \n",
       "558                      5018.711426               5.83  \n",
       "559                      5048.372559               5.66  "
      ]
     },
     "execution_count": 11,
     "metadata": {},
     "output_type": "execute_result"
    }
   ],
   "source": [
    "df_sub"
   ]
  },
  {
   "cell_type": "code",
   "execution_count": null,
   "metadata": {
    "colab": {
     "base_uri": "https://localhost:8080/",
     "height": 279
    },
    "id": "lQXQ5Xx8BodJ",
    "outputId": "f7e7bc76-676c-444d-d1f2-7d2a4a1d54e7"
   },
   "outputs": [
    {
     "data": {
      "image/png": "[encoded data removed]",
      "text/plain": [
       "<Figure size 432x288 with 3 Axes>"
      ]
     },
     "metadata": {
      "needs_background": "light"
     },
     "output_type": "display_data"
    }
   ],
   "source": [
    "plot_features = df_sub\n",
    "plot_features.index = df['Year'].loc[df['Entity']=='Canada']\n",
    "_ = plot_features.plot(subplots=True)\n"
   ]
  },
  {
   "cell_type": "code",
   "execution_count": null,
   "metadata": {
    "colab": {
     "base_uri": "https://localhost:8080/",
     "height": 279
    },
    "id": "HzaOaV_zZz5i",
    "outputId": "5a0d031c-0910-4593-d58e-d4d2daf2e538"
   },
   "outputs": [
    {
     "data": {
      "image/png": "[encoded data removed]",
      "text/plain": [
       "<Figure size 432x288 with 1 Axes>"
      ]
     },
     "metadata": {
      "needs_background": "light"
     },
     "output_type": "display_data"
    }
   ],
   "source": [
    "plot_features = df['Suicide rate'].loc[df['Entity']=='Belgium']\n",
    "plot_features.index = df['Year'].loc[df['Entity']=='Belgium']\n",
    "plt.xticks(np.arange(2000,2020,2))\n",
    "_ = plot_features.plot(subplots=True)"
   ]
  },
  {
   "cell_type": "code",
   "execution_count": null,
   "metadata": {
    "colab": {
     "base_uri": "https://localhost:8080/",
     "height": 279
    },
    "id": "nNstaK7j3iSX",
    "outputId": "dab945df-34e6-4c2c-ca02-5b9811e3f151"
   },
   "outputs": [
    {
     "data": {
      "image/png": "[encoded data removed]",
      "text/plain": [
       "<Figure size 432x288 with 1 Axes>"
      ]
     },
     "metadata": {
      "needs_background": "light"
     },
     "output_type": "display_data"
    }
   ],
   "source": [
    "plot_features = df['Suicide rate'].loc[df['Entity']=='Chile']\n",
    "plot_features.index = df['Year'].loc[df['Entity']=='Chile']\n",
    "plt.ylabel('Suicide rate')\n",
    "plt.xticks(np.arange(2000,2020,2))\n",
    "_ = plot_features.plot(subplots=True)"
   ]
  },
  {
   "cell_type": "code",
   "execution_count": null,
   "metadata": {
    "colab": {
     "base_uri": "https://localhost:8080/",
     "height": 279
    },
    "id": "F33Wjhi63nee",
    "outputId": "c1e45992-fa4b-4a55-a46a-c285688fee7f"
   },
   "outputs": [
    {
     "data": {
      "image/png": "[encoded data removed]",
      "text/plain": [
       "<Figure size 432x288 with 1 Axes>"
      ]
     },
     "metadata": {
      "needs_background": "light"
     },
     "output_type": "display_data"
    }
   ],
   "source": [
    "plot_features = df['Suicide rate'].loc[df['Entity']=='Canada']\n",
    "plot_features.index = df['Year'].loc[df['Entity']=='Canada']\n",
    "plt.ylabel('Suicide rate')\n",
    "plt.xticks(np.arange(2000,2020,2))\n",
    "_ = plot_features.plot(subplots=True)"
   ]
  },
  {
   "cell_type": "code",
   "execution_count": null,
   "metadata": {
    "colab": {
     "base_uri": "https://localhost:8080/",
     "height": 470
    },
    "id": "pMuizrUf4dOy",
    "outputId": "65d01671-9020-4358-ee63-6135ee48d307"
   },
   "outputs": [
    {
     "data": {
      "text/plain": [
       "([<matplotlib.axis.XTick at 0x7f6a69b59050>,\n",
       "  <matplotlib.axis.XTick at 0x7f6a69b57e10>,\n",
       "  <matplotlib.axis.XTick at 0x7f6a6a18cb50>,\n",
       "  <matplotlib.axis.XTick at 0x7f6a69aa9cd0>,\n",
       "  <matplotlib.axis.XTick at 0x7f6a69ab40d0>,\n",
       "  <matplotlib.axis.XTick at 0x7f6a69b097d0>,\n",
       "  <matplotlib.axis.XTick at 0x7f6a69ab4850>,\n",
       "  <matplotlib.axis.XTick at 0x7f6a69ab4c90>,\n",
       "  <matplotlib.axis.XTick at 0x7f6a69aba290>,\n",
       "  <matplotlib.axis.XTick at 0x7f6a69aba750>],\n",
       " <a list of 10 Text major ticklabel objects>)"
      ]
     },
     "execution_count": 16,
     "metadata": {},
     "output_type": "execute_result"
    },
    {
     "data": {
      "image/png": "[encoded data removed]",
      "text/plain": [
       "<Figure size 432x288 with 1 Axes>"
      ]
     },
     "metadata": {
      "needs_background": "light"
     },
     "output_type": "display_data"
    }
   ],
   "source": [
    "sns.lineplot(y=df.loc[df['Income group']=='High income']['Suicide rate'],x=df.loc[df['Income group']=='High income']['Year'],ci=None,dashes=False).grid(axis='y')\n",
    "#sns.lineplot(x=pred['Year'],y=pred['Suicide rate predicted'],ci=None)\n",
    "#plt.legend(['Actual','Predicted'])\n",
    "#plt.title('Actual vs Predicted Suicide Rate for High income group', fontsize=12, fontweight='bold')\n",
    "plt.xticks(np.arange(2000,2020,2))"
   ]
  },
  {
   "cell_type": "markdown",
   "metadata": {
    "id": "ja7D_tNDemZP"
   },
   "source": [
    "# Model Building and Training\n",
    "\n",
    "Baseline models:\n",
    "\n",
    "* k-Nearest Neighbors Regression (KNN Regression)\n",
    "* Linear Regression\n",
    "* Decision Tree Regression\n",
    "* Random Forest\n",
    "* XGBoost\n",
    "* Bagging Regression\n",
    "* Custom Ensemble: SuperLearner\n",
    "\n",
    "Neural Networks:\n",
    "* CNN\n",
    "* RNN"
   ]
  },
  {
   "cell_type": "markdown",
   "metadata": {
    "id": "9XWC6XkzDg7s"
   },
   "source": [
    "**Metrics:**\n",
    "\n",
    "* Mean Squared Error (MSE)\n",
    "* Root Mean Squared Error (RMSE)\n",
    "* Mean Absolute Error (MAE)\n",
    "* R2 score (accuracy)"
   ]
  },
  {
   "cell_type": "code",
   "execution_count": null,
   "metadata": {
    "id": "PuKpSvIWen9g"
   },
   "outputs": [],
   "source": [
    "#importing required libraries \n",
    "from sklearn.metrics import mean_squared_error, mean_absolute_error, r2_score, mean_absolute_percentage_error\n",
    "from sklearn.model_selection import GridSearchCV"
   ]
  },
  {
   "cell_type": "code",
   "execution_count": null,
   "metadata": {
    "id": "5V8IYb-RfzZ6"
   },
   "outputs": [],
   "source": [
    "# Creating holders to store the model performance results\n",
    "ML_Model = []\n",
    "acc_train = []\n",
    "acc_test = []\n",
    "rmse_train = []\n",
    "rmse_test = []\n",
    "mae_train = []\n",
    "mae_test = []\n",
    "mse_train = []\n",
    "mse_test = []\n",
    "#mape_train = []\n",
    "#mape_test = []\n",
    "\n",
    "#function to call for storing the results\n",
    "def storeResults(model, a,b,c,d,e,f,g,h):\n",
    "  ML_Model.append(model)\n",
    "  acc_train.append(round(a, 5))\n",
    "  acc_test.append(round(b, 5))\n",
    "  mse_train.append(round(c, 5))\n",
    "  mse_test.append(round(d, 5))\n",
    "  rmse_train.append(round(e,5))\n",
    "  rmse_test.append(round(f,5))\n",
    "  mae_train.append(round(g,5))\n",
    "  mae_test.append(round(h,5))\n",
    "  #mape_train.append(round(i,5))\n",
    "  #mape_test.append(round(j,5))\n"
   ]
  },
  {
   "cell_type": "code",
   "execution_count": null,
   "metadata": {
    "id": "SaFYvCsypXcg"
   },
   "outputs": [],
   "source": [
    "cols = [\n",
    "        'Prevalence - Mental disorders - Sex: Both - Age: Age-standardized (Percent)',\n",
    "        'Deaths - Self-harm - Sex: Both - Age: All Ages (Percent)',\n",
    "        'Deaths - Mental and substance use disorders - Sex: Both - Age: Age-standardized (Rate)',\n",
    "        'gdp_current', 'gdp_per_capita', 'health expenditure (per capita)',\n",
    "        'health expenditure (% GDP)', 'unemployment rate',\n",
    "        'Income',\n",
    "        'DALYs (Disability-Adjusted Life Years) - Mental disorders - Sex: Both - Age: All Ages (Percent)',\n",
    "        'Suicide rate'\n",
    "        ]"
   ]
  },
  {
   "cell_type": "code",
   "execution_count": null,
   "metadata": {
    "id": "EK8NzGgWg5xt"
   },
   "outputs": [],
   "source": [
    "df_train = df.loc[df['Income group']=='Low income'].drop(['Income group','Entity'],axis=1).copy()"
   ]
  },
  {
   "cell_type": "code",
   "execution_count": null,
   "metadata": {
    "colab": {
     "base_uri": "https://localhost:8080/",
     "height": 644
    },
    "id": "d1uHXj5JMQxy",
    "outputId": "16bb1194-5cb4-40d8-ceb6-463fc0a0959e"
   },
   "outputs": [
    {
     "data": {
      "text/html": [
       "\n",
       "  <div id=\"df-95c91ae3-44a1-488e-9201-66e10402f50c\">\n",
       "    <div class=\"colab-df-container\">\n",
       "      <div>\n",
       "<style scoped>\n",
       "    .dataframe tbody tr th:only-of-type {\n",
       "        vertical-align: middle;\n",
       "    }\n",
       "\n",
       "    .dataframe tbody tr th {\n",
       "        vertical-align: top;\n",
       "    }\n",
       "\n",
       "    .dataframe thead th {\n",
       "        text-align: right;\n",
       "    }\n",
       "</style>\n",
       "<table border=\"1\" class=\"dataframe\">\n",
       "  <thead>\n",
       "    <tr style=\"text-align: right;\">\n",
       "      <th></th>\n",
       "      <th>Year</th>\n",
       "      <th>Prevalence - Mental disorders - Sex: Both - Age: Age-standardized (Percent)</th>\n",
       "      <th>Deaths - Self-harm - Sex: Both - Age: All Ages (Percent)</th>\n",
       "      <th>Deaths - Mental and substance use disorders - Sex: Both - Age: Age-standardized (Rate)</th>\n",
       "      <th>gdp_current</th>\n",
       "      <th>gdp_per_capita</th>\n",
       "      <th>health expenditure (per capita)</th>\n",
       "      <th>health expenditure (% GDP)</th>\n",
       "      <th>unemployment rate</th>\n",
       "      <th>Income</th>\n",
       "      <th>DALYs (Disability-Adjusted Life Years) - Mental disorders - Sex: Both - Age: All Ages (Percent)</th>\n",
       "      <th>Suicide rate</th>\n",
       "    </tr>\n",
       "  </thead>\n",
       "  <tbody>\n",
       "    <tr>\n",
       "      <th>0</th>\n",
       "      <td>2000</td>\n",
       "      <td>17.939269</td>\n",
       "      <td>0.442532</td>\n",
       "      <td>0.090314</td>\n",
       "      <td>1.683090e+10</td>\n",
       "      <td>489.923884</td>\n",
       "      <td>47.922003</td>\n",
       "      <td>9.861581</td>\n",
       "      <td>10.806</td>\n",
       "      <td>530.0</td>\n",
       "      <td>1.893882</td>\n",
       "      <td>7.7</td>\n",
       "    </tr>\n",
       "    <tr>\n",
       "      <th>1</th>\n",
       "      <td>2001</td>\n",
       "      <td>17.933525</td>\n",
       "      <td>0.457531</td>\n",
       "      <td>0.084862</td>\n",
       "      <td>1.683090e+10</td>\n",
       "      <td>489.923884</td>\n",
       "      <td>47.922003</td>\n",
       "      <td>9.861581</td>\n",
       "      <td>10.809</td>\n",
       "      <td>530.0</td>\n",
       "      <td>1.963984</td>\n",
       "      <td>7.9</td>\n",
       "    </tr>\n",
       "    <tr>\n",
       "      <th>2</th>\n",
       "      <td>2002</td>\n",
       "      <td>17.916547</td>\n",
       "      <td>0.461904</td>\n",
       "      <td>0.081991</td>\n",
       "      <td>4.055180e+09</td>\n",
       "      <td>179.426579</td>\n",
       "      <td>15.803164</td>\n",
       "      <td>9.443390</td>\n",
       "      <td>11.257</td>\n",
       "      <td>530.0</td>\n",
       "      <td>2.090646</td>\n",
       "      <td>7.9</td>\n",
       "    </tr>\n",
       "    <tr>\n",
       "      <th>3</th>\n",
       "      <td>2003</td>\n",
       "      <td>17.889702</td>\n",
       "      <td>0.490590</td>\n",
       "      <td>0.081942</td>\n",
       "      <td>4.515559e+09</td>\n",
       "      <td>190.683814</td>\n",
       "      <td>17.035744</td>\n",
       "      <td>8.941258</td>\n",
       "      <td>11.141</td>\n",
       "      <td>530.0</td>\n",
       "      <td>2.240707</td>\n",
       "      <td>7.7</td>\n",
       "    </tr>\n",
       "    <tr>\n",
       "      <th>4</th>\n",
       "      <td>2004</td>\n",
       "      <td>17.859903</td>\n",
       "      <td>0.514944</td>\n",
       "      <td>0.082468</td>\n",
       "      <td>5.226779e+09</td>\n",
       "      <td>211.382074</td>\n",
       "      <td>20.412764</td>\n",
       "      <td>9.808474</td>\n",
       "      <td>10.988</td>\n",
       "      <td>530.0</td>\n",
       "      <td>2.360176</td>\n",
       "      <td>7.8</td>\n",
       "    </tr>\n",
       "    <tr>\n",
       "      <th>...</th>\n",
       "      <td>...</td>\n",
       "      <td>...</td>\n",
       "      <td>...</td>\n",
       "      <td>...</td>\n",
       "      <td>...</td>\n",
       "      <td>...</td>\n",
       "      <td>...</td>\n",
       "      <td>...</td>\n",
       "      <td>...</td>\n",
       "      <td>...</td>\n",
       "      <td>...</td>\n",
       "      <td>...</td>\n",
       "    </tr>\n",
       "    <tr>\n",
       "      <th>3215</th>\n",
       "      <td>2015</td>\n",
       "      <td>15.838019</td>\n",
       "      <td>0.823169</td>\n",
       "      <td>0.108293</td>\n",
       "      <td>4.244510e+10</td>\n",
       "      <td>1601.830063</td>\n",
       "      <td>73.176743</td>\n",
       "      <td>4.252858</td>\n",
       "      <td>13.770</td>\n",
       "      <td>1200.0</td>\n",
       "      <td>4.752210</td>\n",
       "      <td>6.8</td>\n",
       "    </tr>\n",
       "    <tr>\n",
       "      <th>3216</th>\n",
       "      <td>2016</td>\n",
       "      <td>15.928825</td>\n",
       "      <td>0.806922</td>\n",
       "      <td>0.113830</td>\n",
       "      <td>3.131737e+10</td>\n",
       "      <td>1152.720966</td>\n",
       "      <td>62.396828</td>\n",
       "      <td>5.177634</td>\n",
       "      <td>13.433</td>\n",
       "      <td>1150.0</td>\n",
       "      <td>4.640163</td>\n",
       "      <td>7.0</td>\n",
       "    </tr>\n",
       "    <tr>\n",
       "      <th>3217</th>\n",
       "      <td>2017</td>\n",
       "      <td>16.072402</td>\n",
       "      <td>0.820759</td>\n",
       "      <td>0.119687</td>\n",
       "      <td>2.684013e+10</td>\n",
       "      <td>964.264810</td>\n",
       "      <td>62.396828</td>\n",
       "      <td>5.177634</td>\n",
       "      <td>13.297</td>\n",
       "      <td>1070.0</td>\n",
       "      <td>4.677782</td>\n",
       "      <td>6.9</td>\n",
       "    </tr>\n",
       "    <tr>\n",
       "      <th>3218</th>\n",
       "      <td>2018</td>\n",
       "      <td>16.220943</td>\n",
       "      <td>0.797014</td>\n",
       "      <td>0.081976</td>\n",
       "      <td>2.160614e+10</td>\n",
       "      <td>758.145242</td>\n",
       "      <td>62.396828</td>\n",
       "      <td>5.177634</td>\n",
       "      <td>13.145</td>\n",
       "      <td>940.0</td>\n",
       "      <td>4.684685</td>\n",
       "      <td>7.1</td>\n",
       "    </tr>\n",
       "    <tr>\n",
       "      <th>3219</th>\n",
       "      <td>2019</td>\n",
       "      <td>16.401522</td>\n",
       "      <td>0.890119</td>\n",
       "      <td>0.081976</td>\n",
       "      <td>2.513027e+10</td>\n",
       "      <td>1017.292048</td>\n",
       "      <td>62.396828</td>\n",
       "      <td>5.177634</td>\n",
       "      <td>13.056</td>\n",
       "      <td>1010.0</td>\n",
       "      <td>5.051795</td>\n",
       "      <td>7.1</td>\n",
       "    </tr>\n",
       "  </tbody>\n",
       "</table>\n",
       "<p>480 rows × 12 columns</p>\n",
       "</div>\n",
       "      <button class=\"colab-df-convert\" onclick=\"convertToInteractive('df-95c91ae3-44a1-488e-9201-66e10402f50c')\"\n",
       "              title=\"Convert this dataframe to an interactive table.\"\n",
       "              style=\"display:none;\">\n",
       "        \n",
       "  <svg xmlns=\"http://www.w3.org/2000/svg\" height=\"24px\"viewBox=\"0 0 24 24\"\n",
       "       width=\"24px\">\n",
       "    <path d=\"M0 0h24v24H0V0z\" fill=\"none\"/>\n",
       "    <path d=\"M18.56 5.44l.94 2.06.94-2.06 2.06-.94-2.06-.94-.94-2.06-.94 2.06-2.06.94zm-11 1L8.5 8.5l.94-2.06 2.06-.94-2.06-.94L8.5 2.5l-.94 2.06-2.06.94zm10 10l.94 2.06.94-2.06 2.06-.94-2.06-.94-.94-2.06-.94 2.06-2.06.94z\"/><path d=\"M17.41 7.96l-1.37-1.37c-.4-.4-.92-.59-1.43-.59-.52 0-1.04.2-1.43.59L10.3 9.45l-7.72 7.72c-.78.78-.78 2.05 0 2.83L4 21.41c.39.39.9.59 1.41.59.51 0 1.02-.2 1.41-.59l7.78-7.78 2.81-2.81c.8-.78.8-2.07 0-2.86zM5.41 20L4 18.59l7.72-7.72 1.47 1.35L5.41 20z\"/>\n",
       "  </svg>\n",
       "      </button>\n",
       "      \n",
       "  <style>\n",
       "    .colab-df-container {\n",
       "      display:flex;\n",
       "      flex-wrap:wrap;\n",
       "      gap: 12px;\n",
       "    }\n",
       "\n",
       "    .colab-df-convert {\n",
       "      background-color: #E8F0FE;\n",
       "      border: none;\n",
       "      border-radius: 50%;\n",
       "      cursor: pointer;\n",
       "      display: none;\n",
       "      fill: #1967D2;\n",
       "      height: 32px;\n",
       "      padding: 0 0 0 0;\n",
       "      width: 32px;\n",
       "    }\n",
       "\n",
       "    .colab-df-convert:hover {\n",
       "      background-color: #E2EBFA;\n",
       "      box-shadow: 0px 1px 2px rgba(60, 64, 67, 0.3), 0px 1px 3px 1px rgba(60, 64, 67, 0.15);\n",
       "      fill: #174EA6;\n",
       "    }\n",
       "\n",
       "    [theme=dark] .colab-df-convert {\n",
       "      background-color: #3B4455;\n",
       "      fill: #D2E3FC;\n",
       "    }\n",
       "\n",
       "    [theme=dark] .colab-df-convert:hover {\n",
       "      background-color: #434B5C;\n",
       "      box-shadow: 0px 1px 3px 1px rgba(0, 0, 0, 0.15);\n",
       "      filter: drop-shadow(0px 1px 2px rgba(0, 0, 0, 0.3));\n",
       "      fill: #FFFFFF;\n",
       "    }\n",
       "  </style>\n",
       "\n",
       "      <script>\n",
       "        const buttonEl =\n",
       "          document.querySelector('#df-95c91ae3-44a1-488e-9201-66e10402f50c button.colab-df-convert');\n",
       "        buttonEl.style.display =\n",
       "          google.colab.kernel.accessAllowed ? 'block' : 'none';\n",
       "\n",
       "        async function convertToInteractive(key) {\n",
       "          const element = document.querySelector('#df-95c91ae3-44a1-488e-9201-66e10402f50c');\n",
       "          const dataTable =\n",
       "            await google.colab.kernel.invokeFunction('convertToInteractive',\n",
       "                                                     [key], {});\n",
       "          if (!dataTable) return;\n",
       "\n",
       "          const docLinkHtml = 'Like what you see? Visit the ' +\n",
       "            '<a target=\"_blank\" href=https://colab.research.google.com/notebooks/data_table.ipynb>data table notebook</a>'\n",
       "            + ' to learn more about interactive tables.';\n",
       "          element.innerHTML = '';\n",
       "          dataTable['output_type'] = 'display_data';\n",
       "          await google.colab.output.renderOutput(dataTable, element);\n",
       "          const docLink = document.createElement('div');\n",
       "          docLink.innerHTML = docLinkHtml;\n",
       "          element.appendChild(docLink);\n",
       "        }\n",
       "      </script>\n",
       "    </div>\n",
       "  </div>\n",
       "  "
      ],
      "text/plain": [
       "      Year  \\\n",
       "0     2000   \n",
       "1     2001   \n",
       "2     2002   \n",
       "3     2003   \n",
       "4     2004   \n",
       "...    ...   \n",
       "3215  2015   \n",
       "3216  2016   \n",
       "3217  2017   \n",
       "3218  2018   \n",
       "3219  2019   \n",
       "\n",
       "      Prevalence - Mental disorders - Sex: Both - Age: Age-standardized (Percent)  \\\n",
       "0                                             17.939269                             \n",
       "1                                             17.933525                             \n",
       "2                                             17.916547                             \n",
       "3                                             17.889702                             \n",
       "4                                             17.859903                             \n",
       "...                                                 ...                             \n",
       "3215                                          15.838019                             \n",
       "3216                                          15.928825                             \n",
       "3217                                          16.072402                             \n",
       "3218                                          16.220943                             \n",
       "3219                                          16.401522                             \n",
       "\n",
       "      Deaths - Self-harm - Sex: Both - Age: All Ages (Percent)  \\\n",
       "0                                              0.442532          \n",
       "1                                              0.457531          \n",
       "2                                              0.461904          \n",
       "3                                              0.490590          \n",
       "4                                              0.514944          \n",
       "...                                                 ...          \n",
       "3215                                           0.823169          \n",
       "3216                                           0.806922          \n",
       "3217                                           0.820759          \n",
       "3218                                           0.797014          \n",
       "3219                                           0.890119          \n",
       "\n",
       "      Deaths - Mental and substance use disorders - Sex: Both - Age: Age-standardized (Rate)  \\\n",
       "0                                              0.090314                                        \n",
       "1                                              0.084862                                        \n",
       "2                                              0.081991                                        \n",
       "3                                              0.081942                                        \n",
       "4                                              0.082468                                        \n",
       "...                                                 ...                                        \n",
       "3215                                           0.108293                                        \n",
       "3216                                           0.113830                                        \n",
       "3217                                           0.119687                                        \n",
       "3218                                           0.081976                                        \n",
       "3219                                           0.081976                                        \n",
       "\n",
       "       gdp_current  gdp_per_capita  health expenditure (per capita)  \\\n",
       "0     1.683090e+10      489.923884                        47.922003   \n",
       "1     1.683090e+10      489.923884                        47.922003   \n",
       "2     4.055180e+09      179.426579                        15.803164   \n",
       "3     4.515559e+09      190.683814                        17.035744   \n",
       "4     5.226779e+09      211.382074                        20.412764   \n",
       "...            ...             ...                              ...   \n",
       "3215  4.244510e+10     1601.830063                        73.176743   \n",
       "3216  3.131737e+10     1152.720966                        62.396828   \n",
       "3217  2.684013e+10      964.264810                        62.396828   \n",
       "3218  2.160614e+10      758.145242                        62.396828   \n",
       "3219  2.513027e+10     1017.292048                        62.396828   \n",
       "\n",
       "      health expenditure (% GDP)  unemployment rate  Income  \\\n",
       "0                       9.861581             10.806   530.0   \n",
       "1                       9.861581             10.809   530.0   \n",
       "2                       9.443390             11.257   530.0   \n",
       "3                       8.941258             11.141   530.0   \n",
       "4                       9.808474             10.988   530.0   \n",
       "...                          ...                ...     ...   \n",
       "3215                    4.252858             13.770  1200.0   \n",
       "3216                    5.177634             13.433  1150.0   \n",
       "3217                    5.177634             13.297  1070.0   \n",
       "3218                    5.177634             13.145   940.0   \n",
       "3219                    5.177634             13.056  1010.0   \n",
       "\n",
       "      DALYs (Disability-Adjusted Life Years) - Mental disorders - Sex: Both - Age: All Ages (Percent)  \\\n",
       "0                                              1.893882                                                 \n",
       "1                                              1.963984                                                 \n",
       "2                                              2.090646                                                 \n",
       "3                                              2.240707                                                 \n",
       "4                                              2.360176                                                 \n",
       "...                                                 ...                                                 \n",
       "3215                                           4.752210                                                 \n",
       "3216                                           4.640163                                                 \n",
       "3217                                           4.677782                                                 \n",
       "3218                                           4.684685                                                 \n",
       "3219                                           5.051795                                                 \n",
       "\n",
       "      Suicide rate  \n",
       "0              7.7  \n",
       "1              7.9  \n",
       "2              7.9  \n",
       "3              7.7  \n",
       "4              7.8  \n",
       "...            ...  \n",
       "3215           6.8  \n",
       "3216           7.0  \n",
       "3217           6.9  \n",
       "3218           7.1  \n",
       "3219           7.1  \n",
       "\n",
       "[480 rows x 12 columns]"
      ]
     },
     "execution_count": 56,
     "metadata": {},
     "output_type": "execute_result"
    }
   ],
   "source": [
    "df_train"
   ]
  },
  {
   "cell_type": "code",
   "execution_count": null,
   "metadata": {
    "id": "bb88-4H0crFG"
   },
   "outputs": [],
   "source": [
    "from sklearn.preprocessing import LabelEncoder\n",
    "\n",
    "cols_encode = ['Year']\n",
    "\n",
    "encoder = LabelEncoder()\n",
    "for col in cols_encode:\n",
    "    encoder.fit(df_train[col])\n",
    "    df_train[col] = encoder.transform(df_train[col])"
   ]
  },
  {
   "cell_type": "code",
   "execution_count": null,
   "metadata": {
    "id": "dbEk29d0d5Iu"
   },
   "outputs": [],
   "source": [
    "#Scaling the numerical data columns with MinMaxScaler\n",
    "numerical = [\n",
    "            'gdp_current', 'gdp_per_capita', 'health expenditure (per capita)',\n",
    "            'health expenditure (% GDP)',\n",
    "            'Income',\n",
    "            ]\n",
    "\n",
    "from sklearn.preprocessing import RobustScaler\n",
    "\n",
    "rc = RobustScaler()\n",
    "df_train[numerical] = rc.fit_transform(df_train[numerical])"
   ]
  },
  {
   "cell_type": "code",
   "execution_count": null,
   "metadata": {
    "id": "yPjLlRS5r8NR"
   },
   "outputs": [],
   "source": [
    "cols_percent = ['Prevalence - Mental disorders - Sex: Both - Age: Age-standardized (Percent)',\n",
    "                'Suicide rate',\n",
    "                'Deaths - Self-harm - Sex: Both - Age: All Ages (Percent)',\n",
    "                'unemployment rate',\n",
    "                'DALYs (Disability-Adjusted Life Years) - Mental disorders - Sex: Both - Age: All Ages (Percent)',\n",
    "                'Deaths - Mental and substance use disorders - Sex: Both - Age: Age-standardized (Rate)'\n",
    "                ]"
   ]
  },
  {
   "cell_type": "code",
   "execution_count": null,
   "metadata": {
    "id": "Acefd3_9tq-L"
   },
   "outputs": [],
   "source": [
    "df_train[cols_percent]=10**(-2)*df_train[cols_percent]"
   ]
  },
  {
   "cell_type": "code",
   "execution_count": null,
   "metadata": {
    "colab": {
     "base_uri": "https://localhost:8080/",
     "height": 644
    },
    "id": "cDTQx9ci15YF",
    "outputId": "b6d4cb85-1e41-4f5c-8ff3-1c41379e22a7"
   },
   "outputs": [
    {
     "data": {
      "text/html": [
       "\n",
       "  <div id=\"df-819349c6-a8de-4333-98e6-4ac1b78ef302\">\n",
       "    <div class=\"colab-df-container\">\n",
       "      <div>\n",
       "<style scoped>\n",
       "    .dataframe tbody tr th:only-of-type {\n",
       "        vertical-align: middle;\n",
       "    }\n",
       "\n",
       "    .dataframe tbody tr th {\n",
       "        vertical-align: top;\n",
       "    }\n",
       "\n",
       "    .dataframe thead th {\n",
       "        text-align: right;\n",
       "    }\n",
       "</style>\n",
       "<table border=\"1\" class=\"dataframe\">\n",
       "  <thead>\n",
       "    <tr style=\"text-align: right;\">\n",
       "      <th></th>\n",
       "      <th>Year</th>\n",
       "      <th>Prevalence - Mental disorders - Sex: Both - Age: Age-standardized (Percent)</th>\n",
       "      <th>Deaths - Self-harm - Sex: Both - Age: All Ages (Percent)</th>\n",
       "      <th>Deaths - Mental and substance use disorders - Sex: Both - Age: Age-standardized (Rate)</th>\n",
       "      <th>gdp_current</th>\n",
       "      <th>gdp_per_capita</th>\n",
       "      <th>health expenditure (per capita)</th>\n",
       "      <th>health expenditure (% GDP)</th>\n",
       "      <th>unemployment rate</th>\n",
       "      <th>Income</th>\n",
       "      <th>DALYs (Disability-Adjusted Life Years) - Mental disorders - Sex: Both - Age: All Ages (Percent)</th>\n",
       "      <th>Suicide rate</th>\n",
       "    </tr>\n",
       "  </thead>\n",
       "  <tbody>\n",
       "    <tr>\n",
       "      <th>0</th>\n",
       "      <td>0</td>\n",
       "      <td>0.179393</td>\n",
       "      <td>0.004425</td>\n",
       "      <td>0.000903</td>\n",
       "      <td>1.037402</td>\n",
       "      <td>-0.033447</td>\n",
       "      <td>1.002984</td>\n",
       "      <td>1.827306</td>\n",
       "      <td>0.10806</td>\n",
       "      <td>0.099291</td>\n",
       "      <td>0.018939</td>\n",
       "      <td>0.077</td>\n",
       "    </tr>\n",
       "    <tr>\n",
       "      <th>1</th>\n",
       "      <td>1</td>\n",
       "      <td>0.179335</td>\n",
       "      <td>0.004575</td>\n",
       "      <td>0.000849</td>\n",
       "      <td>1.037402</td>\n",
       "      <td>-0.033447</td>\n",
       "      <td>1.002984</td>\n",
       "      <td>1.827306</td>\n",
       "      <td>0.10809</td>\n",
       "      <td>0.099291</td>\n",
       "      <td>0.019640</td>\n",
       "      <td>0.079</td>\n",
       "    </tr>\n",
       "    <tr>\n",
       "      <th>2</th>\n",
       "      <td>2</td>\n",
       "      <td>0.179165</td>\n",
       "      <td>0.004619</td>\n",
       "      <td>0.000820</td>\n",
       "      <td>-0.190783</td>\n",
       "      <td>-0.868087</td>\n",
       "      <td>-0.621854</td>\n",
       "      <td>1.658551</td>\n",
       "      <td>0.11257</td>\n",
       "      <td>0.099291</td>\n",
       "      <td>0.020906</td>\n",
       "      <td>0.079</td>\n",
       "    </tr>\n",
       "    <tr>\n",
       "      <th>3</th>\n",
       "      <td>3</td>\n",
       "      <td>0.178897</td>\n",
       "      <td>0.004906</td>\n",
       "      <td>0.000819</td>\n",
       "      <td>-0.146524</td>\n",
       "      <td>-0.837827</td>\n",
       "      <td>-0.559500</td>\n",
       "      <td>1.455923</td>\n",
       "      <td>0.11141</td>\n",
       "      <td>0.099291</td>\n",
       "      <td>0.022407</td>\n",
       "      <td>0.077</td>\n",
       "    </tr>\n",
       "    <tr>\n",
       "      <th>4</th>\n",
       "      <td>4</td>\n",
       "      <td>0.178599</td>\n",
       "      <td>0.005149</td>\n",
       "      <td>0.000825</td>\n",
       "      <td>-0.078152</td>\n",
       "      <td>-0.782188</td>\n",
       "      <td>-0.388662</td>\n",
       "      <td>1.805876</td>\n",
       "      <td>0.10988</td>\n",
       "      <td>0.099291</td>\n",
       "      <td>0.023602</td>\n",
       "      <td>0.078</td>\n",
       "    </tr>\n",
       "    <tr>\n",
       "      <th>...</th>\n",
       "      <td>...</td>\n",
       "      <td>...</td>\n",
       "      <td>...</td>\n",
       "      <td>...</td>\n",
       "      <td>...</td>\n",
       "      <td>...</td>\n",
       "      <td>...</td>\n",
       "      <td>...</td>\n",
       "      <td>...</td>\n",
       "      <td>...</td>\n",
       "      <td>...</td>\n",
       "      <td>...</td>\n",
       "    </tr>\n",
       "    <tr>\n",
       "      <th>3215</th>\n",
       "      <td>15</td>\n",
       "      <td>0.158380</td>\n",
       "      <td>0.008232</td>\n",
       "      <td>0.001083</td>\n",
       "      <td>3.499805</td>\n",
       "      <td>2.955441</td>\n",
       "      <td>2.280578</td>\n",
       "      <td>-0.436017</td>\n",
       "      <td>0.13770</td>\n",
       "      <td>2.000000</td>\n",
       "      <td>0.047522</td>\n",
       "      <td>0.068</td>\n",
       "    </tr>\n",
       "    <tr>\n",
       "      <th>3216</th>\n",
       "      <td>16</td>\n",
       "      <td>0.159288</td>\n",
       "      <td>0.008069</td>\n",
       "      <td>0.001138</td>\n",
       "      <td>2.430048</td>\n",
       "      <td>1.748202</td>\n",
       "      <td>1.735241</td>\n",
       "      <td>-0.062836</td>\n",
       "      <td>0.13433</td>\n",
       "      <td>1.858156</td>\n",
       "      <td>0.046402</td>\n",
       "      <td>0.070</td>\n",
       "    </tr>\n",
       "    <tr>\n",
       "      <th>3217</th>\n",
       "      <td>17</td>\n",
       "      <td>0.160724</td>\n",
       "      <td>0.008208</td>\n",
       "      <td>0.001197</td>\n",
       "      <td>1.999632</td>\n",
       "      <td>1.241617</td>\n",
       "      <td>1.735241</td>\n",
       "      <td>-0.062836</td>\n",
       "      <td>0.13297</td>\n",
       "      <td>1.631206</td>\n",
       "      <td>0.046778</td>\n",
       "      <td>0.069</td>\n",
       "    </tr>\n",
       "    <tr>\n",
       "      <th>3218</th>\n",
       "      <td>18</td>\n",
       "      <td>0.162209</td>\n",
       "      <td>0.007970</td>\n",
       "      <td>0.000820</td>\n",
       "      <td>1.496466</td>\n",
       "      <td>0.687552</td>\n",
       "      <td>1.735241</td>\n",
       "      <td>-0.062836</td>\n",
       "      <td>0.13145</td>\n",
       "      <td>1.262411</td>\n",
       "      <td>0.046847</td>\n",
       "      <td>0.071</td>\n",
       "    </tr>\n",
       "    <tr>\n",
       "      <th>3219</th>\n",
       "      <td>19</td>\n",
       "      <td>0.164015</td>\n",
       "      <td>0.008901</td>\n",
       "      <td>0.000820</td>\n",
       "      <td>1.835257</td>\n",
       "      <td>1.384159</td>\n",
       "      <td>1.735241</td>\n",
       "      <td>-0.062836</td>\n",
       "      <td>0.13056</td>\n",
       "      <td>1.460993</td>\n",
       "      <td>0.050518</td>\n",
       "      <td>0.071</td>\n",
       "    </tr>\n",
       "  </tbody>\n",
       "</table>\n",
       "<p>480 rows × 12 columns</p>\n",
       "</div>\n",
       "      <button class=\"colab-df-convert\" onclick=\"convertToInteractive('df-819349c6-a8de-4333-98e6-4ac1b78ef302')\"\n",
       "              title=\"Convert this dataframe to an interactive table.\"\n",
       "              style=\"display:none;\">\n",
       "        \n",
       "  <svg xmlns=\"http://www.w3.org/2000/svg\" height=\"24px\"viewBox=\"0 0 24 24\"\n",
       "       width=\"24px\">\n",
       "    <path d=\"M0 0h24v24H0V0z\" fill=\"none\"/>\n",
       "    <path d=\"M18.56 5.44l.94 2.06.94-2.06 2.06-.94-2.06-.94-.94-2.06-.94 2.06-2.06.94zm-11 1L8.5 8.5l.94-2.06 2.06-.94-2.06-.94L8.5 2.5l-.94 2.06-2.06.94zm10 10l.94 2.06.94-2.06 2.06-.94-2.06-.94-.94-2.06-.94 2.06-2.06.94z\"/><path d=\"M17.41 7.96l-1.37-1.37c-.4-.4-.92-.59-1.43-.59-.52 0-1.04.2-1.43.59L10.3 9.45l-7.72 7.72c-.78.78-.78 2.05 0 2.83L4 21.41c.39.39.9.59 1.41.59.51 0 1.02-.2 1.41-.59l7.78-7.78 2.81-2.81c.8-.78.8-2.07 0-2.86zM5.41 20L4 18.59l7.72-7.72 1.47 1.35L5.41 20z\"/>\n",
       "  </svg>\n",
       "      </button>\n",
       "      \n",
       "  <style>\n",
       "    .colab-df-container {\n",
       "      display:flex;\n",
       "      flex-wrap:wrap;\n",
       "      gap: 12px;\n",
       "    }\n",
       "\n",
       "    .colab-df-convert {\n",
       "      background-color: #E8F0FE;\n",
       "      border: none;\n",
       "      border-radius: 50%;\n",
       "      cursor: pointer;\n",
       "      display: none;\n",
       "      fill: #1967D2;\n",
       "      height: 32px;\n",
       "      padding: 0 0 0 0;\n",
       "      width: 32px;\n",
       "    }\n",
       "\n",
       "    .colab-df-convert:hover {\n",
       "      background-color: #E2EBFA;\n",
       "      box-shadow: 0px 1px 2px rgba(60, 64, 67, 0.3), 0px 1px 3px 1px rgba(60, 64, 67, 0.15);\n",
       "      fill: #174EA6;\n",
       "    }\n",
       "\n",
       "    [theme=dark] .colab-df-convert {\n",
       "      background-color: #3B4455;\n",
       "      fill: #D2E3FC;\n",
       "    }\n",
       "\n",
       "    [theme=dark] .colab-df-convert:hover {\n",
       "      background-color: #434B5C;\n",
       "      box-shadow: 0px 1px 3px 1px rgba(0, 0, 0, 0.15);\n",
       "      filter: drop-shadow(0px 1px 2px rgba(0, 0, 0, 0.3));\n",
       "      fill: #FFFFFF;\n",
       "    }\n",
       "  </style>\n",
       "\n",
       "      <script>\n",
       "        const buttonEl =\n",
       "          document.querySelector('#df-819349c6-a8de-4333-98e6-4ac1b78ef302 button.colab-df-convert');\n",
       "        buttonEl.style.display =\n",
       "          google.colab.kernel.accessAllowed ? 'block' : 'none';\n",
       "\n",
       "        async function convertToInteractive(key) {\n",
       "          const element = document.querySelector('#df-819349c6-a8de-4333-98e6-4ac1b78ef302');\n",
       "          const dataTable =\n",
       "            await google.colab.kernel.invokeFunction('convertToInteractive',\n",
       "                                                     [key], {});\n",
       "          if (!dataTable) return;\n",
       "\n",
       "          const docLinkHtml = 'Like what you see? Visit the ' +\n",
       "            '<a target=\"_blank\" href=https://colab.research.google.com/notebooks/data_table.ipynb>data table notebook</a>'\n",
       "            + ' to learn more about interactive tables.';\n",
       "          element.innerHTML = '';\n",
       "          dataTable['output_type'] = 'display_data';\n",
       "          await google.colab.output.renderOutput(dataTable, element);\n",
       "          const docLink = document.createElement('div');\n",
       "          docLink.innerHTML = docLinkHtml;\n",
       "          element.appendChild(docLink);\n",
       "        }\n",
       "      </script>\n",
       "    </div>\n",
       "  </div>\n",
       "  "
      ],
      "text/plain": [
       "      Year  \\\n",
       "0        0   \n",
       "1        1   \n",
       "2        2   \n",
       "3        3   \n",
       "4        4   \n",
       "...    ...   \n",
       "3215    15   \n",
       "3216    16   \n",
       "3217    17   \n",
       "3218    18   \n",
       "3219    19   \n",
       "\n",
       "      Prevalence - Mental disorders - Sex: Both - Age: Age-standardized (Percent)  \\\n",
       "0                                              0.179393                             \n",
       "1                                              0.179335                             \n",
       "2                                              0.179165                             \n",
       "3                                              0.178897                             \n",
       "4                                              0.178599                             \n",
       "...                                                 ...                             \n",
       "3215                                           0.158380                             \n",
       "3216                                           0.159288                             \n",
       "3217                                           0.160724                             \n",
       "3218                                           0.162209                             \n",
       "3219                                           0.164015                             \n",
       "\n",
       "      Deaths - Self-harm - Sex: Both - Age: All Ages (Percent)  \\\n",
       "0                                              0.004425          \n",
       "1                                              0.004575          \n",
       "2                                              0.004619          \n",
       "3                                              0.004906          \n",
       "4                                              0.005149          \n",
       "...                                                 ...          \n",
       "3215                                           0.008232          \n",
       "3216                                           0.008069          \n",
       "3217                                           0.008208          \n",
       "3218                                           0.007970          \n",
       "3219                                           0.008901          \n",
       "\n",
       "      Deaths - Mental and substance use disorders - Sex: Both - Age: Age-standardized (Rate)  \\\n",
       "0                                              0.000903                                        \n",
       "1                                              0.000849                                        \n",
       "2                                              0.000820                                        \n",
       "3                                              0.000819                                        \n",
       "4                                              0.000825                                        \n",
       "...                                                 ...                                        \n",
       "3215                                           0.001083                                        \n",
       "3216                                           0.001138                                        \n",
       "3217                                           0.001197                                        \n",
       "3218                                           0.000820                                        \n",
       "3219                                           0.000820                                        \n",
       "\n",
       "      gdp_current  gdp_per_capita  health expenditure (per capita)  \\\n",
       "0        1.037402       -0.033447                         1.002984   \n",
       "1        1.037402       -0.033447                         1.002984   \n",
       "2       -0.190783       -0.868087                        -0.621854   \n",
       "3       -0.146524       -0.837827                        -0.559500   \n",
       "4       -0.078152       -0.782188                        -0.388662   \n",
       "...           ...             ...                              ...   \n",
       "3215     3.499805        2.955441                         2.280578   \n",
       "3216     2.430048        1.748202                         1.735241   \n",
       "3217     1.999632        1.241617                         1.735241   \n",
       "3218     1.496466        0.687552                         1.735241   \n",
       "3219     1.835257        1.384159                         1.735241   \n",
       "\n",
       "      health expenditure (% GDP)  unemployment rate    Income  \\\n",
       "0                       1.827306            0.10806  0.099291   \n",
       "1                       1.827306            0.10809  0.099291   \n",
       "2                       1.658551            0.11257  0.099291   \n",
       "3                       1.455923            0.11141  0.099291   \n",
       "4                       1.805876            0.10988  0.099291   \n",
       "...                          ...                ...       ...   \n",
       "3215                   -0.436017            0.13770  2.000000   \n",
       "3216                   -0.062836            0.13433  1.858156   \n",
       "3217                   -0.062836            0.13297  1.631206   \n",
       "3218                   -0.062836            0.13145  1.262411   \n",
       "3219                   -0.062836            0.13056  1.460993   \n",
       "\n",
       "      DALYs (Disability-Adjusted Life Years) - Mental disorders - Sex: Both - Age: All Ages (Percent)  \\\n",
       "0                                              0.018939                                                 \n",
       "1                                              0.019640                                                 \n",
       "2                                              0.020906                                                 \n",
       "3                                              0.022407                                                 \n",
       "4                                              0.023602                                                 \n",
       "...                                                 ...                                                 \n",
       "3215                                           0.047522                                                 \n",
       "3216                                           0.046402                                                 \n",
       "3217                                           0.046778                                                 \n",
       "3218                                           0.046847                                                 \n",
       "3219                                           0.050518                                                 \n",
       "\n",
       "      Suicide rate  \n",
       "0            0.077  \n",
       "1            0.079  \n",
       "2            0.079  \n",
       "3            0.077  \n",
       "4            0.078  \n",
       "...            ...  \n",
       "3215         0.068  \n",
       "3216         0.070  \n",
       "3217         0.069  \n",
       "3218         0.071  \n",
       "3219         0.071  \n",
       "\n",
       "[480 rows x 12 columns]"
      ]
     },
     "execution_count": 61,
     "metadata": {},
     "output_type": "execute_result"
    }
   ],
   "source": [
    "df_train"
   ]
  },
  {
   "cell_type": "code",
   "execution_count": null,
   "metadata": {
    "id": "LXdPXbeKpkA_"
   },
   "outputs": [],
   "source": [
    "X = df_train.drop(['Suicide rate'], axis=1)\n",
    "y = df_train['Suicide rate']"
   ]
  },
  {
   "cell_type": "code",
   "execution_count": null,
   "metadata": {
    "colab": {
     "base_uri": "https://localhost:8080/",
     "height": 644
    },
    "id": "nJKIaJ2xqNWV",
    "outputId": "d22cc821-ede0-4ef5-b814-9022fce44de5"
   },
   "outputs": [
    {
     "data": {
      "text/html": [
       "\n",
       "  <div id=\"df-0a1bc261-5ef2-421c-ad6e-e39efb34c3bb\">\n",
       "    <div class=\"colab-df-container\">\n",
       "      <div>\n",
       "<style scoped>\n",
       "    .dataframe tbody tr th:only-of-type {\n",
       "        vertical-align: middle;\n",
       "    }\n",
       "\n",
       "    .dataframe tbody tr th {\n",
       "        vertical-align: top;\n",
       "    }\n",
       "\n",
       "    .dataframe thead th {\n",
       "        text-align: right;\n",
       "    }\n",
       "</style>\n",
       "<table border=\"1\" class=\"dataframe\">\n",
       "  <thead>\n",
       "    <tr style=\"text-align: right;\">\n",
       "      <th></th>\n",
       "      <th>Year</th>\n",
       "      <th>Prevalence - Mental disorders - Sex: Both - Age: Age-standardized (Percent)</th>\n",
       "      <th>Deaths - Self-harm - Sex: Both - Age: All Ages (Percent)</th>\n",
       "      <th>Deaths - Mental and substance use disorders - Sex: Both - Age: Age-standardized (Rate)</th>\n",
       "      <th>gdp_current</th>\n",
       "      <th>gdp_per_capita</th>\n",
       "      <th>health expenditure (per capita)</th>\n",
       "      <th>health expenditure (% GDP)</th>\n",
       "      <th>unemployment rate</th>\n",
       "      <th>Income</th>\n",
       "      <th>DALYs (Disability-Adjusted Life Years) - Mental disorders - Sex: Both - Age: All Ages (Percent)</th>\n",
       "    </tr>\n",
       "  </thead>\n",
       "  <tbody>\n",
       "    <tr>\n",
       "      <th>0</th>\n",
       "      <td>0</td>\n",
       "      <td>0.179393</td>\n",
       "      <td>0.004425</td>\n",
       "      <td>0.000903</td>\n",
       "      <td>1.037402</td>\n",
       "      <td>-0.033447</td>\n",
       "      <td>1.002984</td>\n",
       "      <td>1.827306</td>\n",
       "      <td>0.10806</td>\n",
       "      <td>0.099291</td>\n",
       "      <td>0.018939</td>\n",
       "    </tr>\n",
       "    <tr>\n",
       "      <th>1</th>\n",
       "      <td>1</td>\n",
       "      <td>0.179335</td>\n",
       "      <td>0.004575</td>\n",
       "      <td>0.000849</td>\n",
       "      <td>1.037402</td>\n",
       "      <td>-0.033447</td>\n",
       "      <td>1.002984</td>\n",
       "      <td>1.827306</td>\n",
       "      <td>0.10809</td>\n",
       "      <td>0.099291</td>\n",
       "      <td>0.019640</td>\n",
       "    </tr>\n",
       "    <tr>\n",
       "      <th>2</th>\n",
       "      <td>2</td>\n",
       "      <td>0.179165</td>\n",
       "      <td>0.004619</td>\n",
       "      <td>0.000820</td>\n",
       "      <td>-0.190783</td>\n",
       "      <td>-0.868087</td>\n",
       "      <td>-0.621854</td>\n",
       "      <td>1.658551</td>\n",
       "      <td>0.11257</td>\n",
       "      <td>0.099291</td>\n",
       "      <td>0.020906</td>\n",
       "    </tr>\n",
       "    <tr>\n",
       "      <th>3</th>\n",
       "      <td>3</td>\n",
       "      <td>0.178897</td>\n",
       "      <td>0.004906</td>\n",
       "      <td>0.000819</td>\n",
       "      <td>-0.146524</td>\n",
       "      <td>-0.837827</td>\n",
       "      <td>-0.559500</td>\n",
       "      <td>1.455923</td>\n",
       "      <td>0.11141</td>\n",
       "      <td>0.099291</td>\n",
       "      <td>0.022407</td>\n",
       "    </tr>\n",
       "    <tr>\n",
       "      <th>4</th>\n",
       "      <td>4</td>\n",
       "      <td>0.178599</td>\n",
       "      <td>0.005149</td>\n",
       "      <td>0.000825</td>\n",
       "      <td>-0.078152</td>\n",
       "      <td>-0.782188</td>\n",
       "      <td>-0.388662</td>\n",
       "      <td>1.805876</td>\n",
       "      <td>0.10988</td>\n",
       "      <td>0.099291</td>\n",
       "      <td>0.023602</td>\n",
       "    </tr>\n",
       "    <tr>\n",
       "      <th>...</th>\n",
       "      <td>...</td>\n",
       "      <td>...</td>\n",
       "      <td>...</td>\n",
       "      <td>...</td>\n",
       "      <td>...</td>\n",
       "      <td>...</td>\n",
       "      <td>...</td>\n",
       "      <td>...</td>\n",
       "      <td>...</td>\n",
       "      <td>...</td>\n",
       "      <td>...</td>\n",
       "    </tr>\n",
       "    <tr>\n",
       "      <th>3215</th>\n",
       "      <td>15</td>\n",
       "      <td>0.158380</td>\n",
       "      <td>0.008232</td>\n",
       "      <td>0.001083</td>\n",
       "      <td>3.499805</td>\n",
       "      <td>2.955441</td>\n",
       "      <td>2.280578</td>\n",
       "      <td>-0.436017</td>\n",
       "      <td>0.13770</td>\n",
       "      <td>2.000000</td>\n",
       "      <td>0.047522</td>\n",
       "    </tr>\n",
       "    <tr>\n",
       "      <th>3216</th>\n",
       "      <td>16</td>\n",
       "      <td>0.159288</td>\n",
       "      <td>0.008069</td>\n",
       "      <td>0.001138</td>\n",
       "      <td>2.430048</td>\n",
       "      <td>1.748202</td>\n",
       "      <td>1.735241</td>\n",
       "      <td>-0.062836</td>\n",
       "      <td>0.13433</td>\n",
       "      <td>1.858156</td>\n",
       "      <td>0.046402</td>\n",
       "    </tr>\n",
       "    <tr>\n",
       "      <th>3217</th>\n",
       "      <td>17</td>\n",
       "      <td>0.160724</td>\n",
       "      <td>0.008208</td>\n",
       "      <td>0.001197</td>\n",
       "      <td>1.999632</td>\n",
       "      <td>1.241617</td>\n",
       "      <td>1.735241</td>\n",
       "      <td>-0.062836</td>\n",
       "      <td>0.13297</td>\n",
       "      <td>1.631206</td>\n",
       "      <td>0.046778</td>\n",
       "    </tr>\n",
       "    <tr>\n",
       "      <th>3218</th>\n",
       "      <td>18</td>\n",
       "      <td>0.162209</td>\n",
       "      <td>0.007970</td>\n",
       "      <td>0.000820</td>\n",
       "      <td>1.496466</td>\n",
       "      <td>0.687552</td>\n",
       "      <td>1.735241</td>\n",
       "      <td>-0.062836</td>\n",
       "      <td>0.13145</td>\n",
       "      <td>1.262411</td>\n",
       "      <td>0.046847</td>\n",
       "    </tr>\n",
       "    <tr>\n",
       "      <th>3219</th>\n",
       "      <td>19</td>\n",
       "      <td>0.164015</td>\n",
       "      <td>0.008901</td>\n",
       "      <td>0.000820</td>\n",
       "      <td>1.835257</td>\n",
       "      <td>1.384159</td>\n",
       "      <td>1.735241</td>\n",
       "      <td>-0.062836</td>\n",
       "      <td>0.13056</td>\n",
       "      <td>1.460993</td>\n",
       "      <td>0.050518</td>\n",
       "    </tr>\n",
       "  </tbody>\n",
       "</table>\n",
       "<p>480 rows × 11 columns</p>\n",
       "</div>\n",
       "      <button class=\"colab-df-convert\" onclick=\"convertToInteractive('df-0a1bc261-5ef2-421c-ad6e-e39efb34c3bb')\"\n",
       "              title=\"Convert this dataframe to an interactive table.\"\n",
       "              style=\"display:none;\">\n",
       "        \n",
       "  <svg xmlns=\"http://www.w3.org/2000/svg\" height=\"24px\"viewBox=\"0 0 24 24\"\n",
       "       width=\"24px\">\n",
       "    <path d=\"M0 0h24v24H0V0z\" fill=\"none\"/>\n",
       "    <path d=\"M18.56 5.44l.94 2.06.94-2.06 2.06-.94-2.06-.94-.94-2.06-.94 2.06-2.06.94zm-11 1L8.5 8.5l.94-2.06 2.06-.94-2.06-.94L8.5 2.5l-.94 2.06-2.06.94zm10 10l.94 2.06.94-2.06 2.06-.94-2.06-.94-.94-2.06-.94 2.06-2.06.94z\"/><path d=\"M17.41 7.96l-1.37-1.37c-.4-.4-.92-.59-1.43-.59-.52 0-1.04.2-1.43.59L10.3 9.45l-7.72 7.72c-.78.78-.78 2.05 0 2.83L4 21.41c.39.39.9.59 1.41.59.51 0 1.02-.2 1.41-.59l7.78-7.78 2.81-2.81c.8-.78.8-2.07 0-2.86zM5.41 20L4 18.59l7.72-7.72 1.47 1.35L5.41 20z\"/>\n",
       "  </svg>\n",
       "      </button>\n",
       "      \n",
       "  <style>\n",
       "    .colab-df-container {\n",
       "      display:flex;\n",
       "      flex-wrap:wrap;\n",
       "      gap: 12px;\n",
       "    }\n",
       "\n",
       "    .colab-df-convert {\n",
       "      background-color: #E8F0FE;\n",
       "      border: none;\n",
       "      border-radius: 50%;\n",
       "      cursor: pointer;\n",
       "      display: none;\n",
       "      fill: #1967D2;\n",
       "      height: 32px;\n",
       "      padding: 0 0 0 0;\n",
       "      width: 32px;\n",
       "    }\n",
       "\n",
       "    .colab-df-convert:hover {\n",
       "      background-color: #E2EBFA;\n",
       "      box-shadow: 0px 1px 2px rgba(60, 64, 67, 0.3), 0px 1px 3px 1px rgba(60, 64, 67, 0.15);\n",
       "      fill: #174EA6;\n",
       "    }\n",
       "\n",
       "    [theme=dark] .colab-df-convert {\n",
       "      background-color: #3B4455;\n",
       "      fill: #D2E3FC;\n",
       "    }\n",
       "\n",
       "    [theme=dark] .colab-df-convert:hover {\n",
       "      background-color: #434B5C;\n",
       "      box-shadow: 0px 1px 3px 1px rgba(0, 0, 0, 0.15);\n",
       "      filter: drop-shadow(0px 1px 2px rgba(0, 0, 0, 0.3));\n",
       "      fill: #FFFFFF;\n",
       "    }\n",
       "  </style>\n",
       "\n",
       "      <script>\n",
       "        const buttonEl =\n",
       "          document.querySelector('#df-0a1bc261-5ef2-421c-ad6e-e39efb34c3bb button.colab-df-convert');\n",
       "        buttonEl.style.display =\n",
       "          google.colab.kernel.accessAllowed ? 'block' : 'none';\n",
       "\n",
       "        async function convertToInteractive(key) {\n",
       "          const element = document.querySelector('#df-0a1bc261-5ef2-421c-ad6e-e39efb34c3bb');\n",
       "          const dataTable =\n",
       "            await google.colab.kernel.invokeFunction('convertToInteractive',\n",
       "                                                     [key], {});\n",
       "          if (!dataTable) return;\n",
       "\n",
       "          const docLinkHtml = 'Like what you see? Visit the ' +\n",
       "            '<a target=\"_blank\" href=https://colab.research.google.com/notebooks/data_table.ipynb>data table notebook</a>'\n",
       "            + ' to learn more about interactive tables.';\n",
       "          element.innerHTML = '';\n",
       "          dataTable['output_type'] = 'display_data';\n",
       "          await google.colab.output.renderOutput(dataTable, element);\n",
       "          const docLink = document.createElement('div');\n",
       "          docLink.innerHTML = docLinkHtml;\n",
       "          element.appendChild(docLink);\n",
       "        }\n",
       "      </script>\n",
       "    </div>\n",
       "  </div>\n",
       "  "
      ],
      "text/plain": [
       "      Year  \\\n",
       "0        0   \n",
       "1        1   \n",
       "2        2   \n",
       "3        3   \n",
       "4        4   \n",
       "...    ...   \n",
       "3215    15   \n",
       "3216    16   \n",
       "3217    17   \n",
       "3218    18   \n",
       "3219    19   \n",
       "\n",
       "      Prevalence - Mental disorders - Sex: Both - Age: Age-standardized (Percent)  \\\n",
       "0                                              0.179393                             \n",
       "1                                              0.179335                             \n",
       "2                                              0.179165                             \n",
       "3                                              0.178897                             \n",
       "4                                              0.178599                             \n",
       "...                                                 ...                             \n",
       "3215                                           0.158380                             \n",
       "3216                                           0.159288                             \n",
       "3217                                           0.160724                             \n",
       "3218                                           0.162209                             \n",
       "3219                                           0.164015                             \n",
       "\n",
       "      Deaths - Self-harm - Sex: Both - Age: All Ages (Percent)  \\\n",
       "0                                              0.004425          \n",
       "1                                              0.004575          \n",
       "2                                              0.004619          \n",
       "3                                              0.004906          \n",
       "4                                              0.005149          \n",
       "...                                                 ...          \n",
       "3215                                           0.008232          \n",
       "3216                                           0.008069          \n",
       "3217                                           0.008208          \n",
       "3218                                           0.007970          \n",
       "3219                                           0.008901          \n",
       "\n",
       "      Deaths - Mental and substance use disorders - Sex: Both - Age: Age-standardized (Rate)  \\\n",
       "0                                              0.000903                                        \n",
       "1                                              0.000849                                        \n",
       "2                                              0.000820                                        \n",
       "3                                              0.000819                                        \n",
       "4                                              0.000825                                        \n",
       "...                                                 ...                                        \n",
       "3215                                           0.001083                                        \n",
       "3216                                           0.001138                                        \n",
       "3217                                           0.001197                                        \n",
       "3218                                           0.000820                                        \n",
       "3219                                           0.000820                                        \n",
       "\n",
       "      gdp_current  gdp_per_capita  health expenditure (per capita)  \\\n",
       "0        1.037402       -0.033447                         1.002984   \n",
       "1        1.037402       -0.033447                         1.002984   \n",
       "2       -0.190783       -0.868087                        -0.621854   \n",
       "3       -0.146524       -0.837827                        -0.559500   \n",
       "4       -0.078152       -0.782188                        -0.388662   \n",
       "...           ...             ...                              ...   \n",
       "3215     3.499805        2.955441                         2.280578   \n",
       "3216     2.430048        1.748202                         1.735241   \n",
       "3217     1.999632        1.241617                         1.735241   \n",
       "3218     1.496466        0.687552                         1.735241   \n",
       "3219     1.835257        1.384159                         1.735241   \n",
       "\n",
       "      health expenditure (% GDP)  unemployment rate    Income  \\\n",
       "0                       1.827306            0.10806  0.099291   \n",
       "1                       1.827306            0.10809  0.099291   \n",
       "2                       1.658551            0.11257  0.099291   \n",
       "3                       1.455923            0.11141  0.099291   \n",
       "4                       1.805876            0.10988  0.099291   \n",
       "...                          ...                ...       ...   \n",
       "3215                   -0.436017            0.13770  2.000000   \n",
       "3216                   -0.062836            0.13433  1.858156   \n",
       "3217                   -0.062836            0.13297  1.631206   \n",
       "3218                   -0.062836            0.13145  1.262411   \n",
       "3219                   -0.062836            0.13056  1.460993   \n",
       "\n",
       "      DALYs (Disability-Adjusted Life Years) - Mental disorders - Sex: Both - Age: All Ages (Percent)  \n",
       "0                                              0.018939                                                \n",
       "1                                              0.019640                                                \n",
       "2                                              0.020906                                                \n",
       "3                                              0.022407                                                \n",
       "4                                              0.023602                                                \n",
       "...                                                 ...                                                \n",
       "3215                                           0.047522                                                \n",
       "3216                                           0.046402                                                \n",
       "3217                                           0.046778                                                \n",
       "3218                                           0.046847                                                \n",
       "3219                                           0.050518                                                \n",
       "\n",
       "[480 rows x 11 columns]"
      ]
     },
     "execution_count": 63,
     "metadata": {},
     "output_type": "execute_result"
    }
   ],
   "source": [
    "X"
   ]
  },
  {
   "cell_type": "code",
   "execution_count": null,
   "metadata": {
    "colab": {
     "base_uri": "https://localhost:8080/"
    },
    "id": "DXUDQM14hGnR",
    "outputId": "0da48989-3aa4-4e4e-d032-5561d2f02ab0"
   },
   "outputs": [
    {
     "data": {
      "text/plain": [
       "((384, 11), (96, 11))"
      ]
     },
     "execution_count": 64,
     "metadata": {},
     "output_type": "execute_result"
    }
   ],
   "source": [
    "from sklearn.model_selection import train_test_split\n",
    "\n",
    "X_train, X_test, y_train, y_test = train_test_split(X, y, test_size = 0.2, random_state = 12)\n",
    "X_train.shape, X_test.shape"
   ]
  },
  {
   "cell_type": "markdown",
   "metadata": {
    "id": "7GPrMfVrf5qB"
   },
   "source": [
    "### KNN"
   ]
  },
  {
   "cell_type": "code",
   "execution_count": null,
   "metadata": {
    "colab": {
     "base_uri": "https://localhost:8080/"
    },
    "id": "hh2btSVvf9NE",
    "outputId": "c6d7baa2-f86b-400b-e19e-6c46ba5e84ff"
   },
   "outputs": [
    {
     "data": {
      "text/plain": [
       "GridSearchCV(cv=10, estimator=KNeighborsRegressor(),\n",
       "             param_grid={'n_neighbors': [1, 2, 3, 4, 5, 6, 7, 8, 9, 10, 11, 12,\n",
       "                                         13, 14, 15, 16, 17, 18, 19],\n",
       "                         'weights': ['uniform', 'distance']})"
      ]
     },
     "execution_count": 91,
     "metadata": {},
     "output_type": "execute_result"
    }
   ],
   "source": [
    "# KNN Regression model\n",
    "from sklearn.neighbors import KNeighborsRegressor\n",
    "\n",
    "# instantiate the model\n",
    "knn = KNeighborsRegressor()\n",
    "\n",
    "param_grid = {'n_neighbors':list(range(1, 20)), 'weights': ['uniform', 'distance']}\n",
    "\n",
    "# instantiate the grid\n",
    "knn_grid = GridSearchCV(knn, param_grid , cv=10)\n",
    "\n",
    "# fit the model \n",
    "knn_grid.fit(X_train, y_train)"
   ]
  },
  {
   "cell_type": "code",
   "execution_count": null,
   "metadata": {
    "colab": {
     "base_uri": "https://localhost:8080/"
    },
    "id": "zs7ThGf4qBuz",
    "outputId": "156a333a-2a6c-4c75-d37f-7cdad9de690a"
   },
   "outputs": [
    {
     "name": "stdout",
     "output_type": "stream",
     "text": [
      "{'n_neighbors': 7, 'weights': 'distance'}\n"
     ]
    }
   ],
   "source": [
    "#Checking the best parameters for the model\n",
    "knn_para = knn_grid.best_params_\n",
    "print(knn_para)"
   ]
  },
  {
   "cell_type": "code",
   "execution_count": null,
   "metadata": {
    "id": "P4SwR94nqEx2"
   },
   "outputs": [],
   "source": [
    "#predicting the target value from the model for the samples\n",
    "y_train_knn = knn_grid.predict(X_train)\n",
    "y_test_knn = knn_grid.predict(X_test)"
   ]
  },
  {
   "cell_type": "markdown",
   "metadata": {
    "id": "v2iLQrKIqHx5"
   },
   "source": [
    "**Performance Evaluation**"
   ]
  },
  {
   "cell_type": "code",
   "execution_count": null,
   "metadata": {
    "colab": {
     "base_uri": "https://localhost:8080/"
    },
    "id": "4M5AGm72qL8Q",
    "outputId": "8bc48bde-8465-452d-be42-4371b872f8e1"
   },
   "outputs": [
    {
     "name": "stdout",
     "output_type": "stream",
     "text": [
      "KNN: Accuracy on training Data: 1.000\n",
      "KNN: Accuracy on test Data: 0.326\n",
      "\n",
      "KNN: The RMSE of the training set is: 0.0\n",
      "KNN: The RMSE of the testing set is: 0.0491196269487786\n",
      "KNN: The MSE of the training set is: 0.0\n",
      "KNN: The MSE of the testing set is: 0.0024127377515871765\n",
      "KNN: The MAE of the training set is: 0.0\n",
      "KNN: The MAE of the testing set is: 0.036596494975268165\n"
     ]
    }
   ],
   "source": [
    "#computing the accuracy of the model performance\n",
    "acc_train_knn = knn_grid.score(X_train, y_train) \n",
    "acc_test_knn = knn_grid.score(X_test, y_test)\n",
    "\n",
    "#computing root mean squared error (RMSE)\n",
    "rmse_train_knn = np.sqrt(mean_squared_error(y_train, y_train_knn))\n",
    "rmse_test_knn = np.sqrt(mean_squared_error(y_test, y_test_knn))\n",
    "\n",
    "#computing mean squared error (MSE)\n",
    "mse_train_knn = mean_squared_error(y_train, y_train_knn)\n",
    "mse_test_knn = mean_squared_error(y_test, y_test_knn)\n",
    "\n",
    "#computitn mean absolute error\n",
    "mae_train_knn = mean_absolute_error(y_train, y_train_knn)\n",
    "mae_test_knn = mean_absolute_error(y_test, y_test_knn)\n",
    "\n",
    "#computitn mean absolute percentage error\n",
    "mape_train_knn = mean_absolute_percentage_error(y_train, y_train_knn)\n",
    "mape_test_knn = mean_absolute_percentage_error(y_test, y_test_knn)\n",
    "\n",
    "print(\"KNN: Accuracy on training Data: {:.3f}\".format(acc_train_knn))\n",
    "print(\"KNN: Accuracy on test Data: {:.3f}\".format(acc_test_knn))\n",
    "print('\\nKNN: The RMSE of the training set is:', rmse_train_knn)\n",
    "print('KNN: The RMSE of the testing set is:', rmse_test_knn)\n",
    "print('KNN: The MSE of the training set is:', mse_train_knn)\n",
    "print('KNN: The MSE of the testing set is:', mse_test_knn)\n",
    "print('KNN: The MAE of the training set is:', mae_train_knn)\n",
    "print('KNN: The MAE of the testing set is:', mae_test_knn)\n",
    "#print('KNN: The MAPE of the training set is:', mape_train_knn)\n",
    "#print('KNN: The MAPE of the testing set is:', mape_test_knn)"
   ]
  },
  {
   "cell_type": "code",
   "execution_count": null,
   "metadata": {
    "id": "NR8AO6JRqeaG"
   },
   "outputs": [],
   "source": [
    "#storing the results. The below mentioned order of parameter passing is important.\n",
    "#Caution: Execute only once to avoid duplications.\n",
    "storeResults('k-Nearest Neighbors Regression', acc_train_knn, acc_test_knn, mse_train_knn, mse_test_knn,rmse_train_knn, rmse_test_knn,mae_train_knn,mae_test_knn)"
   ]
  },
  {
   "cell_type": "code",
   "execution_count": null,
   "metadata": {
    "colab": {
     "base_uri": "https://localhost:8080/",
     "height": 297
    },
    "id": "f2k9Szqnqgaf",
    "outputId": "60510bfe-2c3f-4a64-9bdf-6c27bb1b6f59"
   },
   "outputs": [
    {
     "data": {
      "text/plain": [
       "<matplotlib.legend.Legend at 0x7f9abab33290>"
      ]
     },
     "execution_count": 96,
     "metadata": {},
     "output_type": "execute_result"
    },
    {
     "data": {
      "image/png": "[encoded data removed]",
      "text/plain": [
       "<Figure size 432x288 with 1 Axes>"
      ]
     },
     "metadata": {
      "needs_background": "light"
     },
     "output_type": "display_data"
    }
   ],
   "source": [
    "training_accuracy = []\n",
    "test_accuracy = []\n",
    "# try n_neighbors from 1 to 20\n",
    "neighbors_settings = range(1, 31)\n",
    "for n in neighbors_settings:\n",
    "  # fit the model\n",
    "  knn = KNeighborsRegressor(n_neighbors=n)\n",
    "  knn.fit(X_train, y_train)\n",
    "  # record training set accuracy\n",
    "  training_accuracy.append(knn.score(X_train, y_train))\n",
    "  # record generalization accuracy\n",
    "  test_accuracy.append(knn.score(X_test, y_test))\n",
    "\n",
    "#plotting the training & testing accuracy for n_neighbours from 1 to 30\n",
    "plt.plot(neighbors_settings, training_accuracy, label=\"training accuracy\")\n",
    "plt.plot(neighbors_settings, test_accuracy, label=\"test accuracy\")\n",
    "plt.ylabel(\"Accuracy\")  \n",
    "plt.xlabel(\"n_neighbors\")\n",
    "plt.legend()"
   ]
  },
  {
   "cell_type": "markdown",
   "metadata": {
    "id": "jXFlVU-_q3Ia"
   },
   "source": [
    "### Linear Regression"
   ]
  },
  {
   "cell_type": "code",
   "execution_count": null,
   "metadata": {
    "colab": {
     "base_uri": "https://localhost:8080/"
    },
    "id": "xLpd9NvDq5Sz",
    "outputId": "40cedb2a-56a0-4f9e-feb2-254c3dac5f3e"
   },
   "outputs": [
    {
     "data": {
      "text/plain": [
       "LinearRegression()"
      ]
     },
     "execution_count": 65,
     "metadata": {},
     "output_type": "execute_result"
    }
   ],
   "source": [
    "# Linear regression model \n",
    "from sklearn.linear_model import LinearRegression\n",
    "\n",
    "# instantiate the model\n",
    "lr = LinearRegression()\n",
    "# fit the model \n",
    "lr.fit(X_train, y_train)"
   ]
  },
  {
   "cell_type": "code",
   "execution_count": null,
   "metadata": {
    "id": "-Rl6OOknq8mg"
   },
   "outputs": [],
   "source": [
    "#predicting the target value from the model for the samples\n",
    "y_test_lr = lr.predict(X_test)\n",
    "y_train_lr = lr.predict(X_train)"
   ]
  },
  {
   "cell_type": "code",
   "execution_count": null,
   "metadata": {
    "colab": {
     "base_uri": "https://localhost:8080/"
    },
    "id": "Exi4t_VYq_TC",
    "outputId": "37007fd4-f58f-4fbf-dc5f-221aa93d07b3"
   },
   "outputs": [
    {
     "name": "stdout",
     "output_type": "stream",
     "text": [
      "Linear Regression: Accuracy on training Data: 0.787\n",
      "Linear Regression: Accuracy on test Data: 0.786\n",
      "\n",
      "Linear Regression: The RMSE of the training set is: 0.02508968051070895\n",
      "Linear Regression: The RMSE of the testing set is: 0.027707763716522886\n",
      "Linear Regression: The MSE of the training set is: 0.0006294920681294485\n",
      "Linear Regression: The MSE of the testing set is: 0.0007677201701706621\n",
      "Linear Regression: The MAE of the training set is: 0.019045578498249095\n",
      "Linear Regression: The MAE of the testing set is: 0.020781221049620716\n"
     ]
    }
   ],
   "source": [
    "#computing the accuracy of the model performance\n",
    "acc_train_lr = lr.score(X_train, y_train)\n",
    "acc_test_lr = lr.score(X_test, y_test)\n",
    "\n",
    "#computing root mean squared error (RMSE)\n",
    "rmse_train_lr = np.sqrt(mean_squared_error(y_train, y_train_lr))\n",
    "rmse_test_lr = np.sqrt(mean_squared_error(y_test, y_test_lr))\n",
    "\n",
    "#computing mean squared error (MSE)\n",
    "mse_train_lr = mean_squared_error(y_train, y_train_lr)\n",
    "mse_test_lr = mean_squared_error(y_test, y_test_lr)\n",
    "\n",
    "#computitn mean absolute error\n",
    "mae_train_lr = mean_absolute_error(y_train, y_train_lr)\n",
    "mae_test_lr = mean_absolute_error(y_test, y_test_lr)\n",
    "\n",
    "#computitn mean absolute percentage error\n",
    "mape_train_lr = mean_absolute_percentage_error(y_train, y_train_lr)\n",
    "mape_test_lr = mean_absolute_percentage_error(y_test, y_test_lr)\n",
    "\n",
    "\n",
    "print(\"Linear Regression: Accuracy on training Data: {:.3f}\".format(acc_train_lr))\n",
    "print(\"Linear Regression: Accuracy on test Data: {:.3f}\".format(acc_test_lr))\n",
    "print('\\nLinear Regression: The RMSE of the training set is:', rmse_train_lr)\n",
    "print('Linear Regression: The RMSE of the testing set is:', rmse_test_lr)\n",
    "print('Linear Regression: The MSE of the training set is:', mse_train_lr)\n",
    "print('Linear Regression: The MSE of the testing set is:', mse_test_lr)\n",
    "print('Linear Regression: The MAE of the training set is:', mae_train_lr)\n",
    "print('Linear Regression: The MAE of the testing set is:', mae_test_lr)\n",
    "#print('Linear Regression: The MAPE of the training set is:', mape_train_lr)\n",
    "#print('Linear Regression: The MAPE of the testing set is:', mape_test_lr)"
   ]
  },
  {
   "cell_type": "code",
   "execution_count": null,
   "metadata": {
    "id": "8Y11NAxNrFrl"
   },
   "outputs": [],
   "source": [
    "#storing the results. The below mentioned order of parameter passing is important.\n",
    "#Caution: Execute only once to avoid duplications.\n",
    "storeResults('Linear Regression', acc_train_lr, acc_test_lr, mse_train_lr, mse_test_lr, rmse_train_lr, rmse_test_lr, mae_train_lr,mae_test_lr)"
   ]
  },
  {
   "cell_type": "markdown",
   "metadata": {
    "id": "KfzdcFUlrNvl"
   },
   "source": [
    "### Decision trees: Regression"
   ]
  },
  {
   "cell_type": "code",
   "execution_count": null,
   "metadata": {
    "colab": {
     "base_uri": "https://localhost:8080/"
    },
    "id": "dqnPBGpLrfFi",
    "outputId": "1b2ed337-4489-479c-c1c0-2e39ce754520"
   },
   "outputs": [
    {
     "data": {
      "text/plain": [
       "DecisionTreeRegressor(max_depth=9)"
      ]
     },
     "execution_count": 69,
     "metadata": {},
     "output_type": "execute_result"
    }
   ],
   "source": [
    "# Decision Tree regression model \n",
    "from sklearn.tree import DecisionTreeRegressor\n",
    "\n",
    "# instantiate the model \n",
    "tree = DecisionTreeRegressor(max_depth=9)\n",
    "# fit the model \n",
    "tree.fit(X_train, y_train)"
   ]
  },
  {
   "cell_type": "code",
   "execution_count": null,
   "metadata": {
    "id": "CrcmHvUdrMOu"
   },
   "outputs": [],
   "source": [
    "#predicting the target value from the model for the samples\n",
    "y_test_tree = tree.predict(X_test)\n",
    "y_train_tree = tree.predict(X_train)"
   ]
  },
  {
   "cell_type": "code",
   "execution_count": null,
   "metadata": {
    "colab": {
     "base_uri": "https://localhost:8080/"
    },
    "id": "Zn1OY7R_ri5Y",
    "outputId": "56fb891f-b301-448a-9a47-b019487fd54d"
   },
   "outputs": [
    {
     "name": "stdout",
     "output_type": "stream",
     "text": [
      "Decision Tree: Accuracy on training Data: 0.996\n",
      "Decision Tree: Accuracy on test Data: 0.944\n",
      "\n",
      "Decision Tree: The RMSE of the training set is: 0.0033906019625499096\n",
      "Decision Tree: The RMSE of the testing set is: 0.014202962423676099\n",
      "\n",
      "Decision Tree: The MSE of the training set is: 1.1496181668447299e-05\n",
      "Decision Tree: The MSE of the testing set is: 0.00020172414160835525\n",
      "\n",
      "Decision Tree: The MAE of the training set is: 0.0013814671728734228\n",
      "Decision Tree: The MAE of the testing set is: 0.006919551917989417\n"
     ]
    }
   ],
   "source": [
    "#computing the accuracy of the model performance\n",
    "acc_train_tree = tree.score(X_train, y_train)\n",
    "acc_test_tree = tree.score(X_test, y_test)\n",
    "\n",
    "#computing root mean squared error (RMSE)\n",
    "rmse_train_tree = np.sqrt(mean_squared_error(y_train, y_train_tree))\n",
    "rmse_test_tree = np.sqrt(mean_squared_error(y_test, y_test_tree))\n",
    "\n",
    "#computing mean squared error (MSE)\n",
    "mse_train_tree = mean_squared_error(y_train, y_train_tree)\n",
    "mse_test_tree = mean_squared_error(y_test, y_test_tree)\n",
    "\n",
    "#computitn mean absolute error\n",
    "mae_train_tree = mean_absolute_error(y_train, y_train_tree)\n",
    "mae_test_tree = mean_absolute_error(y_test, y_test_tree)\n",
    "\n",
    "#computitn mean absolute percentage error\n",
    "#mape_train_tree = mean_absolute_percentage_error(y_train, y_train_tree)\n",
    "#mape_test_tree = mean_absolute_percentage_error(y_test, y_test_tree)\n",
    "\n",
    "print(\"Decision Tree: Accuracy on training Data: {:.3f}\".format(acc_train_tree))\n",
    "print(\"Decision Tree: Accuracy on test Data: {:.3f}\".format(acc_test_tree))\n",
    "print('\\nDecision Tree: The RMSE of the training set is:', rmse_train_tree)\n",
    "print('Decision Tree: The RMSE of the testing set is:', rmse_test_tree)\n",
    "print('\\nDecision Tree: The MSE of the training set is:', mse_train_tree)\n",
    "print('Decision Tree: The MSE of the testing set is:', mse_test_tree)\n",
    "print('\\nDecision Tree: The MAE of the training set is:', mae_train_tree)\n",
    "print('Decision Tree: The MAE of the testing set is:', mae_test_tree)\n",
    "#print('\\nDecision Tree: The MAPE of the training set is:', mape_train_tree)\n",
    "#print('Decision Tree: The MAPE of the testing set is:', mape_test_tree)"
   ]
  },
  {
   "cell_type": "code",
   "execution_count": null,
   "metadata": {
    "id": "FNXcyCesrlmR"
   },
   "outputs": [],
   "source": [
    "\n",
    "#storing the results. The below mentioned order of parameter passing is important.\n",
    "#Caution: Execute only once to avoid duplications.\n",
    "storeResults('Decision Tree',acc_train_tree, acc_test_tree,mse_train_tree,mse_test_tree, rmse_train_tree, rmse_test_tree,mae_train_tree,mae_test_tree)"
   ]
  },
  {
   "cell_type": "code",
   "execution_count": null,
   "metadata": {
    "colab": {
     "base_uri": "https://localhost:8080/",
     "height": 359
    },
    "id": "6cN1CD_CAxXy",
    "outputId": "ef1feca6-d2c4-4ce6-e62b-52781a53ae0e"
   },
   "outputs": [
    {
     "data": {
      "text/plain": [
       "Text(0.5, 1.0, 'Feature Importance (Decision Tree Regressor)')"
      ]
     },
     "execution_count": 73,
     "metadata": {},
     "output_type": "execute_result"
    },
    {
     "data": {
      "image/png": "[encoded data removed]",
      "text/plain": [
       "<Figure size 648x504 with 1 Axes>"
      ]
     },
     "metadata": {
      "needs_background": "light"
     },
     "output_type": "display_data"
    }
   ],
   "source": [
    "# plotting features importance\n",
    "plt.figure(figsize=(9,7))\n",
    "importance_df = pd.DataFrame({\n",
    "    'feature': X_train.columns,\n",
    "    'importance': tree.feature_importances_\n",
    "}).sort_values(by='importance',ascending=False)\n",
    "\n",
    "# Visualize the feature importance\n",
    "sns.barplot(data=importance_df,x='importance',y='feature')\n",
    "plt.xlabel('Feature importance')\n",
    "plt.ylabel('Feature')\n",
    "plt.title('Feature Importance (Decision Tree Regressor)')"
   ]
  },
  {
   "cell_type": "code",
   "execution_count": null,
   "metadata": {
    "colab": {
     "base_uri": "https://localhost:8080/",
     "height": 236
    },
    "id": "gW-zdnmBr5q7",
    "outputId": "59decc0b-a79a-4640-f12b-f02c6cf5598c"
   },
   "outputs": [
    {
     "ename": "NameError",
     "evalue": "ignored",
     "output_type": "error",
     "traceback": [
      "\u001b[0;31m---------------------------------------------------------------------------\u001b[0m",
      "\u001b[0;31mNameError\u001b[0m                                 Traceback (most recent call last)",
      "\u001b[0;32m<ipython-input-74-4334b97ffddb>\u001b[0m in \u001b[0;36m<module>\u001b[0;34m()\u001b[0m\n\u001b[1;32m     13\u001b[0m \u001b[0;34m\u001b[0m\u001b[0m\n\u001b[1;32m     14\u001b[0m \u001b[0;31m#plotting the training & testing accuracy for max_depth from 1 to 30\u001b[0m\u001b[0;34m\u001b[0m\u001b[0;34m\u001b[0m\u001b[0;34m\u001b[0m\u001b[0m\n\u001b[0;32m---> 15\u001b[0;31m \u001b[0mplt\u001b[0m\u001b[0;34m.\u001b[0m\u001b[0mplot\u001b[0m\u001b[0;34m(\u001b[0m\u001b[0mneighbors_settings\u001b[0m\u001b[0;34m,\u001b[0m \u001b[0mtraining_accuracy\u001b[0m\u001b[0;34m,\u001b[0m \u001b[0mlabel\u001b[0m\u001b[0;34m=\u001b[0m\u001b[0;34m\"training accuracy\"\u001b[0m\u001b[0;34m)\u001b[0m\u001b[0;34m\u001b[0m\u001b[0;34m\u001b[0m\u001b[0m\n\u001b[0m\u001b[1;32m     16\u001b[0m \u001b[0mplt\u001b[0m\u001b[0;34m.\u001b[0m\u001b[0mplot\u001b[0m\u001b[0;34m(\u001b[0m\u001b[0mneighbors_settings\u001b[0m\u001b[0;34m,\u001b[0m \u001b[0mtest_accuracy\u001b[0m\u001b[0;34m,\u001b[0m \u001b[0mlabel\u001b[0m\u001b[0;34m=\u001b[0m\u001b[0;34m\"test accuracy\"\u001b[0m\u001b[0;34m)\u001b[0m\u001b[0;34m\u001b[0m\u001b[0;34m\u001b[0m\u001b[0m\n\u001b[1;32m     17\u001b[0m \u001b[0mplt\u001b[0m\u001b[0;34m.\u001b[0m\u001b[0mylabel\u001b[0m\u001b[0;34m(\u001b[0m\u001b[0;34m\"Accuracy\"\u001b[0m\u001b[0;34m)\u001b[0m\u001b[0;34m\u001b[0m\u001b[0;34m\u001b[0m\u001b[0m\n",
      "\u001b[0;31mNameError\u001b[0m: name 'neighbors_settings' is not defined"
     ]
    }
   ],
   "source": [
    "training_accuracy = []\n",
    "test_accuracy = []\n",
    "# try max_depth from 1 to 30\n",
    "depth = range(1, 31)\n",
    "for n in depth:\n",
    "  # fit the model\n",
    "  tree = DecisionTreeRegressor(max_depth=n)\n",
    "  tree.fit(X_train, y_train)\n",
    "  # record training set accuracy\n",
    "  training_accuracy.append(tree.score(X_train, y_train))\n",
    "  # record generalization accuracy\n",
    "  test_accuracy.append(tree.score(X_test, y_test))\n",
    "\n",
    "#plotting the training & testing accuracy for max_depth from 1 to 30\n",
    "plt.plot(neighbors_settings, training_accuracy, label=\"training accuracy\")\n",
    "plt.plot(neighbors_settings, test_accuracy, label=\"test accuracy\")\n",
    "plt.ylabel(\"Accuracy\")  \n",
    "plt.xlabel(\"max_depth\")\n",
    "plt.legend()"
   ]
  },
  {
   "cell_type": "markdown",
   "metadata": {
    "id": "U7trYXy4sDix"
   },
   "source": [
    "### XGBoost Regression"
   ]
  },
  {
   "cell_type": "code",
   "execution_count": null,
   "metadata": {
    "colab": {
     "base_uri": "https://localhost:8080/"
    },
    "id": "XR1lTm3zsGTH",
    "outputId": "43f7ea06-a352-4ae8-92e6-44cd141bdf37"
   },
   "outputs": [
    {
     "name": "stdout",
     "output_type": "stream",
     "text": [
      "[03:47:15] WARNING: /workspace/src/objective/regression_obj.cu:152: reg:linear is now deprecated in favor of reg:squarederror.\n"
     ]
    },
    {
     "data": {
      "text/plain": [
       "XGBRegressor(learning_rate=0.2, max_depth=4)"
      ]
     },
     "execution_count": 75,
     "metadata": {},
     "output_type": "execute_result"
    }
   ],
   "source": [
    "from xgboost import XGBRegressor\n",
    "\n",
    "# instantiate the model\n",
    "xgb = XGBRegressor(learning_rate=0.2,max_depth=4)\n",
    "#fit the model\n",
    "xgb.fit(X_train, y_train)"
   ]
  },
  {
   "cell_type": "code",
   "execution_count": null,
   "metadata": {
    "id": "yfzerZC8sKJD"
   },
   "outputs": [],
   "source": [
    "#predicting the target value from the model for the samples\n",
    "y_test_xgb = xgb.predict(X_test)\n",
    "y_train_xgb = xgb.predict(X_train)\n"
   ]
  },
  {
   "cell_type": "code",
   "execution_count": null,
   "metadata": {
    "colab": {
     "base_uri": "https://localhost:8080/"
    },
    "id": "WIoIaiNPsO96",
    "outputId": "32b6da68-264a-45ac-ae34-51e6941718fd"
   },
   "outputs": [
    {
     "name": "stdout",
     "output_type": "stream",
     "text": [
      "XGBoost Regression: Accuracy on training Data: 0.999\n",
      "XGBoost Regression: Accuracy on test Data: 0.971\n",
      "\n",
      "XGBoost Regression: The RMSE of the training set is:  0.0014083249013897624\n",
      "XGBoost Regression: The RMSE of the testing set is:  0.010233696711596746\n",
      "\n",
      "XGBoost Regression: The MSE of the training set is:  1.9833790278744838e-06\n",
      "XGBoost Regression: The MSE of the testing set is:  0.00010472854838494606\n",
      "\n",
      "XGBoost Regression: The MAE of the training set is:  0.0010674159228801728\n",
      "XGBoost Regression: The MAE of the testing set is:  0.007524117541809878\n"
     ]
    }
   ],
   "source": [
    "#computing the accuracy of the model performance\n",
    "acc_train_xgb = xgb.score(X_train, y_train)\n",
    "acc_test_xgb = xgb.score(X_test, y_test)\n",
    "\n",
    "#computing root mean squared error (RMSE)\n",
    "rmse_train_xgb = np.sqrt(mean_squared_error(y_train, y_train_xgb))\n",
    "rmse_test_xgb = np.sqrt(mean_squared_error(y_test, y_test_xgb))\n",
    "\n",
    "#computing mean squared error (MSE)\n",
    "mse_train_xgb = mean_squared_error(y_train, y_train_xgb)\n",
    "mse_test_xgb = mean_squared_error(y_test, y_test_xgb)\n",
    "\n",
    "#computitn mean absolute error\n",
    "mae_train_xgb = mean_absolute_error(y_train, y_train_xgb)\n",
    "mae_test_xgb = mean_absolute_error(y_test, y_test_xgb)\n",
    "\n",
    "#computitn mean absolute percentage error\n",
    "#mape_train_xgb = mean_absolute_percentage_error(y_train, y_train_xgb)\n",
    "#mape_test_xgb = mean_absolute_percentage_error(y_test, y_test_xgb)\n",
    "\n",
    "print(\"XGBoost Regression: Accuracy on training Data: {:.3f}\".format(acc_train_xgb))\n",
    "print(\"XGBoost Regression: Accuracy on test Data: {:.3f}\".format(acc_test_xgb))\n",
    "print('\\nXGBoost Regression: The RMSE of the training set is: ', rmse_train_xgb)\n",
    "print('XGBoost Regression: The RMSE of the testing set is: ', rmse_test_xgb)\n",
    "print('\\nXGBoost Regression: The MSE of the training set is: ', mse_train_xgb)\n",
    "print('XGBoost Regression: The MSE of the testing set is: ', mse_test_xgb)\n",
    "print('\\nXGBoost Regression: The MAE of the training set is: ', mae_train_xgb)\n",
    "print('XGBoost Regression: The MAE of the testing set is: ', mae_test_xgb)\n",
    "#print('\\nXGBoost Regression: The MAPE of the training set is: ', mape_train_xgb)\n",
    "#print('XGBoost Regression: The MAPE of the testing set is: ', mape_test_xgb)"
   ]
  },
  {
   "cell_type": "code",
   "execution_count": null,
   "metadata": {
    "id": "CZvWilsisQit"
   },
   "outputs": [],
   "source": [
    "#storing the results. The below mentioned order of parameter passing is important.\n",
    "#Caution: Execute only once to avoid duplications.\n",
    "storeResults('XGBoost Regression',acc_train_xgb, acc_test_xgb, mse_train_xgb, mse_test_xgb, rmse_train_xgb, rmse_test_xgb,mae_train_xgb, mae_test_xgb)"
   ]
  },
  {
   "cell_type": "markdown",
   "metadata": {
    "id": "5ZWJUkK9wz0n"
   },
   "source": [
    "### Bagging Regression"
   ]
  },
  {
   "cell_type": "code",
   "execution_count": null,
   "metadata": {
    "colab": {
     "base_uri": "https://localhost:8080/"
    },
    "id": "XqbsqNu1w1n8",
    "outputId": "eece81ff-0dc9-41da-a429-d101df6280a6"
   },
   "outputs": [
    {
     "data": {
      "text/plain": [
       "BaggingRegressor(n_estimators=1)"
      ]
     },
     "execution_count": 79,
     "metadata": {},
     "output_type": "execute_result"
    }
   ],
   "source": [
    "from sklearn.ensemble import BaggingRegressor\n",
    "\n",
    "#instantiate the model\n",
    "br = BaggingRegressor(n_estimators=1)\n",
    "\n",
    "#fit the model\n",
    "br.fit(X_train, y_train)"
   ]
  },
  {
   "cell_type": "code",
   "execution_count": null,
   "metadata": {
    "id": "9XBiAu8Zw3eT"
   },
   "outputs": [],
   "source": [
    "#predicting the target value from the model for the samples\n",
    "y_test_br = br.predict(X_test)\n",
    "y_train_br = br.predict(X_train)"
   ]
  },
  {
   "cell_type": "code",
   "execution_count": null,
   "metadata": {
    "colab": {
     "base_uri": "https://localhost:8080/"
    },
    "id": "g67pzgojw6bm",
    "outputId": "e410cc22-ecce-4b25-d8db-3421dbc98485"
   },
   "outputs": [
    {
     "name": "stdout",
     "output_type": "stream",
     "text": [
      "Bagging Regression: Accuracy on training Data: 0.917\n",
      "Bagging Regression: Accuracy on test Data: 0.855\n",
      "\n",
      "Bagging Regression: The RMSE of the training set is:  0.01571109613192748\n",
      "Bagging Regression: The RMSE of the testing set is:  0.022759384511302876\n",
      "\n",
      "Bagging Regression: The MSE of the training set is:  0.0002468385416666666\n",
      "Bagging Regression: The MSE of the testing set is:  0.0005179895833333333\n",
      "\n",
      "Bagging Regression: The MAE of the training set is:  0.005072916666666667\n",
      "Bagging Regression: The MAE of the testing set is:  0.012239583333333333\n"
     ]
    }
   ],
   "source": [
    "#computing the accuracy of the model performance\n",
    "acc_train_br = br.score(X_train, y_train)\n",
    "acc_test_br = br.score(X_test, y_test)\n",
    "\n",
    "#computing root mean squared error (RMSE)\n",
    "rmse_train_br = np.sqrt(mean_squared_error(y_train, y_train_br))\n",
    "rmse_test_br = np.sqrt(mean_squared_error(y_test, y_test_br))\n",
    "\n",
    "#computing mean squared error (MSE)\n",
    "mse_train_br = mean_squared_error(y_train, y_train_br)\n",
    "mse_test_br = mean_squared_error(y_test, y_test_br)\n",
    "\n",
    "#computitn mean absolute error\n",
    "mae_train_br = mean_absolute_error(y_train, y_train_br)\n",
    "mae_test_br = mean_absolute_error(y_test, y_test_br)\n",
    "\n",
    "#computitn mean absolute percentage error\n",
    "#mape_train_br = mean_absolute_percentage_error(y_train, y_train_br)\n",
    "#mape_test_br = mean_absolute_percentage_error(y_test, y_test_br)\n",
    "\n",
    "print(\"Bagging Regression: Accuracy on training Data: {:.3f}\".format(acc_train_br))\n",
    "print(\"Bagging Regression: Accuracy on test Data: {:.3f}\".format(acc_test_br))\n",
    "print('\\nBagging Regression: The RMSE of the training set is: ', rmse_train_br)\n",
    "print('Bagging Regression: The RMSE of the testing set is: ', rmse_test_br)\n",
    "print('\\nBagging Regression: The MSE of the training set is: ', mse_train_br)\n",
    "print('Bagging Regression: The MSE of the testing set is: ', mse_test_br)\n",
    "print('\\nBagging Regression: The MAE of the training set is: ', mae_train_br)\n",
    "print('Bagging Regression: The MAE of the testing set is: ', mae_test_br)\n",
    "#print('\\nBagging Regression: The MAPE of the training set is: ', mape_train_br)\n",
    "#print('Bagging Regression: The MAPE of the testing set is: ', mape_test_br)"
   ]
  },
  {
   "cell_type": "code",
   "execution_count": null,
   "metadata": {
    "id": "qc1spOTSw-dd"
   },
   "outputs": [],
   "source": [
    "#storing the results. The below mentioned order of parameter passing is important.\n",
    "#Caution: Execute only once to avoid duplications.\n",
    "storeResults('Bagging Regression',acc_train_br, acc_test_br, mse_train_br, mse_test_br, rmse_train_br, rmse_test_br, mae_train_br,mae_test_br)"
   ]
  },
  {
   "cell_type": "code",
   "execution_count": null,
   "metadata": {
    "colab": {
     "base_uri": "https://localhost:8080/",
     "height": 297
    },
    "id": "5wpBtmVkxAVQ",
    "outputId": "37f2586a-afa8-4fc9-f7da-a4d1c17dac8f"
   },
   "outputs": [
    {
     "data": {
      "text/plain": [
       "<matplotlib.legend.Legend at 0x7f9ab9f6b250>"
      ]
     },
     "execution_count": 83,
     "metadata": {},
     "output_type": "execute_result"
    },
    {
     "data": {
      "image/png": "[encoded data removed]",
      "text/plain": [
       "<Figure size 432x288 with 1 Axes>"
      ]
     },
     "metadata": {
      "needs_background": "light"
     },
     "output_type": "display_data"
    }
   ],
   "source": [
    "training_accuracy = []\n",
    "test_accuracy = []\n",
    "# try n_estimators from 1 to 50\n",
    "est = range(1, 51)\n",
    "for n in est:\n",
    "  # fit the model\n",
    "  br = BaggingRegressor(n_estimators=n)\n",
    "  br.fit(X_train, y_train)\n",
    "  # record training set accuracy\n",
    "  training_accuracy.append(br.score(X_train, y_train))\n",
    "  # record generalization accuracy\n",
    "  test_accuracy.append(br.score(X_test, y_test))\n",
    "\n",
    "#plotting the training & testing accuracy for n_estimators from 1 to 50\n",
    "plt.plot(est, training_accuracy, label=\"training accuracy\")\n",
    "plt.plot(est, test_accuracy, label=\"test accuracy\")\n",
    "plt.ylabel(\"Accuracy\")  \n",
    "plt.xlabel(\"n_estimators\")\n",
    "plt.legend()"
   ]
  },
  {
   "cell_type": "markdown",
   "metadata": {
    "id": "C4NjfI46xjly"
   },
   "source": [
    "### Custom Ensemble"
   ]
  },
  {
   "cell_type": "code",
   "execution_count": null,
   "metadata": {
    "colab": {
     "base_uri": "https://localhost:8080/"
    },
    "id": "7ZWksHvixmRW",
    "outputId": "166e6e94-86fc-485b-8c3a-e9dafbb78283"
   },
   "outputs": [
    {
     "name": "stdout",
     "output_type": "stream",
     "text": [
      "Looking in indexes: https://pypi.org/simple, https://us-python.pkg.dev/colab-wheels/public/simple/\n",
      "Collecting mlens\n",
      "  Downloading mlens-0.2.3-py2.py3-none-any.whl (227 kB)\n",
      "\u001b[K     |████████████████████████████████| 227 kB 35.0 MB/s \n",
      "\u001b[?25hRequirement already satisfied: scipy>=0.17 in /usr/local/lib/python3.7/dist-packages (from mlens) (1.4.1)\n",
      "Requirement already satisfied: numpy>=1.11 in /usr/local/lib/python3.7/dist-packages (from mlens) (1.21.6)\n",
      "Installing collected packages: mlens\n",
      "Successfully installed mlens-0.2.3\n"
     ]
    }
   ],
   "source": [
    "### You will need mlens package\n",
    "!pip install mlens"
   ]
  },
  {
   "cell_type": "code",
   "execution_count": null,
   "metadata": {
    "colab": {
     "base_uri": "https://localhost:8080/"
    },
    "id": "0yZhNzY9xoai",
    "outputId": "613c9aad-2a50-487e-8084-f5e2f45e2403"
   },
   "outputs": [
    {
     "name": "stderr",
     "output_type": "stream",
     "text": [
      "[MLENS] backend: threading\n"
     ]
    }
   ],
   "source": [
    "\n",
    "from mlens.ensemble import SuperLearner\n",
    "from mlens.model_selection import Evaluator\n",
    "from mlens.metrics import make_scorer\n",
    "from mlens.metrics.metrics import rmse\n",
    "\n",
    "from sklearn.metrics import accuracy_score"
   ]
  },
  {
   "cell_type": "code",
   "execution_count": null,
   "metadata": {
    "colab": {
     "base_uri": "https://localhost:8080/"
    },
    "id": "55hTSMZYxrMz",
    "outputId": "a073c185-7294-4463-832d-3a75397c1d46"
   },
   "outputs": [
    {
     "data": {
      "text/plain": [
       "SuperLearner(array_check=None, backend=None, folds=2,\n",
       "       layers=[Layer(backend='threading', dtype=<class 'numpy.float32'>, n_jobs=-1,\n",
       "   name='layer-1', propagate_features=None, raise_on_exception=True,\n",
       "   random_state=4782, shuffle=False,\n",
       "   stack=[Group(backend='threading', dtype=<class 'numpy.float32'>,\n",
       "   indexer=FoldIndex(X=None, folds=2, raise_on_ex...1056830>)],\n",
       "   n_jobs=-1, name='group-3', raise_on_exception=True, transformers=[])],\n",
       "   verbose=1)],\n",
       "       model_selection=False, n_jobs=None, raise_on_exception=True,\n",
       "       random_state=555, sample_size=20,\n",
       "       scorer=<function rmse at 0x7f9ab1056830>, shuffle=False, verbose=2)"
      ]
     },
     "execution_count": 97,
     "metadata": {},
     "output_type": "execute_result"
    }
   ],
   "source": [
    "# --- Build ---\n",
    "# Passing a scoring function will create cv scores during fitting \n",
    "#the scorer should be a simple function accepting to vectors and returning a scalar\n",
    "ensemble = SuperLearner(scorer=rmse, random_state=555, verbose=2)\n",
    "\n",
    "# Build the first layer\n",
    "ensemble.add(xgb)\n",
    "ensemble.add(knn_grid)\n",
    "ensemble.add_meta(lr)"
   ]
  },
  {
   "cell_type": "code",
   "execution_count": null,
   "metadata": {
    "colab": {
     "base_uri": "https://localhost:8080/"
    },
    "id": "TCIL20Uqxw_3",
    "outputId": "1b86f7d1-40d5-454e-af5e-1d612b0d50a3"
   },
   "outputs": [
    {
     "name": "stdout",
     "output_type": "stream",
     "text": [
      "\n",
      "Fitting 3 layers\n",
      "Processing layer-1             done | 00:00:00\n",
      "Processing layer-2             done | 00:00:02\n",
      "Processing layer-3             done | 00:00:00\n",
      "Fit complete                        | 00:00:03\n"
     ]
    },
    {
     "data": {
      "text/plain": [
       "SuperLearner(array_check=None, backend=None, folds=2,\n",
       "       layers=[Layer(backend='threading', dtype=<class 'numpy.float32'>, n_jobs=-1,\n",
       "   name='layer-1', propagate_features=None, raise_on_exception=True,\n",
       "   random_state=4782, shuffle=False,\n",
       "   stack=[Group(backend='threading', dtype=<class 'numpy.float32'>,\n",
       "   indexer=FoldIndex(X=None, folds=2, raise_on_ex...1056830>)],\n",
       "   n_jobs=-1, name='group-3', raise_on_exception=True, transformers=[])],\n",
       "   verbose=1)],\n",
       "       model_selection=False, n_jobs=None, raise_on_exception=True,\n",
       "       random_state=555, sample_size=20,\n",
       "       scorer=<function rmse at 0x7f9ab1056830>, shuffle=False, verbose=2)"
      ]
     },
     "execution_count": 98,
     "metadata": {},
     "output_type": "execute_result"
    }
   ],
   "source": [
    "# Fit ensemble\n",
    "ensemble.fit(X_train, y_train)"
   ]
  },
  {
   "cell_type": "code",
   "execution_count": null,
   "metadata": {
    "colab": {
     "base_uri": "https://localhost:8080/"
    },
    "id": "eC7IEyDOxzUT",
    "outputId": "b57ed5cd-e610-43d6-989d-e89b983474de"
   },
   "outputs": [
    {
     "name": "stdout",
     "output_type": "stream",
     "text": [
      "\n",
      "Predicting 3 layers\n",
      "Processing layer-1             done | 00:00:00\n",
      "Processing layer-2             done | 00:00:00\n",
      "Processing layer-3             done | 00:00:00\n",
      "Predict complete                    | 00:00:00\n",
      "\n",
      "Predicting 3 layers\n",
      "Processing layer-1             done | 00:00:00\n",
      "Processing layer-2             done | 00:00:00\n",
      "Processing layer-3             done | 00:00:00\n",
      "Predict complete                    | 00:00:00\n"
     ]
    }
   ],
   "source": [
    "#Predicting the target of samples from the model\n",
    "y_train_en = ensemble.predict(X_train)\n",
    "y_test_en = ensemble.predict(X_test)"
   ]
  },
  {
   "cell_type": "code",
   "execution_count": null,
   "metadata": {
    "colab": {
     "base_uri": "https://localhost:8080/"
    },
    "id": "P87naMWHx3lg",
    "outputId": "e4c8fa89-0d9f-45d5-9be7-d989e26c7f18"
   },
   "outputs": [
    {
     "name": "stdout",
     "output_type": "stream",
     "text": [
      "Custom Ensemble: Accuracy on training Data: 0.982\n",
      "Custom Ensemble: Accuracy on test Data: 0.961\n",
      "\n",
      "Custom Ensemble: The RMSE of the training set is:  0.007371696896261218\n",
      "Custom Ensemble: The RMSE of the testing set is:  0.011874526920137149\n",
      "\n",
      "Custom Ensemble: The MSE of the training set is:  5.4341915130347254e-05\n",
      "Custom Ensemble: The MSE of the testing set is:  0.00014100438957706185\n",
      "\n",
      "Custom Ensemble: The MAE of the training set is:  0.00490034557079586\n",
      "Custom Ensemble: The MAE of the testing set is:  0.008724518011324109\n"
     ]
    }
   ],
   "source": [
    "#computing the accuracy of the model performance\n",
    "acc_train_en = r2_score(y_train,y_train_en)\n",
    "acc_test_en = r2_score(y_test,y_test_en)\n",
    "\n",
    "#computing root mean squared error (RMSE)\n",
    "rmse_train_en = rmse(y_train,y_train_en)\n",
    "rmse_test_en = rmse(y_test,y_test_en)\n",
    "\n",
    "#computing mean squared error (MSE)\n",
    "mse_train_en = mean_squared_error(y_train, y_train_en)\n",
    "mse_test_en = mean_squared_error(y_test, y_test_en)\n",
    "\n",
    "#computitn mean absolute error\n",
    "mae_train_en = mean_absolute_error(y_train, y_train_en)\n",
    "mae_test_en = mean_absolute_error(y_test, y_test_en)\n",
    "\n",
    "#computitn mean absolute percentage error\n",
    "#mape_train_en = mean_absolute_percentage_error(y_train, y_train_en)\n",
    "#mape_test_en = mean_absolute_percentage_error(y_test, y_test_en)\n",
    "\n",
    "\n",
    "print(\"Custom Ensemble: Accuracy on training Data: {:.3f}\".format(acc_train_en))\n",
    "print(\"Custom Ensemble: Accuracy on test Data: {:.3f}\".format(acc_test_en))\n",
    "print('\\nCustom Ensemble: The RMSE of the training set is: ', rmse_train_en)\n",
    "print('Custom Ensemble: The RMSE of the testing set is: ', rmse_test_en)\n",
    "print('\\nCustom Ensemble: The MSE of the training set is: ', mse_train_en)\n",
    "print('Custom Ensemble: The MSE of the testing set is: ', mse_test_en)\n",
    "print('\\nCustom Ensemble: The MAE of the training set is: ', mae_train_en)\n",
    "print('Custom Ensemble: The MAE of the testing set is: ', mae_test_en)\n",
    "#print('\\nCustom Ensemble: The MAPE of the training set is: ', mape_train_en)\n",
    "#print('Custom Ensemble: The MAPE of the testing set is: ', mape_test_en)"
   ]
  },
  {
   "cell_type": "code",
   "execution_count": null,
   "metadata": {
    "id": "VUjDym_CyEz-"
   },
   "outputs": [],
   "source": [
    "#storing the results. The below mentioned order of parameter passing is important.\n",
    "#Caution: Execute only once to avoid duplications.\n",
    "storeResults('Ensemble_SuperLearner',acc_train_en, acc_test_en,mse_train_en,mse_test_en, rmse_train_en, rmse_test_en,mae_train_en, mae_test_en)"
   ]
  },
  {
   "cell_type": "code",
   "execution_count": null,
   "metadata": {
    "id": "bmOs2_Vuxym4"
   },
   "outputs": [],
   "source": [
    "pred = pd.DataFrame(y_test_en,columns=['Suicide rate predicted'])"
   ]
  },
  {
   "cell_type": "code",
   "execution_count": null,
   "metadata": {
    "colab": {
     "base_uri": "https://localhost:8080/",
     "height": 424
    },
    "id": "a_OjKXr5yJTr",
    "outputId": "bd3f3953-00cc-41e9-84c1-a8f975d7348f"
   },
   "outputs": [
    {
     "data": {
      "text/html": [
       "\n",
       "  <div id=\"df-1dcfaa3d-2478-4478-9a72-6da2699c2ec6\">\n",
       "    <div class=\"colab-df-container\">\n",
       "      <div>\n",
       "<style scoped>\n",
       "    .dataframe tbody tr th:only-of-type {\n",
       "        vertical-align: middle;\n",
       "    }\n",
       "\n",
       "    .dataframe tbody tr th {\n",
       "        vertical-align: top;\n",
       "    }\n",
       "\n",
       "    .dataframe thead th {\n",
       "        text-align: right;\n",
       "    }\n",
       "</style>\n",
       "<table border=\"1\" class=\"dataframe\">\n",
       "  <thead>\n",
       "    <tr style=\"text-align: right;\">\n",
       "      <th></th>\n",
       "      <th>Suicide rate predicted</th>\n",
       "    </tr>\n",
       "  </thead>\n",
       "  <tbody>\n",
       "    <tr>\n",
       "      <th>0</th>\n",
       "      <td>0.124907</td>\n",
       "    </tr>\n",
       "    <tr>\n",
       "      <th>1</th>\n",
       "      <td>0.229816</td>\n",
       "    </tr>\n",
       "    <tr>\n",
       "      <th>2</th>\n",
       "      <td>0.091891</td>\n",
       "    </tr>\n",
       "    <tr>\n",
       "      <th>3</th>\n",
       "      <td>0.104272</td>\n",
       "    </tr>\n",
       "    <tr>\n",
       "      <th>4</th>\n",
       "      <td>0.155942</td>\n",
       "    </tr>\n",
       "    <tr>\n",
       "      <th>...</th>\n",
       "      <td>...</td>\n",
       "    </tr>\n",
       "    <tr>\n",
       "      <th>91</th>\n",
       "      <td>0.275955</td>\n",
       "    </tr>\n",
       "    <tr>\n",
       "      <th>92</th>\n",
       "      <td>0.266793</td>\n",
       "    </tr>\n",
       "    <tr>\n",
       "      <th>93</th>\n",
       "      <td>0.124247</td>\n",
       "    </tr>\n",
       "    <tr>\n",
       "      <th>94</th>\n",
       "      <td>0.092717</td>\n",
       "    </tr>\n",
       "    <tr>\n",
       "      <th>95</th>\n",
       "      <td>0.159904</td>\n",
       "    </tr>\n",
       "  </tbody>\n",
       "</table>\n",
       "<p>96 rows × 1 columns</p>\n",
       "</div>\n",
       "      <button class=\"colab-df-convert\" onclick=\"convertToInteractive('df-1dcfaa3d-2478-4478-9a72-6da2699c2ec6')\"\n",
       "              title=\"Convert this dataframe to an interactive table.\"\n",
       "              style=\"display:none;\">\n",
       "        \n",
       "  <svg xmlns=\"http://www.w3.org/2000/svg\" height=\"24px\"viewBox=\"0 0 24 24\"\n",
       "       width=\"24px\">\n",
       "    <path d=\"M0 0h24v24H0V0z\" fill=\"none\"/>\n",
       "    <path d=\"M18.56 5.44l.94 2.06.94-2.06 2.06-.94-2.06-.94-.94-2.06-.94 2.06-2.06.94zm-11 1L8.5 8.5l.94-2.06 2.06-.94-2.06-.94L8.5 2.5l-.94 2.06-2.06.94zm10 10l.94 2.06.94-2.06 2.06-.94-2.06-.94-.94-2.06-.94 2.06-2.06.94z\"/><path d=\"M17.41 7.96l-1.37-1.37c-.4-.4-.92-.59-1.43-.59-.52 0-1.04.2-1.43.59L10.3 9.45l-7.72 7.72c-.78.78-.78 2.05 0 2.83L4 21.41c.39.39.9.59 1.41.59.51 0 1.02-.2 1.41-.59l7.78-7.78 2.81-2.81c.8-.78.8-2.07 0-2.86zM5.41 20L4 18.59l7.72-7.72 1.47 1.35L5.41 20z\"/>\n",
       "  </svg>\n",
       "      </button>\n",
       "      \n",
       "  <style>\n",
       "    .colab-df-container {\n",
       "      display:flex;\n",
       "      flex-wrap:wrap;\n",
       "      gap: 12px;\n",
       "    }\n",
       "\n",
       "    .colab-df-convert {\n",
       "      background-color: #E8F0FE;\n",
       "      border: none;\n",
       "      border-radius: 50%;\n",
       "      cursor: pointer;\n",
       "      display: none;\n",
       "      fill: #1967D2;\n",
       "      height: 32px;\n",
       "      padding: 0 0 0 0;\n",
       "      width: 32px;\n",
       "    }\n",
       "\n",
       "    .colab-df-convert:hover {\n",
       "      background-color: #E2EBFA;\n",
       "      box-shadow: 0px 1px 2px rgba(60, 64, 67, 0.3), 0px 1px 3px 1px rgba(60, 64, 67, 0.15);\n",
       "      fill: #174EA6;\n",
       "    }\n",
       "\n",
       "    [theme=dark] .colab-df-convert {\n",
       "      background-color: #3B4455;\n",
       "      fill: #D2E3FC;\n",
       "    }\n",
       "\n",
       "    [theme=dark] .colab-df-convert:hover {\n",
       "      background-color: #434B5C;\n",
       "      box-shadow: 0px 1px 3px 1px rgba(0, 0, 0, 0.15);\n",
       "      filter: drop-shadow(0px 1px 2px rgba(0, 0, 0, 0.3));\n",
       "      fill: #FFFFFF;\n",
       "    }\n",
       "  </style>\n",
       "\n",
       "      <script>\n",
       "        const buttonEl =\n",
       "          document.querySelector('#df-1dcfaa3d-2478-4478-9a72-6da2699c2ec6 button.colab-df-convert');\n",
       "        buttonEl.style.display =\n",
       "          google.colab.kernel.accessAllowed ? 'block' : 'none';\n",
       "\n",
       "        async function convertToInteractive(key) {\n",
       "          const element = document.querySelector('#df-1dcfaa3d-2478-4478-9a72-6da2699c2ec6');\n",
       "          const dataTable =\n",
       "            await google.colab.kernel.invokeFunction('convertToInteractive',\n",
       "                                                     [key], {});\n",
       "          if (!dataTable) return;\n",
       "\n",
       "          const docLinkHtml = 'Like what you see? Visit the ' +\n",
       "            '<a target=\"_blank\" href=https://colab.research.google.com/notebooks/data_table.ipynb>data table notebook</a>'\n",
       "            + ' to learn more about interactive tables.';\n",
       "          element.innerHTML = '';\n",
       "          dataTable['output_type'] = 'display_data';\n",
       "          await google.colab.output.renderOutput(dataTable, element);\n",
       "          const docLink = document.createElement('div');\n",
       "          docLink.innerHTML = docLinkHtml;\n",
       "          element.appendChild(docLink);\n",
       "        }\n",
       "      </script>\n",
       "    </div>\n",
       "  </div>\n",
       "  "
      ],
      "text/plain": [
       "    Suicide rate predicted\n",
       "0                 0.124907\n",
       "1                 0.229816\n",
       "2                 0.091891\n",
       "3                 0.104272\n",
       "4                 0.155942\n",
       "..                     ...\n",
       "91                0.275955\n",
       "92                0.266793\n",
       "93                0.124247\n",
       "94                0.092717\n",
       "95                0.159904\n",
       "\n",
       "[96 rows x 1 columns]"
      ]
     },
     "execution_count": 103,
     "metadata": {},
     "output_type": "execute_result"
    }
   ],
   "source": [
    "\n",
    "pred"
   ]
  },
  {
   "cell_type": "code",
   "execution_count": null,
   "metadata": {
    "id": "4RlZEyKoycmZ"
   },
   "outputs": [],
   "source": [
    "pred['Suicide rate'] = y_test.values.reshape(96)"
   ]
  },
  {
   "cell_type": "code",
   "execution_count": null,
   "metadata": {
    "id": "OTwtNaTn2vPN"
   },
   "outputs": [],
   "source": [
    "pred = 10**(2)*pred"
   ]
  },
  {
   "cell_type": "code",
   "execution_count": null,
   "metadata": {
    "colab": {
     "base_uri": "https://localhost:8080/",
     "height": 424
    },
    "id": "XjWThlxUJ_t8",
    "outputId": "22431eb9-0cd7-4479-df12-5092b35eacbf"
   },
   "outputs": [
    {
     "data": {
      "text/html": [
       "\n",
       "  <div id=\"df-753d8a1d-d0cb-4b4d-903d-01922861c10d\">\n",
       "    <div class=\"colab-df-container\">\n",
       "      <div>\n",
       "<style scoped>\n",
       "    .dataframe tbody tr th:only-of-type {\n",
       "        vertical-align: middle;\n",
       "    }\n",
       "\n",
       "    .dataframe tbody tr th {\n",
       "        vertical-align: top;\n",
       "    }\n",
       "\n",
       "    .dataframe thead th {\n",
       "        text-align: right;\n",
       "    }\n",
       "</style>\n",
       "<table border=\"1\" class=\"dataframe\">\n",
       "  <thead>\n",
       "    <tr style=\"text-align: right;\">\n",
       "      <th></th>\n",
       "      <th>Suicide rate predicted</th>\n",
       "      <th>Suicide rate</th>\n",
       "    </tr>\n",
       "  </thead>\n",
       "  <tbody>\n",
       "    <tr>\n",
       "      <th>0</th>\n",
       "      <td>12.490727</td>\n",
       "      <td>11.9</td>\n",
       "    </tr>\n",
       "    <tr>\n",
       "      <th>1</th>\n",
       "      <td>22.981552</td>\n",
       "      <td>25.3</td>\n",
       "    </tr>\n",
       "    <tr>\n",
       "      <th>2</th>\n",
       "      <td>9.189130</td>\n",
       "      <td>10.0</td>\n",
       "    </tr>\n",
       "    <tr>\n",
       "      <th>3</th>\n",
       "      <td>10.427228</td>\n",
       "      <td>10.7</td>\n",
       "    </tr>\n",
       "    <tr>\n",
       "      <th>4</th>\n",
       "      <td>15.594228</td>\n",
       "      <td>15.8</td>\n",
       "    </tr>\n",
       "    <tr>\n",
       "      <th>...</th>\n",
       "      <td>...</td>\n",
       "      <td>...</td>\n",
       "    </tr>\n",
       "    <tr>\n",
       "      <th>91</th>\n",
       "      <td>27.595531</td>\n",
       "      <td>28.0</td>\n",
       "    </tr>\n",
       "    <tr>\n",
       "      <th>92</th>\n",
       "      <td>26.679342</td>\n",
       "      <td>27.6</td>\n",
       "    </tr>\n",
       "    <tr>\n",
       "      <th>93</th>\n",
       "      <td>12.424695</td>\n",
       "      <td>11.7</td>\n",
       "    </tr>\n",
       "    <tr>\n",
       "      <th>94</th>\n",
       "      <td>9.271669</td>\n",
       "      <td>10.3</td>\n",
       "    </tr>\n",
       "    <tr>\n",
       "      <th>95</th>\n",
       "      <td>15.990419</td>\n",
       "      <td>15.9</td>\n",
       "    </tr>\n",
       "  </tbody>\n",
       "</table>\n",
       "<p>96 rows × 2 columns</p>\n",
       "</div>\n",
       "      <button class=\"colab-df-convert\" onclick=\"convertToInteractive('df-753d8a1d-d0cb-4b4d-903d-01922861c10d')\"\n",
       "              title=\"Convert this dataframe to an interactive table.\"\n",
       "              style=\"display:none;\">\n",
       "        \n",
       "  <svg xmlns=\"http://www.w3.org/2000/svg\" height=\"24px\"viewBox=\"0 0 24 24\"\n",
       "       width=\"24px\">\n",
       "    <path d=\"M0 0h24v24H0V0z\" fill=\"none\"/>\n",
       "    <path d=\"M18.56 5.44l.94 2.06.94-2.06 2.06-.94-2.06-.94-.94-2.06-.94 2.06-2.06.94zm-11 1L8.5 8.5l.94-2.06 2.06-.94-2.06-.94L8.5 2.5l-.94 2.06-2.06.94zm10 10l.94 2.06.94-2.06 2.06-.94-2.06-.94-.94-2.06-.94 2.06-2.06.94z\"/><path d=\"M17.41 7.96l-1.37-1.37c-.4-.4-.92-.59-1.43-.59-.52 0-1.04.2-1.43.59L10.3 9.45l-7.72 7.72c-.78.78-.78 2.05 0 2.83L4 21.41c.39.39.9.59 1.41.59.51 0 1.02-.2 1.41-.59l7.78-7.78 2.81-2.81c.8-.78.8-2.07 0-2.86zM5.41 20L4 18.59l7.72-7.72 1.47 1.35L5.41 20z\"/>\n",
       "  </svg>\n",
       "      </button>\n",
       "      \n",
       "  <style>\n",
       "    .colab-df-container {\n",
       "      display:flex;\n",
       "      flex-wrap:wrap;\n",
       "      gap: 12px;\n",
       "    }\n",
       "\n",
       "    .colab-df-convert {\n",
       "      background-color: #E8F0FE;\n",
       "      border: none;\n",
       "      border-radius: 50%;\n",
       "      cursor: pointer;\n",
       "      display: none;\n",
       "      fill: #1967D2;\n",
       "      height: 32px;\n",
       "      padding: 0 0 0 0;\n",
       "      width: 32px;\n",
       "    }\n",
       "\n",
       "    .colab-df-convert:hover {\n",
       "      background-color: #E2EBFA;\n",
       "      box-shadow: 0px 1px 2px rgba(60, 64, 67, 0.3), 0px 1px 3px 1px rgba(60, 64, 67, 0.15);\n",
       "      fill: #174EA6;\n",
       "    }\n",
       "\n",
       "    [theme=dark] .colab-df-convert {\n",
       "      background-color: #3B4455;\n",
       "      fill: #D2E3FC;\n",
       "    }\n",
       "\n",
       "    [theme=dark] .colab-df-convert:hover {\n",
       "      background-color: #434B5C;\n",
       "      box-shadow: 0px 1px 3px 1px rgba(0, 0, 0, 0.15);\n",
       "      filter: drop-shadow(0px 1px 2px rgba(0, 0, 0, 0.3));\n",
       "      fill: #FFFFFF;\n",
       "    }\n",
       "  </style>\n",
       "\n",
       "      <script>\n",
       "        const buttonEl =\n",
       "          document.querySelector('#df-753d8a1d-d0cb-4b4d-903d-01922861c10d button.colab-df-convert');\n",
       "        buttonEl.style.display =\n",
       "          google.colab.kernel.accessAllowed ? 'block' : 'none';\n",
       "\n",
       "        async function convertToInteractive(key) {\n",
       "          const element = document.querySelector('#df-753d8a1d-d0cb-4b4d-903d-01922861c10d');\n",
       "          const dataTable =\n",
       "            await google.colab.kernel.invokeFunction('convertToInteractive',\n",
       "                                                     [key], {});\n",
       "          if (!dataTable) return;\n",
       "\n",
       "          const docLinkHtml = 'Like what you see? Visit the ' +\n",
       "            '<a target=\"_blank\" href=https://colab.research.google.com/notebooks/data_table.ipynb>data table notebook</a>'\n",
       "            + ' to learn more about interactive tables.';\n",
       "          element.innerHTML = '';\n",
       "          dataTable['output_type'] = 'display_data';\n",
       "          await google.colab.output.renderOutput(dataTable, element);\n",
       "          const docLink = document.createElement('div');\n",
       "          docLink.innerHTML = docLinkHtml;\n",
       "          element.appendChild(docLink);\n",
       "        }\n",
       "      </script>\n",
       "    </div>\n",
       "  </div>\n",
       "  "
      ],
      "text/plain": [
       "    Suicide rate predicted  Suicide rate\n",
       "0                12.490727          11.9\n",
       "1                22.981552          25.3\n",
       "2                 9.189130          10.0\n",
       "3                10.427228          10.7\n",
       "4                15.594228          15.8\n",
       "..                     ...           ...\n",
       "91               27.595531          28.0\n",
       "92               26.679342          27.6\n",
       "93               12.424695          11.7\n",
       "94                9.271669          10.3\n",
       "95               15.990419          15.9\n",
       "\n",
       "[96 rows x 2 columns]"
      ]
     },
     "execution_count": 107,
     "metadata": {},
     "output_type": "execute_result"
    }
   ],
   "source": [
    "pred"
   ]
  },
  {
   "cell_type": "code",
   "execution_count": null,
   "metadata": {
    "id": "5Kv07QZMTP-b"
   },
   "outputs": [],
   "source": [
    "pred['Year'] = X_test['Year'].values.reshape(96)"
   ]
  },
  {
   "cell_type": "code",
   "execution_count": null,
   "metadata": {
    "colab": {
     "base_uri": "https://localhost:8080/",
     "height": 424
    },
    "id": "R6qmbspqUCaA",
    "outputId": "ca37191f-0246-4546-8178-8b7083acdf7f"
   },
   "outputs": [
    {
     "data": {
      "text/html": [
       "\n",
       "  <div id=\"df-9f18bc13-7a88-43c3-ad9a-06868533ded7\">\n",
       "    <div class=\"colab-df-container\">\n",
       "      <div>\n",
       "<style scoped>\n",
       "    .dataframe tbody tr th:only-of-type {\n",
       "        vertical-align: middle;\n",
       "    }\n",
       "\n",
       "    .dataframe tbody tr th {\n",
       "        vertical-align: top;\n",
       "    }\n",
       "\n",
       "    .dataframe thead th {\n",
       "        text-align: right;\n",
       "    }\n",
       "</style>\n",
       "<table border=\"1\" class=\"dataframe\">\n",
       "  <thead>\n",
       "    <tr style=\"text-align: right;\">\n",
       "      <th></th>\n",
       "      <th>Suicide rate predicted</th>\n",
       "      <th>Suicide rate</th>\n",
       "      <th>Year</th>\n",
       "    </tr>\n",
       "  </thead>\n",
       "  <tbody>\n",
       "    <tr>\n",
       "      <th>0</th>\n",
       "      <td>12.490727</td>\n",
       "      <td>11.9</td>\n",
       "      <td>9</td>\n",
       "    </tr>\n",
       "    <tr>\n",
       "      <th>1</th>\n",
       "      <td>22.981552</td>\n",
       "      <td>25.3</td>\n",
       "      <td>10</td>\n",
       "    </tr>\n",
       "    <tr>\n",
       "      <th>2</th>\n",
       "      <td>9.189130</td>\n",
       "      <td>10.0</td>\n",
       "      <td>15</td>\n",
       "    </tr>\n",
       "    <tr>\n",
       "      <th>3</th>\n",
       "      <td>10.427228</td>\n",
       "      <td>10.7</td>\n",
       "      <td>13</td>\n",
       "    </tr>\n",
       "    <tr>\n",
       "      <th>4</th>\n",
       "      <td>15.594228</td>\n",
       "      <td>15.8</td>\n",
       "      <td>4</td>\n",
       "    </tr>\n",
       "    <tr>\n",
       "      <th>...</th>\n",
       "      <td>...</td>\n",
       "      <td>...</td>\n",
       "      <td>...</td>\n",
       "    </tr>\n",
       "    <tr>\n",
       "      <th>91</th>\n",
       "      <td>27.595531</td>\n",
       "      <td>28.0</td>\n",
       "      <td>4</td>\n",
       "    </tr>\n",
       "    <tr>\n",
       "      <th>92</th>\n",
       "      <td>26.679342</td>\n",
       "      <td>27.6</td>\n",
       "      <td>11</td>\n",
       "    </tr>\n",
       "    <tr>\n",
       "      <th>93</th>\n",
       "      <td>12.424695</td>\n",
       "      <td>11.7</td>\n",
       "      <td>7</td>\n",
       "    </tr>\n",
       "    <tr>\n",
       "      <th>94</th>\n",
       "      <td>9.271669</td>\n",
       "      <td>10.3</td>\n",
       "      <td>18</td>\n",
       "    </tr>\n",
       "    <tr>\n",
       "      <th>95</th>\n",
       "      <td>15.990419</td>\n",
       "      <td>15.9</td>\n",
       "      <td>7</td>\n",
       "    </tr>\n",
       "  </tbody>\n",
       "</table>\n",
       "<p>96 rows × 3 columns</p>\n",
       "</div>\n",
       "      <button class=\"colab-df-convert\" onclick=\"convertToInteractive('df-9f18bc13-7a88-43c3-ad9a-06868533ded7')\"\n",
       "              title=\"Convert this dataframe to an interactive table.\"\n",
       "              style=\"display:none;\">\n",
       "        \n",
       "  <svg xmlns=\"http://www.w3.org/2000/svg\" height=\"24px\"viewBox=\"0 0 24 24\"\n",
       "       width=\"24px\">\n",
       "    <path d=\"M0 0h24v24H0V0z\" fill=\"none\"/>\n",
       "    <path d=\"M18.56 5.44l.94 2.06.94-2.06 2.06-.94-2.06-.94-.94-2.06-.94 2.06-2.06.94zm-11 1L8.5 8.5l.94-2.06 2.06-.94-2.06-.94L8.5 2.5l-.94 2.06-2.06.94zm10 10l.94 2.06.94-2.06 2.06-.94-2.06-.94-.94-2.06-.94 2.06-2.06.94z\"/><path d=\"M17.41 7.96l-1.37-1.37c-.4-.4-.92-.59-1.43-.59-.52 0-1.04.2-1.43.59L10.3 9.45l-7.72 7.72c-.78.78-.78 2.05 0 2.83L4 21.41c.39.39.9.59 1.41.59.51 0 1.02-.2 1.41-.59l7.78-7.78 2.81-2.81c.8-.78.8-2.07 0-2.86zM5.41 20L4 18.59l7.72-7.72 1.47 1.35L5.41 20z\"/>\n",
       "  </svg>\n",
       "      </button>\n",
       "      \n",
       "  <style>\n",
       "    .colab-df-container {\n",
       "      display:flex;\n",
       "      flex-wrap:wrap;\n",
       "      gap: 12px;\n",
       "    }\n",
       "\n",
       "    .colab-df-convert {\n",
       "      background-color: #E8F0FE;\n",
       "      border: none;\n",
       "      border-radius: 50%;\n",
       "      cursor: pointer;\n",
       "      display: none;\n",
       "      fill: #1967D2;\n",
       "      height: 32px;\n",
       "      padding: 0 0 0 0;\n",
       "      width: 32px;\n",
       "    }\n",
       "\n",
       "    .colab-df-convert:hover {\n",
       "      background-color: #E2EBFA;\n",
       "      box-shadow: 0px 1px 2px rgba(60, 64, 67, 0.3), 0px 1px 3px 1px rgba(60, 64, 67, 0.15);\n",
       "      fill: #174EA6;\n",
       "    }\n",
       "\n",
       "    [theme=dark] .colab-df-convert {\n",
       "      background-color: #3B4455;\n",
       "      fill: #D2E3FC;\n",
       "    }\n",
       "\n",
       "    [theme=dark] .colab-df-convert:hover {\n",
       "      background-color: #434B5C;\n",
       "      box-shadow: 0px 1px 3px 1px rgba(0, 0, 0, 0.15);\n",
       "      filter: drop-shadow(0px 1px 2px rgba(0, 0, 0, 0.3));\n",
       "      fill: #FFFFFF;\n",
       "    }\n",
       "  </style>\n",
       "\n",
       "      <script>\n",
       "        const buttonEl =\n",
       "          document.querySelector('#df-9f18bc13-7a88-43c3-ad9a-06868533ded7 button.colab-df-convert');\n",
       "        buttonEl.style.display =\n",
       "          google.colab.kernel.accessAllowed ? 'block' : 'none';\n",
       "\n",
       "        async function convertToInteractive(key) {\n",
       "          const element = document.querySelector('#df-9f18bc13-7a88-43c3-ad9a-06868533ded7');\n",
       "          const dataTable =\n",
       "            await google.colab.kernel.invokeFunction('convertToInteractive',\n",
       "                                                     [key], {});\n",
       "          if (!dataTable) return;\n",
       "\n",
       "          const docLinkHtml = 'Like what you see? Visit the ' +\n",
       "            '<a target=\"_blank\" href=https://colab.research.google.com/notebooks/data_table.ipynb>data table notebook</a>'\n",
       "            + ' to learn more about interactive tables.';\n",
       "          element.innerHTML = '';\n",
       "          dataTable['output_type'] = 'display_data';\n",
       "          await google.colab.output.renderOutput(dataTable, element);\n",
       "          const docLink = document.createElement('div');\n",
       "          docLink.innerHTML = docLinkHtml;\n",
       "          element.appendChild(docLink);\n",
       "        }\n",
       "      </script>\n",
       "    </div>\n",
       "  </div>\n",
       "  "
      ],
      "text/plain": [
       "    Suicide rate predicted  Suicide rate  Year\n",
       "0                12.490727          11.9     9\n",
       "1                22.981552          25.3    10\n",
       "2                 9.189130          10.0    15\n",
       "3                10.427228          10.7    13\n",
       "4                15.594228          15.8     4\n",
       "..                     ...           ...   ...\n",
       "91               27.595531          28.0     4\n",
       "92               26.679342          27.6    11\n",
       "93               12.424695          11.7     7\n",
       "94                9.271669          10.3    18\n",
       "95               15.990419          15.9     7\n",
       "\n",
       "[96 rows x 3 columns]"
      ]
     },
     "execution_count": 109,
     "metadata": {},
     "output_type": "execute_result"
    }
   ],
   "source": [
    "pred"
   ]
  },
  {
   "cell_type": "code",
   "execution_count": null,
   "metadata": {
    "id": "4Ah6beVdT4gR"
   },
   "outputs": [],
   "source": [
    "pred = pred.sort_values(by='Year')"
   ]
  },
  {
   "cell_type": "code",
   "execution_count": null,
   "metadata": {
    "colab": {
     "base_uri": "https://localhost:8080/",
     "height": 424
    },
    "id": "hnKz4jc-UWW8",
    "outputId": "478d8cd1-d2b8-4418-bd2e-183cb7b379ba"
   },
   "outputs": [
    {
     "data": {
      "text/html": [
       "\n",
       "  <div id=\"df-9e95ce4b-9947-40d1-8c16-37c90f71bdf4\">\n",
       "    <div class=\"colab-df-container\">\n",
       "      <div>\n",
       "<style scoped>\n",
       "    .dataframe tbody tr th:only-of-type {\n",
       "        vertical-align: middle;\n",
       "    }\n",
       "\n",
       "    .dataframe tbody tr th {\n",
       "        vertical-align: top;\n",
       "    }\n",
       "\n",
       "    .dataframe thead th {\n",
       "        text-align: right;\n",
       "    }\n",
       "</style>\n",
       "<table border=\"1\" class=\"dataframe\">\n",
       "  <thead>\n",
       "    <tr style=\"text-align: right;\">\n",
       "      <th></th>\n",
       "      <th>Suicide rate predicted</th>\n",
       "      <th>Suicide rate</th>\n",
       "      <th>Year</th>\n",
       "    </tr>\n",
       "  </thead>\n",
       "  <tbody>\n",
       "    <tr>\n",
       "      <th>49</th>\n",
       "      <td>25.631083</td>\n",
       "      <td>25.6</td>\n",
       "      <td>0</td>\n",
       "    </tr>\n",
       "    <tr>\n",
       "      <th>51</th>\n",
       "      <td>10.031037</td>\n",
       "      <td>8.8</td>\n",
       "      <td>0</td>\n",
       "    </tr>\n",
       "    <tr>\n",
       "      <th>35</th>\n",
       "      <td>8.619603</td>\n",
       "      <td>11.1</td>\n",
       "      <td>0</td>\n",
       "    </tr>\n",
       "    <tr>\n",
       "      <th>81</th>\n",
       "      <td>20.398052</td>\n",
       "      <td>17.3</td>\n",
       "      <td>0</td>\n",
       "    </tr>\n",
       "    <tr>\n",
       "      <th>82</th>\n",
       "      <td>8.883732</td>\n",
       "      <td>7.7</td>\n",
       "      <td>0</td>\n",
       "    </tr>\n",
       "    <tr>\n",
       "      <th>...</th>\n",
       "      <td>...</td>\n",
       "      <td>...</td>\n",
       "      <td>...</td>\n",
       "    </tr>\n",
       "    <tr>\n",
       "      <th>37</th>\n",
       "      <td>21.892023</td>\n",
       "      <td>23.1</td>\n",
       "      <td>17</td>\n",
       "    </tr>\n",
       "    <tr>\n",
       "      <th>8</th>\n",
       "      <td>15.379624</td>\n",
       "      <td>14.8</td>\n",
       "      <td>18</td>\n",
       "    </tr>\n",
       "    <tr>\n",
       "      <th>94</th>\n",
       "      <td>9.271669</td>\n",
       "      <td>10.3</td>\n",
       "      <td>18</td>\n",
       "    </tr>\n",
       "    <tr>\n",
       "      <th>34</th>\n",
       "      <td>9.965005</td>\n",
       "      <td>9.6</td>\n",
       "      <td>19</td>\n",
       "    </tr>\n",
       "    <tr>\n",
       "      <th>84</th>\n",
       "      <td>12.730093</td>\n",
       "      <td>14.4</td>\n",
       "      <td>19</td>\n",
       "    </tr>\n",
       "  </tbody>\n",
       "</table>\n",
       "<p>96 rows × 3 columns</p>\n",
       "</div>\n",
       "      <button class=\"colab-df-convert\" onclick=\"convertToInteractive('df-9e95ce4b-9947-40d1-8c16-37c90f71bdf4')\"\n",
       "              title=\"Convert this dataframe to an interactive table.\"\n",
       "              style=\"display:none;\">\n",
       "        \n",
       "  <svg xmlns=\"http://www.w3.org/2000/svg\" height=\"24px\"viewBox=\"0 0 24 24\"\n",
       "       width=\"24px\">\n",
       "    <path d=\"M0 0h24v24H0V0z\" fill=\"none\"/>\n",
       "    <path d=\"M18.56 5.44l.94 2.06.94-2.06 2.06-.94-2.06-.94-.94-2.06-.94 2.06-2.06.94zm-11 1L8.5 8.5l.94-2.06 2.06-.94-2.06-.94L8.5 2.5l-.94 2.06-2.06.94zm10 10l.94 2.06.94-2.06 2.06-.94-2.06-.94-.94-2.06-.94 2.06-2.06.94z\"/><path d=\"M17.41 7.96l-1.37-1.37c-.4-.4-.92-.59-1.43-.59-.52 0-1.04.2-1.43.59L10.3 9.45l-7.72 7.72c-.78.78-.78 2.05 0 2.83L4 21.41c.39.39.9.59 1.41.59.51 0 1.02-.2 1.41-.59l7.78-7.78 2.81-2.81c.8-.78.8-2.07 0-2.86zM5.41 20L4 18.59l7.72-7.72 1.47 1.35L5.41 20z\"/>\n",
       "  </svg>\n",
       "      </button>\n",
       "      \n",
       "  <style>\n",
       "    .colab-df-container {\n",
       "      display:flex;\n",
       "      flex-wrap:wrap;\n",
       "      gap: 12px;\n",
       "    }\n",
       "\n",
       "    .colab-df-convert {\n",
       "      background-color: #E8F0FE;\n",
       "      border: none;\n",
       "      border-radius: 50%;\n",
       "      cursor: pointer;\n",
       "      display: none;\n",
       "      fill: #1967D2;\n",
       "      height: 32px;\n",
       "      padding: 0 0 0 0;\n",
       "      width: 32px;\n",
       "    }\n",
       "\n",
       "    .colab-df-convert:hover {\n",
       "      background-color: #E2EBFA;\n",
       "      box-shadow: 0px 1px 2px rgba(60, 64, 67, 0.3), 0px 1px 3px 1px rgba(60, 64, 67, 0.15);\n",
       "      fill: #174EA6;\n",
       "    }\n",
       "\n",
       "    [theme=dark] .colab-df-convert {\n",
       "      background-color: #3B4455;\n",
       "      fill: #D2E3FC;\n",
       "    }\n",
       "\n",
       "    [theme=dark] .colab-df-convert:hover {\n",
       "      background-color: #434B5C;\n",
       "      box-shadow: 0px 1px 3px 1px rgba(0, 0, 0, 0.15);\n",
       "      filter: drop-shadow(0px 1px 2px rgba(0, 0, 0, 0.3));\n",
       "      fill: #FFFFFF;\n",
       "    }\n",
       "  </style>\n",
       "\n",
       "      <script>\n",
       "        const buttonEl =\n",
       "          document.querySelector('#df-9e95ce4b-9947-40d1-8c16-37c90f71bdf4 button.colab-df-convert');\n",
       "        buttonEl.style.display =\n",
       "          google.colab.kernel.accessAllowed ? 'block' : 'none';\n",
       "\n",
       "        async function convertToInteractive(key) {\n",
       "          const element = document.querySelector('#df-9e95ce4b-9947-40d1-8c16-37c90f71bdf4');\n",
       "          const dataTable =\n",
       "            await google.colab.kernel.invokeFunction('convertToInteractive',\n",
       "                                                     [key], {});\n",
       "          if (!dataTable) return;\n",
       "\n",
       "          const docLinkHtml = 'Like what you see? Visit the ' +\n",
       "            '<a target=\"_blank\" href=https://colab.research.google.com/notebooks/data_table.ipynb>data table notebook</a>'\n",
       "            + ' to learn more about interactive tables.';\n",
       "          element.innerHTML = '';\n",
       "          dataTable['output_type'] = 'display_data';\n",
       "          await google.colab.output.renderOutput(dataTable, element);\n",
       "          const docLink = document.createElement('div');\n",
       "          docLink.innerHTML = docLinkHtml;\n",
       "          element.appendChild(docLink);\n",
       "        }\n",
       "      </script>\n",
       "    </div>\n",
       "  </div>\n",
       "  "
      ],
      "text/plain": [
       "    Suicide rate predicted  Suicide rate  Year\n",
       "49               25.631083          25.6     0\n",
       "51               10.031037           8.8     0\n",
       "35                8.619603          11.1     0\n",
       "81               20.398052          17.3     0\n",
       "82                8.883732           7.7     0\n",
       "..                     ...           ...   ...\n",
       "37               21.892023          23.1    17\n",
       "8                15.379624          14.8    18\n",
       "94                9.271669          10.3    18\n",
       "34                9.965005           9.6    19\n",
       "84               12.730093          14.4    19\n",
       "\n",
       "[96 rows x 3 columns]"
      ]
     },
     "execution_count": 111,
     "metadata": {},
     "output_type": "execute_result"
    }
   ],
   "source": [
    "pred"
   ]
  },
  {
   "cell_type": "code",
   "execution_count": null,
   "metadata": {
    "colab": {
     "base_uri": "https://localhost:8080/"
    },
    "id": "mP7ytgHiFt1H",
    "outputId": "685bb791-2b0c-4c22-e31c-39d179986cd4"
   },
   "outputs": [
    {
     "data": {
      "text/plain": [
       "49     0\n",
       "51     0\n",
       "35     0\n",
       "81     0\n",
       "82     0\n",
       "      ..\n",
       "37    17\n",
       "8     18\n",
       "94    18\n",
       "34    19\n",
       "84    19\n",
       "Name: Year, Length: 96, dtype: int64"
      ]
     },
     "execution_count": 115,
     "metadata": {},
     "output_type": "execute_result"
    }
   ],
   "source": [
    "pred['Year']"
   ]
  },
  {
   "cell_type": "code",
   "execution_count": null,
   "metadata": {
    "colab": {
     "base_uri": "https://localhost:8080/"
    },
    "id": "vnEzNVEHj6ha",
    "outputId": "3e7f90a4-67bc-4960-bfe4-5ea395611593"
   },
   "outputs": [
    {
     "data": {
      "text/plain": [
       "array([ 9, 10, 15, 13,  4,  6, 14,  1, 18,  0, 12,  5, 17,  8,  7, 19, 16,\n",
       "       11,  3,  2])"
      ]
     },
     "execution_count": 117,
     "metadata": {},
     "output_type": "execute_result"
    }
   ],
   "source": [
    "X_test['Year'].unique()"
   ]
  },
  {
   "cell_type": "code",
   "execution_count": null,
   "metadata": {
    "id": "oKTc50S8gZMf"
   },
   "outputs": [],
   "source": [
    "y_predicted_axis = []\n",
    "for i in range(20):\n",
    "  y_predicted_axis.append(pred['Suicide rate predicted'].loc[pred['Year']==i].median())"
   ]
  },
  {
   "cell_type": "code",
   "execution_count": null,
   "metadata": {
    "id": "QP7Swq-_i-Lm"
   },
   "outputs": [],
   "source": [
    "y_predicted_axis = np.array(y_predicted_axis)"
   ]
  },
  {
   "cell_type": "code",
   "execution_count": null,
   "metadata": {
    "colab": {
     "base_uri": "https://localhost:8080/"
    },
    "id": "z8eDmZKXjvTg",
    "outputId": "7ae9aa9b-e528-4e3d-da03-51aebda511a6"
   },
   "outputs": [
    {
     "data": {
      "text/plain": [
       "array([20.15868568, 15.13613129, 19.38281059, 11.17834187, 16.0729599 ,\n",
       "       15.86660957,  9.30055809, 11.56627941, 12.21834469, 12.49072742,\n",
       "       12.51136017, 16.56407356, 13.06025219, 10.42722797, 12.35866356,\n",
       "       12.21834469,  8.97452545, 13.91866684, 12.32564735, 11.34754944])"
      ]
     },
     "execution_count": 120,
     "metadata": {},
     "output_type": "execute_result"
    }
   ],
   "source": [
    "y_predicted_axis"
   ]
  },
  {
   "cell_type": "code",
   "execution_count": null,
   "metadata": {
    "id": "sRENS0gvg7gM"
   },
   "outputs": [],
   "source": [
    "y_actual_axis = []\n",
    "for i in range(20):\n",
    "  y_actual_axis.append(pred['Suicide rate'].loc[pred['Year']==i].median())"
   ]
  },
  {
   "cell_type": "code",
   "execution_count": null,
   "metadata": {
    "id": "8-kCY4i7jOT6"
   },
   "outputs": [],
   "source": [
    "y_actual_axis = np.array(y_actual_axis)"
   ]
  },
  {
   "cell_type": "code",
   "execution_count": null,
   "metadata": {
    "colab": {
     "base_uri": "https://localhost:8080/"
    },
    "id": "UcqkYGxzilbN",
    "outputId": "74ecff16-e8b0-42e9-81fc-371c7b3fab9d"
   },
   "outputs": [
    {
     "data": {
      "text/plain": [
       "array([17.3 , 16.1 , 16.9 , 11.5 , 16.8 , 16.1 ,  9.4 , 11.7 , 11.7 ,\n",
       "       12.1 , 13.05, 17.  , 13.05, 10.7 , 12.8 , 12.6 , 10.2 , 13.25,\n",
       "       12.55, 12.  ])"
      ]
     },
     "execution_count": 123,
     "metadata": {},
     "output_type": "execute_result"
    }
   ],
   "source": [
    "y_actual_axis"
   ]
  },
  {
   "cell_type": "code",
   "execution_count": null,
   "metadata": {
    "id": "uBu3zZ3jhPTO"
   },
   "outputs": [],
   "source": [
    "x = np.array(list(pred['Year'].unique()))"
   ]
  },
  {
   "cell_type": "code",
   "execution_count": null,
   "metadata": {
    "colab": {
     "base_uri": "https://localhost:8080/"
    },
    "id": "WxE5xP_aiJUk",
    "outputId": "ce037bae-f1ec-4634-eb6c-20c021f1ada0"
   },
   "outputs": [
    {
     "data": {
      "text/plain": [
       "array([2000, 2001, 2002, 2003, 2004, 2005, 2006, 2007, 2008, 2009, 2010,\n",
       "       2011, 2012, 2013, 2014, 2015, 2016, 2017, 2018, 2019])"
      ]
     },
     "execution_count": 126,
     "metadata": {},
     "output_type": "execute_result"
    }
   ],
   "source": [
    "x = np.arange(2000,2020)\n",
    "x"
   ]
  },
  {
   "cell_type": "code",
   "execution_count": null,
   "metadata": {
    "colab": {
     "base_uri": "https://localhost:8080/",
     "height": 486
    },
    "id": "LmUvhRLY0Okl",
    "outputId": "66e59534-75e6-4a33-87ba-faff31c5e87a"
   },
   "outputs": [
    {
     "data": {
      "text/plain": [
       "([<matplotlib.axis.XTick at 0x7f9ad894d350>,\n",
       "  <matplotlib.axis.XTick at 0x7f9ad894d6d0>,\n",
       "  <matplotlib.axis.XTick at 0x7f9ad888ad50>,\n",
       "  <matplotlib.axis.XTick at 0x7f9ad881f750>,\n",
       "  <matplotlib.axis.XTick at 0x7f9ad881fc50>,\n",
       "  <matplotlib.axis.XTick at 0x7f9ad8826290>,\n",
       "  <matplotlib.axis.XTick at 0x7f9ad8826750>,\n",
       "  <matplotlib.axis.XTick at 0x7f9ad8826650>,\n",
       "  <matplotlib.axis.XTick at 0x7f9ad882c250>,\n",
       "  <matplotlib.axis.XTick at 0x7f9ad882c750>],\n",
       " <a list of 10 Text major ticklabel objects>)"
      ]
     },
     "execution_count": 132,
     "metadata": {},
     "output_type": "execute_result"
    },
    {
     "data": {
      "image/png": "[encoded data removed]",
      "text/plain": [
       "<Figure size 432x288 with 1 Axes>"
      ]
     },
     "metadata": {
      "needs_background": "light"
     },
     "output_type": "display_data"
    }
   ],
   "source": [
    "\n",
    "sns.lineplot(x=pred['Year'],y=pred['Suicide rate'],ci=None,dashes=False).grid(axis='y')\n",
    "sns.lineplot(x=pred['Year'],y=pred['Suicide rate predicted'],ci=None)\n",
    "plt.legend(['Actual','Predicted'])\n",
    "plt.title('Actual vs Predicted Suicide Rate for Low income group', fontsize=12, fontweight='bold')\n",
    "plt.xticks(np.arange(0,20,2))\n"
   ]
  },
  {
   "cell_type": "code",
   "execution_count": null,
   "metadata": {
    "colab": {
     "base_uri": "https://localhost:8080/",
     "height": 474
    },
    "id": "WbAgL-44TbQB",
    "outputId": "e6c2ceb0-0337-4e7d-ab18-80d4f1bff09a"
   },
   "outputs": [
    {
     "data": {
      "text/plain": [
       "([<matplotlib.axis.XTick at 0x7f9ad89f78d0>,\n",
       "  <matplotlib.axis.XTick at 0x7f9ad89f7a10>,\n",
       "  <matplotlib.axis.XTick at 0x7f9ad8981790>,\n",
       "  <matplotlib.axis.XTick at 0x7f9ad8916390>,\n",
       "  <matplotlib.axis.XTick at 0x7f9ad8916750>,\n",
       "  <matplotlib.axis.XTick at 0x7f9ad89165d0>,\n",
       "  <matplotlib.axis.XTick at 0x7f9ad891c290>,\n",
       "  <matplotlib.axis.XTick at 0x7f9ad891c790>,\n",
       "  <matplotlib.axis.XTick at 0x7f9ad891c610>,\n",
       "  <matplotlib.axis.XTick at 0x7f9ad8922290>],\n",
       " <a list of 10 Text major ticklabel objects>)"
      ]
     },
     "execution_count": 130,
     "metadata": {},
     "output_type": "execute_result"
    },
    {
     "data": {
      "image/png": "[encoded data removed]",
      "text/plain": [
       "<Figure size 432x288 with 1 Axes>"
      ]
     },
     "metadata": {
      "needs_background": "light"
     },
     "output_type": "display_data"
    }
   ],
   "source": [
    "sns.lineplot(y=df.loc[df['Income group']=='Low income']['Suicide rate'],x=df.loc[df['Income group']=='Low income']['Year'],ci=None,dashes=False).grid(axis='y')\n",
    "#sns.lineplot(x=pred['Year'],y=pred['Suicide rate predicted'],ci=None)\n",
    "#plt.legend(['Actual','Predicted'])\n",
    "#plt.title('Actual vs Predicted Suicide Rate for High income group', fontsize=12, fontweight='bold')\n",
    "plt.xticks(np.arange(2000,2020,2))"
   ]
  },
  {
   "cell_type": "markdown",
   "metadata": {
    "id": "r4NQ2cDOe1ej"
   },
   "source": [
    "# Comparision of Models"
   ]
  },
  {
   "cell_type": "code",
   "execution_count": null,
   "metadata": {
    "id": "oWren0b1e1w5"
   },
   "outputs": [],
   "source": [
    "#creating dataframe\n",
    "results = pd.DataFrame({ 'ML Model': ML_Model,    \n",
    "    'Train Accuracy': acc_train,\n",
    "    'Test Accuracy': acc_test,\n",
    "    'Train MSE':mse_train,\n",
    "    'Test MSE': mse_test,\n",
    "    'Train RMSE': rmse_train,\n",
    "    'Test RMSE': rmse_test,\n",
    "    'Train MAE': mae_train,\n",
    "    'Test MAE': mae_test,\n",
    "    })"
   ]
  },
  {
   "cell_type": "code",
   "execution_count": null,
   "metadata": {
    "colab": {
     "base_uri": "https://localhost:8080/",
     "height": 336
    },
    "id": "DLvYfEE_sh55",
    "outputId": "305ab8a3-a324-40ac-e9ee-f5c87ba52b9d"
   },
   "outputs": [
    {
     "data": {
      "text/html": [
       "\n",
       "  <div id=\"df-1a879889-ca4d-493c-8563-6d9d8a3bf019\">\n",
       "    <div class=\"colab-df-container\">\n",
       "      <div>\n",
       "<style scoped>\n",
       "    .dataframe tbody tr th:only-of-type {\n",
       "        vertical-align: middle;\n",
       "    }\n",
       "\n",
       "    .dataframe tbody tr th {\n",
       "        vertical-align: top;\n",
       "    }\n",
       "\n",
       "    .dataframe thead th {\n",
       "        text-align: right;\n",
       "    }\n",
       "</style>\n",
       "<table border=\"1\" class=\"dataframe\">\n",
       "  <thead>\n",
       "    <tr style=\"text-align: right;\">\n",
       "      <th></th>\n",
       "      <th>ML Model</th>\n",
       "      <th>Train Accuracy</th>\n",
       "      <th>Test Accuracy</th>\n",
       "      <th>Train MSE</th>\n",
       "      <th>Test MSE</th>\n",
       "      <th>Train RMSE</th>\n",
       "      <th>Test RMSE</th>\n",
       "      <th>Train MAE</th>\n",
       "      <th>Test MAE</th>\n",
       "    </tr>\n",
       "  </thead>\n",
       "  <tbody>\n",
       "    <tr>\n",
       "      <th>0</th>\n",
       "      <td>k-Nearest Neighbors Regression</td>\n",
       "      <td>1.00000</td>\n",
       "      <td>0.92667</td>\n",
       "      <td>0.00000</td>\n",
       "      <td>0.00027</td>\n",
       "      <td>0.00000</td>\n",
       "      <td>0.01649</td>\n",
       "      <td>0.00000</td>\n",
       "      <td>0.00809</td>\n",
       "    </tr>\n",
       "    <tr>\n",
       "      <th>1</th>\n",
       "      <td>Linear Regression</td>\n",
       "      <td>0.86022</td>\n",
       "      <td>0.84154</td>\n",
       "      <td>0.00053</td>\n",
       "      <td>0.00059</td>\n",
       "      <td>0.02294</td>\n",
       "      <td>0.02424</td>\n",
       "      <td>0.01773</td>\n",
       "      <td>0.01862</td>\n",
       "    </tr>\n",
       "    <tr>\n",
       "      <th>2</th>\n",
       "      <td>Decision Tree</td>\n",
       "      <td>0.99248</td>\n",
       "      <td>0.93068</td>\n",
       "      <td>0.00003</td>\n",
       "      <td>0.00026</td>\n",
       "      <td>0.00532</td>\n",
       "      <td>0.01603</td>\n",
       "      <td>0.00307</td>\n",
       "      <td>0.00986</td>\n",
       "    </tr>\n",
       "    <tr>\n",
       "      <th>3</th>\n",
       "      <td>XGBoost Regression</td>\n",
       "      <td>0.99704</td>\n",
       "      <td>0.96114</td>\n",
       "      <td>0.00001</td>\n",
       "      <td>0.00014</td>\n",
       "      <td>0.00334</td>\n",
       "      <td>0.01200</td>\n",
       "      <td>0.00247</td>\n",
       "      <td>0.00774</td>\n",
       "    </tr>\n",
       "    <tr>\n",
       "      <th>4</th>\n",
       "      <td>Bagging Regression</td>\n",
       "      <td>0.92774</td>\n",
       "      <td>0.82400</td>\n",
       "      <td>0.00027</td>\n",
       "      <td>0.00065</td>\n",
       "      <td>0.01649</td>\n",
       "      <td>0.02555</td>\n",
       "      <td>0.00409</td>\n",
       "      <td>0.01116</td>\n",
       "    </tr>\n",
       "    <tr>\n",
       "      <th>5</th>\n",
       "      <td>Ensemble_SuperLearner</td>\n",
       "      <td>0.97824</td>\n",
       "      <td>0.94713</td>\n",
       "      <td>0.00008</td>\n",
       "      <td>0.00020</td>\n",
       "      <td>0.00905</td>\n",
       "      <td>0.01400</td>\n",
       "      <td>0.00619</td>\n",
       "      <td>0.00968</td>\n",
       "    </tr>\n",
       "  </tbody>\n",
       "</table>\n",
       "</div>\n",
       "      <button class=\"colab-df-convert\" onclick=\"convertToInteractive('df-1a879889-ca4d-493c-8563-6d9d8a3bf019')\"\n",
       "              title=\"Convert this dataframe to an interactive table.\"\n",
       "              style=\"display:none;\">\n",
       "        \n",
       "  <svg xmlns=\"http://www.w3.org/2000/svg\" height=\"24px\"viewBox=\"0 0 24 24\"\n",
       "       width=\"24px\">\n",
       "    <path d=\"M0 0h24v24H0V0z\" fill=\"none\"/>\n",
       "    <path d=\"M18.56 5.44l.94 2.06.94-2.06 2.06-.94-2.06-.94-.94-2.06-.94 2.06-2.06.94zm-11 1L8.5 8.5l.94-2.06 2.06-.94-2.06-.94L8.5 2.5l-.94 2.06-2.06.94zm10 10l.94 2.06.94-2.06 2.06-.94-2.06-.94-.94-2.06-.94 2.06-2.06.94z\"/><path d=\"M17.41 7.96l-1.37-1.37c-.4-.4-.92-.59-1.43-.59-.52 0-1.04.2-1.43.59L10.3 9.45l-7.72 7.72c-.78.78-.78 2.05 0 2.83L4 21.41c.39.39.9.59 1.41.59.51 0 1.02-.2 1.41-.59l7.78-7.78 2.81-2.81c.8-.78.8-2.07 0-2.86zM5.41 20L4 18.59l7.72-7.72 1.47 1.35L5.41 20z\"/>\n",
       "  </svg>\n",
       "      </button>\n",
       "      \n",
       "  <style>\n",
       "    .colab-df-container {\n",
       "      display:flex;\n",
       "      flex-wrap:wrap;\n",
       "      gap: 12px;\n",
       "    }\n",
       "\n",
       "    .colab-df-convert {\n",
       "      background-color: #E8F0FE;\n",
       "      border: none;\n",
       "      border-radius: 50%;\n",
       "      cursor: pointer;\n",
       "      display: none;\n",
       "      fill: #1967D2;\n",
       "      height: 32px;\n",
       "      padding: 0 0 0 0;\n",
       "      width: 32px;\n",
       "    }\n",
       "\n",
       "    .colab-df-convert:hover {\n",
       "      background-color: #E2EBFA;\n",
       "      box-shadow: 0px 1px 2px rgba(60, 64, 67, 0.3), 0px 1px 3px 1px rgba(60, 64, 67, 0.15);\n",
       "      fill: #174EA6;\n",
       "    }\n",
       "\n",
       "    [theme=dark] .colab-df-convert {\n",
       "      background-color: #3B4455;\n",
       "      fill: #D2E3FC;\n",
       "    }\n",
       "\n",
       "    [theme=dark] .colab-df-convert:hover {\n",
       "      background-color: #434B5C;\n",
       "      box-shadow: 0px 1px 3px 1px rgba(0, 0, 0, 0.15);\n",
       "      filter: drop-shadow(0px 1px 2px rgba(0, 0, 0, 0.3));\n",
       "      fill: #FFFFFF;\n",
       "    }\n",
       "  </style>\n",
       "\n",
       "      <script>\n",
       "        const buttonEl =\n",
       "          document.querySelector('#df-1a879889-ca4d-493c-8563-6d9d8a3bf019 button.colab-df-convert');\n",
       "        buttonEl.style.display =\n",
       "          google.colab.kernel.accessAllowed ? 'block' : 'none';\n",
       "\n",
       "        async function convertToInteractive(key) {\n",
       "          const element = document.querySelector('#df-1a879889-ca4d-493c-8563-6d9d8a3bf019');\n",
       "          const dataTable =\n",
       "            await google.colab.kernel.invokeFunction('convertToInteractive',\n",
       "                                                     [key], {});\n",
       "          if (!dataTable) return;\n",
       "\n",
       "          const docLinkHtml = 'Like what you see? Visit the ' +\n",
       "            '<a target=\"_blank\" href=https://colab.research.google.com/notebooks/data_table.ipynb>data table notebook</a>'\n",
       "            + ' to learn more about interactive tables.';\n",
       "          element.innerHTML = '';\n",
       "          dataTable['output_type'] = 'display_data';\n",
       "          await google.colab.output.renderOutput(dataTable, element);\n",
       "          const docLink = document.createElement('div');\n",
       "          docLink.innerHTML = docLinkHtml;\n",
       "          element.appendChild(docLink);\n",
       "        }\n",
       "      </script>\n",
       "    </div>\n",
       "  </div>\n",
       "  "
      ],
      "text/plain": [
       "                         ML Model  Train Accuracy  Test Accuracy  Train MSE  \\\n",
       "0  k-Nearest Neighbors Regression         1.00000        0.92667    0.00000   \n",
       "1               Linear Regression         0.86022        0.84154    0.00053   \n",
       "2                   Decision Tree         0.99248        0.93068    0.00003   \n",
       "3              XGBoost Regression         0.99704        0.96114    0.00001   \n",
       "4              Bagging Regression         0.92774        0.82400    0.00027   \n",
       "5           Ensemble_SuperLearner         0.97824        0.94713    0.00008   \n",
       "\n",
       "   Test MSE  Train RMSE  Test RMSE  Train MAE  Test MAE  \n",
       "0   0.00027     0.00000    0.01649    0.00000   0.00809  \n",
       "1   0.00059     0.02294    0.02424    0.01773   0.01862  \n",
       "2   0.00026     0.00532    0.01603    0.00307   0.00986  \n",
       "3   0.00014     0.00334    0.01200    0.00247   0.00774  \n",
       "4   0.00065     0.01649    0.02555    0.00409   0.01116  \n",
       "5   0.00020     0.00905    0.01400    0.00619   0.00968  "
      ]
     },
     "execution_count": 705,
     "metadata": {},
     "output_type": "execute_result"
    }
   ],
   "source": [
    "results"
   ]
  },
  {
   "cell_type": "code",
   "execution_count": null,
   "metadata": {
    "id": "U_lRI92QLGJk"
   },
   "outputs": [],
   "source": []
  },
  {
   "cell_type": "code",
   "execution_count": null,
   "metadata": {
    "id": "qluDQDMSsjF0"
   },
   "outputs": [],
   "source": []
  }
 ],
 "metadata": {
  "colab": {
   "name": "BigData2022_Suicide_rate_model_prediction.ipynb",
   "provenance": [],
   "toc_visible": true
  },
  "kernelspec": {
   "display_name": "Python 3",
   "language": "python",
   "name": "python3"
  },
  "language_info": {
   "codemirror_mode": {
    "name": "ipython",
    "version": 3
   },
   "file_extension": ".py",
   "mimetype": "text/x-python",
   "name": "python",
   "nbconvert_exporter": "python",
   "pygments_lexer": "ipython3",
   "version": "3.9.5"
  }
 },
 "nbformat": 4,
 "nbformat_minor": 1
}
